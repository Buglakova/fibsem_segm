{
 "cells": [
  {
   "cell_type": "code",
   "execution_count": 7,
   "metadata": {},
   "outputs": [],
   "source": [
    "import numpy as np\n",
    "import matplotlib.pyplot as plt\n",
    "import z5py\n",
    "from pathlib import Path\n",
    "\n",
    "from cryofib.affine_utils import get_scaling_transform\n",
    "from cryofib.n5_utils import read_volume\n",
    "\n",
    "from scipy.ndimage import affine_transform"
   ]
  },
  {
   "cell_type": "markdown",
   "metadata": {},
   "source": [
    "## Set paths"
   ]
  },
  {
   "cell_type": "code",
   "execution_count": 4,
   "metadata": {},
   "outputs": [],
   "source": [
    "scratch_dir = Path(\"/scratch/buglakova/data/cryofib/registration_fluo/F107_A2_3dclem\")\n",
    "fluo_dir = scratch_dir / \"fluo\"\n",
    "fluo_n5_path = fluo_dir / \"fluo.n5\"\n",
    "segm_em_nuclei_dir = scratch_dir / \"segm_em_nuclei\"\n",
    "segm_em_nuclei_path = segm_em_nuclei_dir / \"em_nuclei.n5\"\n",
    "\n",
    "\n",
    "em_dir = scratch_dir / \"em\"\n",
    "em_n5_path = em_dir / \"em.n5\"\n",
    "\n",
    "f_fluo = z5py.File(fluo_n5_path, \"r\")\n",
    "f_em = z5py.File(em_n5_path, \"r\")\n",
    "f_segm_em_nuclei = z5py.File(segm_em_nuclei_path, \"r\")"
   ]
  },
  {
   "cell_type": "code",
   "execution_count": 10,
   "metadata": {},
   "outputs": [
    {
     "name": "stdout",
     "output_type": "stream",
     "text": [
      "Affine transform from napari\n",
      "[[ 9.97290717e-01 -7.35610333e-02 -0.00000000e+00 -1.29347738e+04]\n",
      " [-5.85773859e-03 -7.94152563e-02  9.96824410e-01  1.09508498e+05]\n",
      " [-7.33274336e-02 -9.94123730e-01 -7.96309992e-02  1.29746573e+05]\n",
      " [ 0.00000000e+00  0.00000000e+00  0.00000000e+00  1.00000000e+00]]\n",
      "Inverse\n",
      "[[ 9.97290717e-01 -5.85773859e-03 -7.33274336e-02  2.30551852e+04]\n",
      " [-7.35610333e-02 -7.94152563e-02 -9.94123730e-01  1.36729298e+05]\n",
      " [ 4.84526259e-19  9.96824410e-01 -7.96309992e-02 -9.88288947e+04]\n",
      " [ 0.00000000e+00  0.00000000e+00  0.00000000e+00  1.00000000e+00]]\n"
     ]
    }
   ],
   "source": [
    "ds = f_em[\"raw\"]\n",
    "resolution_em = ds.attrs[\"resolution\"]\n",
    "transform_key = \"ref_affine_transform\"\n",
    "R = np.array(ds.attrs[transform_key][\"R\"])\n",
    "print(\"Affine transform from napari\")\n",
    "print(R)\n",
    "R_inv = np.linalg.inv(R)\n",
    "print(\"Inverse\")\n",
    "print(R_inv)"
   ]
  },
  {
   "cell_type": "code",
   "execution_count": 11,
   "metadata": {},
   "outputs": [
    {
     "name": "stdout",
     "output_type": "stream",
     "text": [
      "Reading roi slice(None, None, None) of volume raw from /scratch/buglakova/data/cryofib/registration_fluo/F107_A2_3dclem/fluo/fluo.n5\n",
      "Read volume with shape (55, 3343, 1482), data type uint8\n"
     ]
    }
   ],
   "source": [
    "roi = np.s_[:]\n",
    "fluo = read_volume(f_fluo, \"raw\", roi)\n",
    "ds = f_fluo[\"raw\"]\n",
    "resolution_fluo = ds.attrs[\"resolution\"]"
   ]
  },
  {
   "cell_type": "code",
   "execution_count": 9,
   "metadata": {},
   "outputs": [
    {
     "name": "stdout",
     "output_type": "stream",
     "text": [
      "Reading roi slice(None, None, None) of volume raw from /scratch/buglakova/data/cryofib/registration_fluo/F107_A2_3dclem/em/em.n5\n",
      "Read volume with shape (1410, 1386, 1610), data type uint8\n"
     ]
    }
   ],
   "source": [
    "em = read_volume(f_em, \"raw\", roi)"
   ]
  },
  {
   "cell_type": "code",
   "execution_count": 21,
   "metadata": {},
   "outputs": [
    {
     "name": "stdout",
     "output_type": "stream",
     "text": [
      "[[5.40686672e-04 0.00000000e+00 0.00000000e+00 0.00000000e+00]\n",
      " [0.00000000e+00 4.51671183e-03 0.00000000e+00 0.00000000e+00]\n",
      " [0.00000000e+00 0.00000000e+00 4.51671183e-03 0.00000000e+00]\n",
      " [0.00000000e+00 0.00000000e+00 0.00000000e+00 1.00000000e+00]]\n"
     ]
    }
   ],
   "source": [
    "R_scale_fluo = get_scaling_transform([1/x for x in resolution_fluo])\n",
    "print(R_scale_fluo)"
   ]
  },
  {
   "cell_type": "code",
   "execution_count": 29,
   "metadata": {},
   "outputs": [
    {
     "name": "stdout",
     "output_type": "stream",
     "text": [
      "Resolution [1849.5, 221.4, 221.4]\n",
      "Shape (55, 3343, 1482)\n",
      "Output shape [101722, 740140, 328114]\n"
     ]
    }
   ],
   "source": [
    "print(\"Resolution\", resolution_fluo)\n",
    "print(\"Shape\", fluo.shape)\n",
    "fluo_scaled_shape = [int(x * scale) for x, scale in zip(resolution_fluo, fluo.shape)]\n",
    "print(\"Output shape\", fluo_scaled_shape)"
   ]
  },
  {
   "cell_type": "code",
   "execution_count": 30,
   "metadata": {},
   "outputs": [
    {
     "ename": "MemoryError",
     "evalue": "Unable to allocate 21.9 PiB for an array with shape (101722, 740140, 328114) and data type uint8",
     "output_type": "error",
     "traceback": [
      "\u001b[0;31m---------------------------------------------------------------------------\u001b[0m",
      "\u001b[0;31mMemoryError\u001b[0m                               Traceback (most recent call last)",
      "\u001b[1;32m/g/kreshuk/buglakova/fibsem_segm/registration_fluo/scipy_transformation.ipynb Cell 9'\u001b[0m in \u001b[0;36m<cell line: 1>\u001b[0;34m()\u001b[0m\n\u001b[0;32m----> <a href='vscode-notebook-cell://ssh-remote%2Bgpu6.cluster.embl.de/g/kreshuk/buglakova/fibsem_segm/registration_fluo/scipy_transformation.ipynb#ch0000008vscode-remote?line=0'>1</a>\u001b[0m fluo_scaled \u001b[39m=\u001b[39m affine_transform(fluo, R_scale_fluo, order\u001b[39m=\u001b[39;49m\u001b[39m0\u001b[39;49m, output_shape\u001b[39m=\u001b[39;49mfluo_scaled_shape)\n",
      "File \u001b[0;32m~/miniconda3/envs/registration_env/lib/python3.10/site-packages/scipy/ndimage/_interpolation.py:557\u001b[0m, in \u001b[0;36maffine_transform\u001b[0;34m(input, matrix, offset, output_shape, output, order, mode, cval, prefilter)\u001b[0m\n\u001b[1;32m    <a href='file:///home/buglakov/miniconda3/envs/registration_env/lib/python3.10/site-packages/scipy/ndimage/_interpolation.py?line=554'>555</a>\u001b[0m     \u001b[39mraise\u001b[39;00m \u001b[39mRuntimeError\u001b[39;00m(\u001b[39m'\u001b[39m\u001b[39minput and output rank must be > 0\u001b[39m\u001b[39m'\u001b[39m)\n\u001b[1;32m    <a href='file:///home/buglakov/miniconda3/envs/registration_env/lib/python3.10/site-packages/scipy/ndimage/_interpolation.py?line=555'>556</a>\u001b[0m complex_output \u001b[39m=\u001b[39m numpy\u001b[39m.\u001b[39miscomplexobj(\u001b[39minput\u001b[39m)\n\u001b[0;32m--> <a href='file:///home/buglakov/miniconda3/envs/registration_env/lib/python3.10/site-packages/scipy/ndimage/_interpolation.py?line=556'>557</a>\u001b[0m output \u001b[39m=\u001b[39m _ni_support\u001b[39m.\u001b[39;49m_get_output(output, \u001b[39minput\u001b[39;49m, shape\u001b[39m=\u001b[39;49moutput_shape,\n\u001b[1;32m    <a href='file:///home/buglakov/miniconda3/envs/registration_env/lib/python3.10/site-packages/scipy/ndimage/_interpolation.py?line=557'>558</a>\u001b[0m                                  complex_output\u001b[39m=\u001b[39;49mcomplex_output)\n\u001b[1;32m    <a href='file:///home/buglakov/miniconda3/envs/registration_env/lib/python3.10/site-packages/scipy/ndimage/_interpolation.py?line=558'>559</a>\u001b[0m \u001b[39mif\u001b[39;00m complex_output:\n\u001b[1;32m    <a href='file:///home/buglakov/miniconda3/envs/registration_env/lib/python3.10/site-packages/scipy/ndimage/_interpolation.py?line=559'>560</a>\u001b[0m     kwargs \u001b[39m=\u001b[39m \u001b[39mdict\u001b[39m(offset\u001b[39m=\u001b[39moffset, output_shape\u001b[39m=\u001b[39moutput_shape, order\u001b[39m=\u001b[39morder,\n\u001b[1;32m    <a href='file:///home/buglakov/miniconda3/envs/registration_env/lib/python3.10/site-packages/scipy/ndimage/_interpolation.py?line=560'>561</a>\u001b[0m                   mode\u001b[39m=\u001b[39mmode, prefilter\u001b[39m=\u001b[39mprefilter)\n",
      "File \u001b[0;32m~/miniconda3/envs/registration_env/lib/python3.10/site-packages/scipy/ndimage/_ni_support.py:78\u001b[0m, in \u001b[0;36m_get_output\u001b[0;34m(output, input, shape, complex_output)\u001b[0m\n\u001b[1;32m     <a href='file:///home/buglakov/miniconda3/envs/registration_env/lib/python3.10/site-packages/scipy/ndimage/_ni_support.py?line=75'>76</a>\u001b[0m \u001b[39mif\u001b[39;00m output \u001b[39mis\u001b[39;00m \u001b[39mNone\u001b[39;00m:\n\u001b[1;32m     <a href='file:///home/buglakov/miniconda3/envs/registration_env/lib/python3.10/site-packages/scipy/ndimage/_ni_support.py?line=76'>77</a>\u001b[0m     \u001b[39mif\u001b[39;00m \u001b[39mnot\u001b[39;00m complex_output:\n\u001b[0;32m---> <a href='file:///home/buglakov/miniconda3/envs/registration_env/lib/python3.10/site-packages/scipy/ndimage/_ni_support.py?line=77'>78</a>\u001b[0m         output \u001b[39m=\u001b[39m numpy\u001b[39m.\u001b[39;49mzeros(shape, dtype\u001b[39m=\u001b[39;49m\u001b[39minput\u001b[39;49m\u001b[39m.\u001b[39;49mdtype\u001b[39m.\u001b[39;49mname)\n\u001b[1;32m     <a href='file:///home/buglakov/miniconda3/envs/registration_env/lib/python3.10/site-packages/scipy/ndimage/_ni_support.py?line=78'>79</a>\u001b[0m     \u001b[39melse\u001b[39;00m:\n\u001b[1;32m     <a href='file:///home/buglakov/miniconda3/envs/registration_env/lib/python3.10/site-packages/scipy/ndimage/_ni_support.py?line=79'>80</a>\u001b[0m         complex_type \u001b[39m=\u001b[39m numpy\u001b[39m.\u001b[39mpromote_types(\u001b[39minput\u001b[39m\u001b[39m.\u001b[39mdtype, numpy\u001b[39m.\u001b[39mcomplex64)\n",
      "\u001b[0;31mMemoryError\u001b[0m: Unable to allocate 21.9 PiB for an array with shape (101722, 740140, 328114) and data type uint8"
     ]
    }
   ],
   "source": [
    "fluo_scaled = affine_transform(fluo, R_scale_fluo, order=0)"
   ]
  },
  {
   "cell_type": "code",
   "execution_count": 50,
   "metadata": {},
   "outputs": [
    {
     "name": "stdout",
     "output_type": "stream",
     "text": [
      "[[61.65   0.     0.     0.   ]\n",
      " [ 0.     7.38   0.     0.   ]\n",
      " [ 0.     0.     5.535  0.   ]\n",
      " [ 0.     0.     0.     1.   ]]\n"
     ]
    }
   ],
   "source": [
    "R_scale_em = get_scaling_transform([y/x for x, y in zip(resolution_em, resolution_fluo)])\n",
    "R_scale_em_1 = get_scaling_transform([1/x for x, y in zip(resolution_em, resolution_fluo)])\n",
    "R_scale_em_2 = get_scaling_transform([y for x, y in zip(resolution_em, resolution_fluo)])\n",
    "print(R_scale_em)"
   ]
  },
  {
   "cell_type": "code",
   "execution_count": 35,
   "metadata": {},
   "outputs": [],
   "source": [
    "em_scaled = affine_transform(em, R_scale_em, order=0, output_shape=fluo.shape)"
   ]
  },
  {
   "cell_type": "code",
   "execution_count": 52,
   "metadata": {},
   "outputs": [],
   "source": [
    "em_registered = affine_transform(em, R_scale_em_1 @ R_inv @ R_scale_em_2, order=0, output_shape=fluo.shape)"
   ]
  },
  {
   "cell_type": "code",
   "execution_count": 36,
   "metadata": {},
   "outputs": [
    {
     "data": {
      "text/plain": [
       "<matplotlib.image.AxesImage at 0x7fa95b326230>"
      ]
     },
     "execution_count": 36,
     "metadata": {},
     "output_type": "execute_result"
    },
    {
     "data": {
      "image/png": "[encoded data removed]",
      "text/plain": [
       "<Figure size 432x288 with 1 Axes>"
      ]
     },
     "metadata": {
      "needs_background": "light"
     },
     "output_type": "display_data"
    }
   ],
   "source": [
    "plt.imshow(fluo[30, :, :])"
   ]
  },
  {
   "cell_type": "code",
   "execution_count": 53,
   "metadata": {},
   "outputs": [
    {
     "data": {
      "text/plain": [
       "<matplotlib.image.AxesImage at 0x7fa95af893c0>"
      ]
     },
     "execution_count": 53,
     "metadata": {},
     "output_type": "execute_result"
    },
    {
     "data": {
      "image/png": "[encoded data removed]",
      "text/plain": [
       "<Figure size 720x720 with 1 Axes>"
      ]
     },
     "metadata": {
      "needs_background": "light"
     },
     "output_type": "display_data"
    }
   ],
   "source": [
    "plt.figure(figsize=(10, 10))\n",
    "plt.imshow(em_registered[0, :, :])"
   ]
  },
  {
   "cell_type": "code",
   "execution_count": 26,
   "metadata": {},
   "outputs": [
    {
     "data": {
      "text/plain": [
       "<matplotlib.image.AxesImage at 0x7fa95b707820>"
      ]
     },
     "execution_count": 26,
     "metadata": {},
     "output_type": "execute_result"
    },
    {
     "data": {
      "image/png": "[encoded data removed]",
      "text/plain": [
       "<Figure size 432x288 with 1 Axes>"
      ]
     },
     "metadata": {
      "needs_background": "light"
     },
     "output_type": "display_data"
    }
   ],
   "source": [
    "plt.imshow(fluo_scaled[30, :, :])"
   ]
  },
  {
   "cell_type": "code",
   "execution_count": 25,
   "metadata": {},
   "outputs": [
    {
     "data": {
      "text/plain": [
       "(55, 3343, 1482)"
      ]
     },
     "execution_count": 25,
     "metadata": {},
     "output_type": "execute_result"
    }
   ],
   "source": [
    "fluo_scaled.shape"
   ]
  },
  {
   "cell_type": "code",
   "execution_count": null,
   "metadata": {},
   "outputs": [],
   "source": []
  }
 ],
 "metadata": {
  "interpreter": {
   "hash": "94484fdaa4329adb4696a834f807df21c178521d3ea7e914bd05effb9befa092"
  },
  "kernelspec": {
   "display_name": "Python 3.10.5 ('registration_env')",
   "language": "python",
   "name": "python3"
  },
  "language_info": {
   "codemirror_mode": {
    "name": "ipython",
    "version": 3
   },
   "file_extension": ".py",
   "mimetype": "text/x-python",
   "name": "python",
   "nbconvert_exporter": "python",
   "pygments_lexer": "ipython3",
   "version": "3.10.5"
  },
  "orig_nbformat": 4
 },
 "nbformat": 4,
 "nbformat_minor": 2
}
