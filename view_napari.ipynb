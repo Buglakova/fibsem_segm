{
 "cells": [
  {
   "cell_type": "code",
   "execution_count": 1,
   "metadata": {},
   "outputs": [],
   "source": [
    "import napari\n",
    "import numpy as np\n",
    "from elf.io import open_file\n"
   ]
  },
  {
   "cell_type": "markdown",
   "metadata": {},
   "source": [
    "## View directories with .tiff files"
   ]
  },
  {
   "cell_type": "code",
   "execution_count": null,
   "metadata": {},
   "outputs": [],
   "source": [
    "raw_folder = \"/g/kreshuk/data/from_edoardo/cryoSEM/F107a1_bin2\"\n",
    "boundary_folder = \"/g/kreshuk/data/from_edoardo/cryoSEM/F107a1_bin2_boundaries\"\n",
    "label_folder = \"/g/kreshuk/data/from_edoardo/cryoSEM/F107a1_bin2_cells\""
   ]
  },
  {
   "cell_type": "code",
   "execution_count": null,
   "metadata": {},
   "outputs": [],
   "source": [
    "with open_file(raw_folder) as f:\n",
    "    raw = f[\"*.tiff\"][:]\n",
    "    print(raw.shape)\n",
    "with open_file(boundary_folder) as f:\n",
    "    boundaries = f[\"*.tiff\"][:]\n",
    "    print(np.unique(boundaries))\n",
    "    boundaries = boundaries == 255\n",
    "    print(boundaries.shape)\n",
    "with open_file(label_folder) as f:\n",
    "    labels = f[\"*.tiff\"][:]\n",
    "    print(np.unique(labels))\n",
    "    labels = labels == 255\n",
    "    print(labels.shape)\n",
    "\n",
    "v = napari.Viewer()\n",
    "v.add_image(raw)\n",
    "v.add_labels(boundaries)\n",
    "v.add_labels(labels)\n",
    "napari.run()"
   ]
  },
  {
   "cell_type": "code",
   "execution_count": 10,
   "metadata": {},
   "outputs": [],
   "source": [
    "raw_folder = \"/g/kreshuk/buglakova/data/cryofib/F107_bin2_619-639_frames/train\"\n",
    "prediction_folder = \"/g/kreshuk/buglakova/data/cryofib/F107_bin2_619-639_predictions/train\"\n",
    "label_folder = \"/g/kreshuk/buglakova/data/cryofib/corrected_labels/train\""
   ]
  },
  {
   "cell_type": "code",
   "execution_count": 11,
   "metadata": {},
   "outputs": [
    {
     "name": "stdout",
     "output_type": "stream",
     "text": [
      "Raw shape:  (9, 1506, 1647)\n",
      "Predictions shape:  (9, 1506, 1647, 4)\n",
      "Labels shape:  (9, 1506, 1647)\n"
     ]
    }
   ],
   "source": [
    "with open_file(raw_folder) as f:\n",
    "    raw = f[\"*.tiff\"][:]\n",
    "    print(\"Raw shape: \", raw.shape)\n",
    "with open_file(prediction_folder) as f:\n",
    "    predictions = f[\"*.tiff\"][:]\n",
    "    print(\"Predictions shape: \", predictions.shape)\n",
    "    cells = predictions[:, :, :, 0]\n",
    "    outside = predictions[:, :, :, 1]\n",
    "    boundaries = predictions[:, :, :, 2]\n",
    "    extracellular = predictions[:, :, :, 3]\n",
    "    \n",
    "with open_file(label_folder) as f:\n",
    "    labels = f[\"*.tiff\"][:]    \n",
    "    print(\"Labels shape: \", labels.shape)\n"
   ]
  },
  {
   "cell_type": "code",
   "execution_count": 4,
   "metadata": {},
   "outputs": [
    {
     "name": "stderr",
     "output_type": "stream",
     "text": [
      "WARNING: QStandardPaths: XDG_RUNTIME_DIR not set, defaulting to '/tmp/runtime-buglakov'\n"
     ]
    },
    {
     "data": {
      "text/plain": [
       "<Labels layer 'labels' at 0x7fcbf525be20>"
      ]
     },
     "execution_count": 4,
     "metadata": {},
     "output_type": "execute_result"
    }
   ],
   "source": [
    "\n",
    "v = napari.Viewer()\n"
   ]
  },
  {
   "cell_type": "code",
   "execution_count": 6,
   "metadata": {},
   "outputs": [
    {
     "data": {
      "text/plain": [
       "<Labels layer 'labels [1]' at 0x7fca774c59a0>"
      ]
     },
     "execution_count": 6,
     "metadata": {},
     "output_type": "execute_result"
    }
   ],
   "source": [
    "# v.add_image(raw)\n",
    "# v.add_labels(boundaries)\n",
    "v.add_labels(labels)"
   ]
  },
  {
   "cell_type": "code",
   "execution_count": 16,
   "metadata": {},
   "outputs": [
    {
     "data": {
      "text/plain": [
       "<Image layer 'outside' at 0x7fc9b3bcb820>"
      ]
     },
     "execution_count": 16,
     "metadata": {},
     "output_type": "execute_result"
    }
   ],
   "source": [
    "v.add_image(outside)"
   ]
  },
  {
   "cell_type": "markdown",
   "metadata": {},
   "source": [
    "## View n5 dataset"
   ]
  },
  {
   "cell_type": "code",
   "execution_count": 2,
   "metadata": {},
   "outputs": [],
   "source": [
    "import z5py\n",
    "from pathlib import Path"
   ]
  },
  {
   "cell_type": "code",
   "execution_count": 3,
   "metadata": {},
   "outputs": [],
   "source": [
    "scratch_dir = Path(\"/scratch/buglakova\")\n",
    "predictions_dir = scratch_dir / \"F107_bin2_619-639_predictions\"\n",
    "predictions_dir.mkdir(parents=True, exist_ok=True)\n",
    "train_n5_path = predictions_dir / \"train.n5\"\n",
    "train_pred_n5_path = predictions_dir / \"train_predictions.n5\""
   ]
  },
  {
   "cell_type": "code",
   "execution_count": 4,
   "metadata": {},
   "outputs": [],
   "source": [
    "n5_path = predictions_dir / \"full_raw.n5\"\n",
    "pred_n5_path = predictions_dir / \"full_predictions.n5\""
   ]
  },
  {
   "cell_type": "code",
   "execution_count": 6,
   "metadata": {},
   "outputs": [],
   "source": [
    "f = z5py.File(train_pred_n5_path, \"r\")\n",
    "f_raw = z5py.File(train_n5_path, \"r\")"
   ]
  },
  {
   "cell_type": "code",
   "execution_count": 5,
   "metadata": {},
   "outputs": [],
   "source": [
    "f = z5py.File(pred_n5_path, \"r\")\n",
    "f_raw = z5py.File(n5_path, \"r\")"
   ]
  },
  {
   "cell_type": "code",
   "execution_count": 6,
   "metadata": {},
   "outputs": [],
   "source": [
    "raw = f_raw[\"raw\"][\"raw_data\"][:]\n",
    "g = f[\"predictions\"]\n",
    "boundaries = g[\"boundaries\"][:]\n",
    "extra = g[\"extracellular\"][:]\n",
    "bg = g[\"background\"][:]\n",
    "# fg = g[\"foreground\"][:]"
   ]
  },
  {
   "cell_type": "code",
   "execution_count": 7,
   "metadata": {},
   "outputs": [
    {
     "name": "stderr",
     "output_type": "stream",
     "text": [
      "WARNING: QStandardPaths: XDG_RUNTIME_DIR not set, defaulting to '/tmp/runtime-buglakov'\n"
     ]
    }
   ],
   "source": [
    "v = napari.Viewer()"
   ]
  },
  {
   "cell_type": "code",
   "execution_count": 8,
   "metadata": {},
   "outputs": [
    {
     "data": {
      "text/plain": [
       "<Image layer 'raw' at 0x7f852b2d1790>"
      ]
     },
     "execution_count": 8,
     "metadata": {},
     "output_type": "execute_result"
    }
   ],
   "source": [
    "v.add_image(raw)"
   ]
  },
  {
   "cell_type": "code",
   "execution_count": null,
   "metadata": {},
   "outputs": [],
   "source": []
  },
  {
   "cell_type": "code",
   "execution_count": 8,
   "metadata": {},
   "outputs": [
    {
     "data": {
      "text/plain": [
       "<Labels layer 'Labels' at 0x7f16928c1f40>"
      ]
     },
     "execution_count": 8,
     "metadata": {},
     "output_type": "execute_result"
    }
   ],
   "source": [
    "v.add_labels(bg > 0.8)"
   ]
  },
  {
   "cell_type": "code",
   "execution_count": 9,
   "metadata": {},
   "outputs": [
    {
     "data": {
      "text/plain": [
       "<Labels layer 'Labels' at 0x7f852b2d1d30>"
      ]
     },
     "execution_count": 9,
     "metadata": {},
     "output_type": "execute_result"
    }
   ],
   "source": [
    "v.add_labels(boundaries > 0.8)"
   ]
  },
  {
   "cell_type": "markdown",
   "metadata": {},
   "source": [
    "## pancreatic organoid"
   ]
  },
  {
   "cell_type": "code",
   "execution_count": null,
   "metadata": {},
   "outputs": [],
   "source": []
  }
 ],
 "metadata": {
  "kernelspec": {
   "display_name": "Python 3 (ipykernel)",
   "language": "python",
   "name": "python3"
  },
  "language_info": {
   "codemirror_mode": {
    "name": "ipython",
    "version": 3
   },
   "file_extension": ".py",
   "mimetype": "text/x-python",
   "name": "python",
   "nbconvert_exporter": "python",
   "pygments_lexer": "ipython3",
   "version": "3.9.10"
  }
 },
 "nbformat": 4,
 "nbformat_minor": 2
}
