{
 "cells": [
  {
   "cell_type": "code",
   "execution_count": 1,
   "metadata": {},
   "outputs": [],
   "source": [
    "import napari\n",
    "import numpy as np\n",
    "import matplotlib.pyplot as plt\n",
    "import z5py\n",
    "from pathlib import Path\n",
    "\n",
    "from cryofib.n5_utils import read_volume, print_key_tree\n",
    "from cryofib.napari_utils import napari_add_group"
   ]
  },
  {
   "cell_type": "markdown",
   "metadata": {},
   "source": [
    "## View n5 datasets"
   ]
  },
  {
   "cell_type": "code",
   "execution_count": 2,
   "metadata": {},
   "outputs": [],
   "source": [
    "data_dir = Path(\"/g/kreshuk/buglakova/data/cryofib/segm_fibsem/F107\")\n",
    "em_n5_path = data_dir / \"F107_A1_em_gt.n5\"\n",
    "\n",
    "f_em = z5py.File(em_n5_path, \"r\")"
   ]
  },
  {
   "cell_type": "code",
   "execution_count": 3,
   "metadata": {},
   "outputs": [
    {
     "name": "stdout",
     "output_type": "stream",
     "text": [
      "Key structure of z5 file /g/kreshuk/buglakova/data/cryofib/segm_fibsem/F107/F107_A1_em_gt.n5\n",
      "raw\n",
      "segmentation\n",
      "segmentation/ground_truth\n",
      "segmentation/ground_truth_channels\n",
      "raw_norm\n"
     ]
    }
   ],
   "source": [
    "print_key_tree(f_em)"
   ]
  },
  {
   "cell_type": "markdown",
   "metadata": {},
   "source": [
    "## Read volumes s1"
   ]
  },
  {
   "cell_type": "code",
   "execution_count": 12,
   "metadata": {},
   "outputs": [
    {
     "name": "stdout",
     "output_type": "stream",
     "text": [
      "<class 'z5py.file.File'>\n",
      "Reading roi slice(None, None, None) of volume raw from /g/kreshuk/buglakova/data/cryofib/segm_fibsem/F107/F107_A1_em_gt.n5\n",
      "Read volume with shape (82, 1506, 1647), data type uint8\n",
      "<class 'z5py.file.File'>\n",
      "Reading roi slice(None, None, None) of volume raw_norm from /g/kreshuk/buglakova/data/cryofib/segm_fibsem/F107/F107_A1_em_gt.n5\n",
      "Read volume with shape (82, 1506, 1647), data type float32\n",
      "<class 'z5py.file.File'>\n",
      "Reading roi slice(None, None, None) of volume segmentation/ground_truth_channels from /g/kreshuk/buglakova/data/cryofib/segm_fibsem/F107/F107_A1_em_gt.n5\n",
      "Read volume with shape (4, 82, 1506, 1647), data type float32\n"
     ]
    }
   ],
   "source": [
    "roi = np.s_[:]\n",
    "em = read_volume(f_em, \"raw\", roi)\n",
    "em_norm = read_volume(f_em, \"raw_norm\", roi)\n",
    "\n",
    "em_segm = read_volume(f_em, \"segmentation/ground_truth_channels\", roi)"
   ]
  },
  {
   "cell_type": "code",
   "execution_count": 13,
   "metadata": {},
   "outputs": [
    {
     "data": {
      "text/plain": [
       "0"
      ]
     },
     "execution_count": 13,
     "metadata": {},
     "output_type": "execute_result"
    }
   ],
   "source": [
    "em.min()"
   ]
  },
  {
   "cell_type": "code",
   "execution_count": 14,
   "metadata": {},
   "outputs": [
    {
     "data": {
      "text/plain": [
       "248"
      ]
     },
     "execution_count": 14,
     "metadata": {},
     "output_type": "execute_result"
    }
   ],
   "source": [
    "em.max()"
   ]
  },
  {
   "cell_type": "markdown",
   "metadata": {},
   "source": [
    "## Open s1 in napari"
   ]
  },
  {
   "cell_type": "code",
   "execution_count": 15,
   "metadata": {},
   "outputs": [],
   "source": [
    "v = napari.Viewer()"
   ]
  },
  {
   "cell_type": "code",
   "execution_count": 11,
   "metadata": {},
   "outputs": [
    {
     "data": {
      "text/plain": [
       "<Image layer 'raw_norm' at 0x7f8bfc30c640>"
      ]
     },
     "execution_count": 11,
     "metadata": {},
     "output_type": "execute_result"
    }
   ],
   "source": []
  },
  {
   "cell_type": "code",
   "execution_count": 16,
   "metadata": {},
   "outputs": [],
   "source": [
    "v.add_image(em, name=\"raw\")\n",
    "v.add_image(em_norm, name=\"raw_norm\")\n",
    "for i in range(em_segm.shape[0]):\n",
    "    v.add_image(em_segm[i, :, :, :], name=f\"segmentation/ground_truth_{i}\", blending=\"additive\", opacity=0.5)"
   ]
  },
  {
   "cell_type": "markdown",
   "metadata": {},
   "source": [
    "## Read volumes s2"
   ]
  },
  {
   "cell_type": "code",
   "execution_count": 12,
   "metadata": {},
   "outputs": [
    {
     "name": "stdout",
     "output_type": "stream",
     "text": [
      "<class 'z5py.file.File'>\n",
      "Reading roi slice(None, None, None) of volume raw/s2 from /g/kreshuk/buglakova/data/cryofib/segm_fibsem/F107/F107_A1_em_downsampled.n5\n",
      "Read volume with shape (338, 376, 412), data type float64\n",
      "<class 'z5py.file.File'>\n",
      "Reading roi slice(None, None, None) of volume segmentation/ground_truth_channels/s2 from /g/kreshuk/buglakova/data/cryofib/segm_fibsem/F107/F107_A1_em_downsampled.n5\n",
      "Read volume with shape (4, 338, 376, 412), data type float32\n"
     ]
    }
   ],
   "source": [
    "roi = np.s_[:]\n",
    "em = read_volume(f_em, \"raw/s2\", roi)\n",
    "\n",
    "em_segm = read_volume(f_em, \"segmentation/ground_truth_channels/s2\", roi)"
   ]
  },
  {
   "cell_type": "markdown",
   "metadata": {},
   "source": [
    "## Open s1 in napari"
   ]
  },
  {
   "cell_type": "code",
   "execution_count": 13,
   "metadata": {},
   "outputs": [],
   "source": [
    "v = napari.Viewer()"
   ]
  },
  {
   "cell_type": "code",
   "execution_count": 14,
   "metadata": {},
   "outputs": [],
   "source": [
    "v.add_image(em, name=\"raw\")\n",
    "for i in range(em_segm.shape[0]):\n",
    "    v.add_image(em_segm[i, :, :, :], name=f\"segmentation/ground_truth_{i}\", blending=\"additive\", opacity=0.5)"
   ]
  },
  {
   "cell_type": "code",
   "execution_count": null,
   "metadata": {},
   "outputs": [],
   "source": []
  }
 ],
 "metadata": {
  "interpreter": {
   "hash": "cc1c03ff80a13df21eb451e0f9d6c275c99a059287021003aab271766020f90b"
  },
  "kernelspec": {
   "display_name": "Python [conda env:napari_env] *",
   "language": "python",
   "name": "conda-env-napari_env-py"
  },
  "language_info": {
   "codemirror_mode": {
    "name": "ipython",
    "version": 3
   },
   "file_extension": ".py",
   "mimetype": "text/x-python",
   "name": "python",
   "nbconvert_exporter": "python",
   "pygments_lexer": "ipython3",
   "version": "3.10.4"
  }
 },
 "nbformat": 4,
 "nbformat_minor": 2
}
