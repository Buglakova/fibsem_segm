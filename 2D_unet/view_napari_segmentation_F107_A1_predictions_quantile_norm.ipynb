{
 "cells": [
  {
   "cell_type": "code",
   "execution_count": 9,
   "metadata": {},
   "outputs": [],
   "source": [
    "import napari\n",
    "import numpy as np\n",
    "import matplotlib.pyplot as plt\n",
    "import z5py\n",
    "from pathlib import Path\n",
    "\n",
    "from cryofib.n5_utils import read_volume, print_key_tree\n",
    "from cryofib.napari_utils import napari_add_group\n",
    "from cryofib.data_loaders import load_F107_A1_pred"
   ]
  },
  {
   "cell_type": "markdown",
   "metadata": {},
   "source": [
    "## View n5 datasets"
   ]
  },
  {
   "cell_type": "code",
   "execution_count": 10,
   "metadata": {},
   "outputs": [],
   "source": [
    "data_dir = Path(\"/g/kreshuk/buglakova/data/cryofib/segm_fibsem/F107\")\n",
    "em_n5_path = data_dir / \"F107_A1_em.n5\"\n",
    "\n",
    "f_em = z5py.File(em_n5_path, \"r\")"
   ]
  },
  {
   "cell_type": "code",
   "execution_count": 11,
   "metadata": {},
   "outputs": [
    {
     "name": "stdout",
     "output_type": "stream",
     "text": [
      "Key structure of z5 file /g/kreshuk/buglakova/data/cryofib/segm_fibsem/F107/F107_A1_em.n5\n",
      "raw\n",
      "segmentation\n",
      "segmentation/nuclei\n",
      "segmentation/edoardo\n",
      "segmentation/edoardo/boundaries\n",
      "segmentation/edoardo/foreground\n",
      "segmentation/ground_truth_channels\n",
      "segmentation/ground_truth\n",
      "raw_norm\n"
     ]
    }
   ],
   "source": [
    "print_key_tree(f_em)"
   ]
  },
  {
   "cell_type": "markdown",
   "metadata": {},
   "source": [
    "## Read volumes"
   ]
  },
  {
   "cell_type": "code",
   "execution_count": 12,
   "metadata": {},
   "outputs": [
    {
     "name": "stdout",
     "output_type": "stream",
     "text": [
      "<class 'z5py.file.File'>\n",
      "Reading roi slice(None, None, None) of volume raw from /g/kreshuk/buglakova/data/cryofib/segm_fibsem/F107/F107_A1_em.n5\n",
      "Read volume with shape (1350, 1506, 1647), data type uint8\n"
     ]
    }
   ],
   "source": [
    "roi = np.s_[:]\n",
    "em = read_volume(f_em, \"raw\", roi)"
   ]
  },
  {
   "cell_type": "markdown",
   "metadata": {},
   "source": [
    "## Open raw in napari"
   ]
  },
  {
   "cell_type": "code",
   "execution_count": 13,
   "metadata": {},
   "outputs": [],
   "source": [
    "v = napari.Viewer()"
   ]
  },
  {
   "cell_type": "code",
   "execution_count": 14,
   "metadata": {},
   "outputs": [
    {
     "data": {
      "text/plain": [
       "<Image layer 'raw' at 0x7f09450324a0>"
      ]
     },
     "execution_count": 14,
     "metadata": {},
     "output_type": "execute_result"
    }
   ],
   "source": [
    "ds = f_em[\"raw\"]\n",
    "v.add_image(em, name=\"raw\")"
   ]
  },
  {
   "cell_type": "code",
   "execution_count": 7,
   "metadata": {},
   "outputs": [
    {
     "name": "stdout",
     "output_type": "stream",
     "text": [
      "<class 'z5py.file.File'>\n",
      "Reading roi slice(None, None, None) of volume segmentation/ground_truth from /g/kreshuk/buglakova/data/cryofib/segm_fibsem/F107/F107_A1_em.n5\n",
      "Read volume with shape (1350, 1506, 1647), data type int64\n"
     ]
    }
   ],
   "source": [
    "gt = read_volume(f_em, \"segmentation/ground_truth\", roi)"
   ]
  },
  {
   "cell_type": "code",
   "execution_count": 8,
   "metadata": {},
   "outputs": [
    {
     "data": {
      "text/plain": [
       "<Labels layer 'gt' at 0x7f08780fa0b0>"
      ]
     },
     "execution_count": 8,
     "metadata": {},
     "output_type": "execute_result"
    }
   ],
   "source": [
    "v.add_labels(gt, name=\"gt\")"
   ]
  },
  {
   "cell_type": "markdown",
   "metadata": {},
   "source": [
    "### Open all predictions in a group"
   ]
  },
  {
   "cell_type": "code",
   "execution_count": 15,
   "metadata": {},
   "outputs": [],
   "source": [
    "f_pred = load_F107_A1_pred()"
   ]
  },
  {
   "cell_type": "code",
   "execution_count": 16,
   "metadata": {},
   "outputs": [
    {
     "name": "stdout",
     "output_type": "stream",
     "text": [
      "Key structure of z5 file /scratch/buglakova/data/cryofib/segm_fibsem/F107/F107_A1_em_3Dunet.n5\n",
      "predictions\n",
      "predictions/full_masked_dice_s0_64x256x256_128x128x128\n",
      "predictions/full_masked_dice_s0_64x256x256_128x128x128/fg\n",
      "predictions/full_masked_dice_s0_64x256x256_128x128x128/extra\n",
      "predictions/full_masked_dice_s0_64x256x256_128x128x128/bg\n",
      "predictions/full_masked_dice_s0_64x256x256_128x128x128/boundaries\n",
      "predictions/full_masked_dice_s0_64x256x256\n",
      "predictions/full_masked_dice_s0_64x256x256/boundaries\n",
      "predictions/full_masked_dice_s0_64x256x256/fg\n",
      "predictions/full_masked_dice_s0_64x256x256/extra\n",
      "predictions/full_masked_dice_s0_64x256x256/bg\n",
      "predictions/2D_s0\n",
      "predictions/2D_s0/fg\n",
      "predictions/2D_s0/extra\n",
      "predictions/2D_s0/bg\n",
      "predictions/2D_s0/boundaries\n",
      "predictions/2D_s0_quantile_norm\n",
      "predictions/2D_s0_quantile_norm/fg\n",
      "predictions/2D_s0_quantile_norm/extra\n",
      "predictions/2D_s0_quantile_norm/bg\n",
      "predictions/2D_s0_quantile_norm/boundaries\n",
      "predictions/dice_s0_16x512x512_quantile_norm_no_mask\n",
      "predictions/dice_s0_16x512x512_quantile_norm_no_mask/fg\n",
      "predictions/dice_s0_16x512x512_quantile_norm_no_mask/boundaries\n",
      "predictions/dice_s0_16x512x512_quantile_norm_no_mask/extra\n",
      "predictions/dice_s0_16x512x512_quantile_norm_no_mask/bg\n"
     ]
    }
   ],
   "source": [
    "print_key_tree(f_pred)"
   ]
  },
  {
   "cell_type": "code",
   "execution_count": null,
   "metadata": {},
   "outputs": [
    {
     "name": "stdout",
     "output_type": "stream",
     "text": [
      "<class 'z5py.file.File'>\n",
      "Reading roi slice(None, None, None) of volume predictions/2D_s0_quantile_norm/boundaries from /scratch/buglakova/data/cryofib/segm_fibsem/F107/F107_A1_em_3Dunet.n5\n"
     ]
    }
   ],
   "source": [
    "roi = np.s_[:]\n",
    "boundaries = read_volume(f_pred, \"predictions/2D_s0_quantile_norm/boundaries\", roi)"
   ]
  },
  {
   "cell_type": "code",
   "execution_count": null,
   "metadata": {},
   "outputs": [],
   "source": [
    "v.add_image(boundaries, name=\"boundaries\")"
   ]
  },
  {
   "cell_type": "code",
   "execution_count": null,
   "metadata": {},
   "outputs": [],
   "source": [
    "roi = np.s_[:]\n",
    "boundaries = read_volume(f_pred, \"predictions/2D_s0_quantile_norm/boundaries\", roi)"
   ]
  },
  {
   "cell_type": "code",
   "execution_count": null,
   "metadata": {},
   "outputs": [],
   "source": [
    "v.add_image(boundaries, name=\"boundaries\")"
   ]
  },
  {
   "cell_type": "code",
   "execution_count": null,
   "metadata": {},
   "outputs": [
    {
     "name": "stdout",
     "output_type": "stream",
     "text": [
      "<class 'z5py.file.File'>\n",
      "Reading roi slice(None, None, None) of volume predictions/2D_s0/extra from /scratch/buglakova/data/cryofib/segm_fibsem/F107/F107_A1_em_3Dunet.n5\n"
     ]
    }
   ],
   "source": [
    "extra = read_volume(f_pred, \"predictions/2D_s0_quantile_n/extra\", roi)"
   ]
  },
  {
   "cell_type": "code",
   "execution_count": null,
   "metadata": {},
   "outputs": [],
   "source": [
    "v.add_image(extra, name=\"extra\")"
   ]
  },
  {
   "cell_type": "code",
   "execution_count": 10,
   "metadata": {},
   "outputs": [
    {
     "name": "stdout",
     "output_type": "stream",
     "text": [
      "<class 'z5py.file.File'>\n",
      "Reading roi slice(None, None, None) of volume predictions/2D_s0/bg from /scratch/buglakova/data/cryofib/segm_fibsem/F107/F107_A1_em_3Dunet.n5\n",
      "Read volume with shape (1350, 1506, 1647), data type float64\n"
     ]
    },
    {
     "data": {
      "text/plain": [
       "<Image layer 'bg' at 0x7f1de03a2c80>"
      ]
     },
     "execution_count": 10,
     "metadata": {},
     "output_type": "execute_result"
    }
   ],
   "source": [
    "bg = read_volume(f_pred, \"predictions/2D_s0/bg\", roi)\n",
    "v.add_image(bg, name=\"bg\")"
   ]
  },
  {
   "cell_type": "code",
   "execution_count": 14,
   "metadata": {},
   "outputs": [
    {
     "name": "stdout",
     "output_type": "stream",
     "text": [
      "<class 'z5py.file.File'>\n",
      "Reading roi slice(None, None, None) of volume predictions/full_masked_dice_s0_64x256x256/fg from /scratch/buglakova/data/cryofib/segm_fibsem/F107/F107_A1_em_3Dunet.n5\n",
      "Read volume with shape (1350, 1506, 1647), data type float32\n"
     ]
    },
    {
     "data": {
      "text/plain": [
       "<Image layer 'fg' at 0x7fe6b0124250>"
      ]
     },
     "execution_count": 14,
     "metadata": {},
     "output_type": "execute_result"
    }
   ],
   "source": [
    "fg = read_volume(f_pred, \"predictions/full_masked_dice_s0_64x256x256/fg\", roi)\n",
    "v.add_image(fg, name=\"fg\")"
   ]
  },
  {
   "cell_type": "code",
   "execution_count": null,
   "metadata": {},
   "outputs": [],
   "source": []
  }
 ],
 "metadata": {
  "interpreter": {
   "hash": "cc1c03ff80a13df21eb451e0f9d6c275c99a059287021003aab271766020f90b"
  },
  "kernelspec": {
   "display_name": "Python [conda env:napari_env] *",
   "language": "python",
   "name": "conda-env-napari_env-py"
  },
  "language_info": {
   "codemirror_mode": {
    "name": "ipython",
    "version": 3
   },
   "file_extension": ".py",
   "mimetype": "text/x-python",
   "name": "python",
   "nbconvert_exporter": "python",
   "pygments_lexer": "ipython3",
   "version": "3.10.4"
  }
 },
 "nbformat": 4,
 "nbformat_minor": 2
}
