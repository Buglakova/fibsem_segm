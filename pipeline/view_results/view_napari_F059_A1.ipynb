{
 "cells": [
  {
   "cell_type": "code",
   "execution_count": 4,
   "metadata": {},
   "outputs": [],
   "source": [
    "import napari\n",
    "import numpy as np\n",
    "import matplotlib.pyplot as plt\n",
    "import z5py\n",
    "from pathlib import Path\n",
    "import numpy as np\n",
    "\n",
    "from cryofib.n5_utils import read_volume, print_key_tree, write_volume\n",
    "from cryofib.napari_utils import napari_add_group"
   ]
  },
  {
   "cell_type": "markdown",
   "metadata": {},
   "source": [
    "## View n5 datasets"
   ]
  },
  {
   "cell_type": "code",
   "execution_count": 6,
   "metadata": {},
   "outputs": [],
   "source": [
    "# data_dir = Path(\"/g/kreshuk/buglakova/data/cryofib/segm_fibsem/F107\")\n",
    "em_n5_path = Path(\"/scratch/buglakova/data/cryofib/segm_fibsem/F059/multicut_pipeline/F059_A1_em_pipeline.n5/\")\n",
    "\n",
    "f_em = z5py.File(em_n5_path, \"r\")"
   ]
  },
  {
   "cell_type": "code",
   "execution_count": 7,
   "metadata": {},
   "outputs": [
    {
     "name": "stdout",
     "output_type": "stream",
     "text": [
      "Key structure of z5 file /scratch/buglakova/data/cryofib/segm_fibsem/F059/multicut_pipeline/F059_A1_em_pipeline.n5\n",
      "multicut\n",
      "watershed\n",
      "watershed/3D_ws\n",
      "prediction\n",
      "prediction/fg\n",
      "prediction/extra\n",
      "prediction/bg\n",
      "prediction/boundaries\n",
      "input\n",
      "input/raw_norm\n",
      "input/fg_mask\n",
      "input/raw\n"
     ]
    }
   ],
   "source": [
    "print_key_tree(f_em)"
   ]
  },
  {
   "cell_type": "markdown",
   "metadata": {},
   "source": [
    "## Read volumes"
   ]
  },
  {
   "cell_type": "code",
   "execution_count": 8,
   "metadata": {},
   "outputs": [
    {
     "name": "stdout",
     "output_type": "stream",
     "text": [
      "<class 'z5py.file.File'>\n",
      "Reading roi slice(None, None, None) of volume input/raw_norm from /scratch/buglakova/data/cryofib/segm_fibsem/F059/multicut_pipeline/F059_A1_em_pipeline.n5\n",
      "Read volume with shape (1446, 1683, 1928), data type float32\n"
     ]
    }
   ],
   "source": [
    "roi = np.s_[:]\n",
    "em = read_volume(f_em, \"input/raw_norm\")"
   ]
  },
  {
   "cell_type": "code",
   "execution_count": 9,
   "metadata": {},
   "outputs": [
    {
     "name": "stdout",
     "output_type": "stream",
     "text": [
      "<class 'z5py.file.File'>\n",
      "Reading roi slice(None, None, None) of volume prediction/boundaries from /scratch/buglakova/data/cryofib/segm_fibsem/F059/multicut_pipeline/F059_A1_em_pipeline.n5\n",
      "Read volume with shape (1446, 1683, 1928), data type float32\n"
     ]
    }
   ],
   "source": [
    "boundaries = read_volume(f_em, \"prediction/boundaries\")"
   ]
  },
  {
   "cell_type": "code",
   "execution_count": 10,
   "metadata": {},
   "outputs": [
    {
     "name": "stdout",
     "output_type": "stream",
     "text": [
      "<class 'z5py.file.File'>\n",
      "Reading roi slice(None, None, None) of volume multicut from /scratch/buglakova/data/cryofib/segm_fibsem/F059/multicut_pipeline/F059_A1_em_pipeline.n5\n",
      "Read volume with shape (1446, 1683, 1928), data type uint64\n"
     ]
    }
   ],
   "source": [
    "multicut = read_volume(f_em, \"multicut\")"
   ]
  },
  {
   "cell_type": "code",
   "execution_count": 13,
   "metadata": {},
   "outputs": [
    {
     "name": "stdout",
     "output_type": "stream",
     "text": [
      "<class 'z5py.file.File'>\n",
      "Reading roi slice(None, None, None) of volume watershed/3D_ws from /scratch/buglakova/data/cryofib/segm_fibsem/F059/multicut_pipeline/F059_A1_em_pipeline.n5\n",
      "Read volume with shape (1446, 1683, 1928), data type uint64\n"
     ]
    }
   ],
   "source": [
    "ws = read_volume(f_em, \"watershed/3D_ws\")"
   ]
  },
  {
   "cell_type": "markdown",
   "metadata": {},
   "source": [
    "## Open raw in napari"
   ]
  },
  {
   "cell_type": "code",
   "execution_count": 11,
   "metadata": {},
   "outputs": [
    {
     "name": "stderr",
     "output_type": "stream",
     "text": [
      "WARNING: QStandardPaths: XDG_RUNTIME_DIR not set, defaulting to '/tmp/runtime-buglakov'\n",
      "/home/buglakov/miniconda3/envs/napari_env/lib/python3.10/site-packages/napari/_qt/qt_viewer.py:344: UserWarning: Attempting to unbind an action which does not exists (napari:decrease_brush_size), this may have no effects. This can happen if your settings are out of date, if you upgraded napari, upgraded or deactivated a plugin, or made a typo in in your custom keybinding.\n",
      "  action_manager.unbind_shortcut(action)\n",
      "/home/buglakov/miniconda3/envs/napari_env/lib/python3.10/site-packages/napari/_qt/qt_viewer.py:344: UserWarning: Attempting to unbind an action which does not exists (napari:increase_brush_size), this may have no effects. This can happen if your settings are out of date, if you upgraded napari, upgraded or deactivated a plugin, or made a typo in in your custom keybinding.\n",
      "  action_manager.unbind_shortcut(action)\n",
      "/home/buglakov/miniconda3/envs/napari_env/lib/python3.10/site-packages/napari/_qt/qt_viewer.py:344: UserWarning: Attempting to unbind an action which does not exists (napari:select_all_data), this may have no effects. This can happen if your settings are out of date, if you upgraded napari, upgraded or deactivated a plugin, or made a typo in in your custom keybinding.\n",
      "  action_manager.unbind_shortcut(action)\n",
      "/home/buglakov/miniconda3/envs/napari_env/lib/python3.10/site-packages/napari/_qt/qt_viewer.py:344: UserWarning: Attempting to unbind an action which does not exists (napari:select_all_in_slice), this may have no effects. This can happen if your settings are out of date, if you upgraded napari, upgraded or deactivated a plugin, or made a typo in in your custom keybinding.\n",
      "  action_manager.unbind_shortcut(action)\n",
      "/home/buglakov/miniconda3/envs/napari_env/lib/python3.10/site-packages/napari/_qt/qt_viewer.py:344: UserWarning: Attempting to unbind an action which does not exists (napari:show_shortcuts), this may have no effects. This can happen if your settings are out of date, if you upgraded napari, upgraded or deactivated a plugin, or made a typo in in your custom keybinding.\n",
      "  action_manager.unbind_shortcut(action)\n",
      "/home/buglakov/miniconda3/envs/napari_env/lib/python3.10/site-packages/napari/_qt/qt_viewer.py:344: UserWarning: Attempting to unbind an action which does not exists (napari:toggle_preserve_labels), this may have no effects. This can happen if your settings are out of date, if you upgraded napari, upgraded or deactivated a plugin, or made a typo in in your custom keybinding.\n",
      "  action_manager.unbind_shortcut(action)\n"
     ]
    }
   ],
   "source": [
    "v = napari.Viewer()"
   ]
  },
  {
   "cell_type": "code",
   "execution_count": 12,
   "metadata": {},
   "outputs": [
    {
     "data": {
      "text/plain": [
       "<Labels layer 'multicut' at 0x7fa4fc1a32b0>"
      ]
     },
     "execution_count": 12,
     "metadata": {},
     "output_type": "execute_result"
    }
   ],
   "source": [
    "v.add_image(em, name=\"raw\")\n",
    "v.add_image(boundaries, name=\"boundaries\")\n",
    "v.add_labels(multicut, name=\"multicut\")"
   ]
  },
  {
   "cell_type": "code",
   "execution_count": 14,
   "metadata": {},
   "outputs": [
    {
     "data": {
      "text/plain": [
       "<Labels layer 'ws' at 0x7f97ac7c4490>"
      ]
     },
     "execution_count": 14,
     "metadata": {},
     "output_type": "execute_result"
    }
   ],
   "source": [
    "v.add_labels(ws, name=\"ws\")"
   ]
  },
  {
   "cell_type": "code",
   "execution_count": null,
   "metadata": {},
   "outputs": [],
   "source": []
  }
 ],
 "metadata": {
  "interpreter": {
   "hash": "cc1c03ff80a13df21eb451e0f9d6c275c99a059287021003aab271766020f90b"
  },
  "kernelspec": {
   "display_name": "Python [conda env:napari_env] *",
   "language": "python",
   "name": "conda-env-napari_env-py"
  },
  "language_info": {
   "codemirror_mode": {
    "name": "ipython",
    "version": 3
   },
   "file_extension": ".py",
   "mimetype": "text/x-python",
   "name": "python",
   "nbconvert_exporter": "python",
   "pygments_lexer": "ipython3",
   "version": "3.10.4"
  }
 },
 "nbformat": 4,
 "nbformat_minor": 2
}
