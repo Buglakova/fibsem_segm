{
 "cells": [
  {
   "cell_type": "code",
   "execution_count": 1,
   "metadata": {},
   "outputs": [],
   "source": [
    "import napari\n",
    "import numpy as np\n",
    "from elf.io import open_file\n",
    "import matplotlib.pyplot as plt"
   ]
  },
  {
   "cell_type": "markdown",
   "metadata": {},
   "source": [
    "## View directories with .tiff files"
   ]
  },
  {
   "cell_type": "code",
   "execution_count": 2,
   "metadata": {},
   "outputs": [],
   "source": [
    "raw_folder = \"/g/kreshuk/data/from_edoardo/cryoSEM/F107a1_bin2\"\n",
    "boundary_folder = \"/g/kreshuk/data/from_edoardo/cryoSEM/F107a1_bin2_boundaries\"\n",
    "label_folder = \"/g/kreshuk/data/from_edoardo/cryoSEM/F107a1_bin2_cells\""
   ]
  },
  {
   "cell_type": "code",
   "execution_count": 3,
   "metadata": {},
   "outputs": [
    {
     "ename": "KeyboardInterrupt",
     "evalue": "",
     "output_type": "error",
     "traceback": [
      "\u001b[0;31m---------------------------------------------------------------------------\u001b[0m",
      "\u001b[0;31mKeyboardInterrupt\u001b[0m                         Traceback (most recent call last)",
      "Input \u001b[0;32mIn [3]\u001b[0m, in \u001b[0;36m<cell line: 1>\u001b[0;34m()\u001b[0m\n\u001b[1;32m      1\u001b[0m \u001b[38;5;28;01mwith\u001b[39;00m open_file(raw_folder) \u001b[38;5;28;01mas\u001b[39;00m f:\n\u001b[0;32m----> 2\u001b[0m     raw \u001b[38;5;241m=\u001b[39m \u001b[43mf\u001b[49m\u001b[43m[\u001b[49m\u001b[38;5;124;43m\"\u001b[39;49m\u001b[38;5;124;43m*.tiff\u001b[39;49m\u001b[38;5;124;43m\"\u001b[39;49m\u001b[43m]\u001b[49m[:]\n\u001b[1;32m      3\u001b[0m     \u001b[38;5;28mprint\u001b[39m(raw\u001b[38;5;241m.\u001b[39mshape)\n\u001b[1;32m      4\u001b[0m \u001b[38;5;28;01mwith\u001b[39;00m open_file(boundary_folder) \u001b[38;5;28;01mas\u001b[39;00m f:\n",
      "File \u001b[0;32m/g/kreshuk/buglakova/anaconda3/envs/napari_env/lib/python3.9/site-packages/elf/io/image_stack_wrapper.py:39\u001b[0m, in \u001b[0;36mImageStackFile.__getitem__\u001b[0;34m(self, key)\u001b[0m\n\u001b[1;32m     37\u001b[0m     \u001b[38;5;28;01mraise\u001b[39;00m \u001b[38;5;167;01mValueError\u001b[39;00m(\u001b[38;5;124mf\u001b[39m\u001b[38;5;124m\"\u001b[39m\u001b[38;5;124mInvalid file pattern \u001b[39m\u001b[38;5;132;01m{\u001b[39;00mpattern\u001b[38;5;132;01m}\u001b[39;00m\u001b[38;5;124m\"\u001b[39m)\n\u001b[1;32m     38\u001b[0m \u001b[38;5;28;01mif\u001b[39;00m TifStackDataset\u001b[38;5;241m.\u001b[39mis_tif_slices(files):\n\u001b[0;32m---> 39\u001b[0m     \u001b[38;5;28;01mreturn\u001b[39;00m \u001b[43mTifStackDataset\u001b[49m\u001b[43m(\u001b[49m\u001b[43mfiles\u001b[49m\u001b[43m,\u001b[49m\u001b[43m \u001b[49m\u001b[43msort_files\u001b[49m\u001b[38;5;241;43m=\u001b[39;49m\u001b[38;5;28;43;01mTrue\u001b[39;49;00m\u001b[43m)\u001b[49m\n\u001b[1;32m     40\u001b[0m \u001b[38;5;28;01melse\u001b[39;00m:\n\u001b[1;32m     41\u001b[0m     \u001b[38;5;28;01mreturn\u001b[39;00m ImageStackDataset(files, sort_files\u001b[38;5;241m=\u001b[39m\u001b[38;5;28;01mTrue\u001b[39;00m)\n",
      "File \u001b[0;32m/g/kreshuk/buglakova/anaconda3/envs/napari_env/lib/python3.9/site-packages/elf/io/image_stack_wrapper.py:126\u001b[0m, in \u001b[0;36mImageStackDataset.__init__\u001b[0;34m(self, files, n_threads, sort_files, is_stack)\u001b[0m\n\u001b[1;32m    124\u001b[0m     \u001b[38;5;28mself\u001b[39m\u001b[38;5;241m.\u001b[39minitialize_from_stack(files)\n\u001b[1;32m    125\u001b[0m \u001b[38;5;28;01melse\u001b[39;00m:\n\u001b[0;32m--> 126\u001b[0m     \u001b[38;5;28;43mself\u001b[39;49m\u001b[38;5;241;43m.\u001b[39;49m\u001b[43minitialize_from_slices\u001b[49m\u001b[43m(\u001b[49m\u001b[43mfiles\u001b[49m\u001b[43m,\u001b[49m\u001b[43m \u001b[49m\u001b[43msort_files\u001b[49m\u001b[38;5;241;43m=\u001b[39;49m\u001b[43msort_files\u001b[49m\u001b[43m)\u001b[49m\n\u001b[1;32m    127\u001b[0m \u001b[38;5;28mself\u001b[39m\u001b[38;5;241m.\u001b[39mis_stack \u001b[38;5;241m=\u001b[39m is_stack\n\u001b[1;32m    128\u001b[0m \u001b[38;5;28mself\u001b[39m\u001b[38;5;241m.\u001b[39mn_threads \u001b[38;5;241m=\u001b[39m n_threads\n",
      "File \u001b[0;32m/g/kreshuk/buglakova/anaconda3/envs/napari_env/lib/python3.9/site-packages/elf/io/image_stack_wrapper.py:94\u001b[0m, in \u001b[0;36mImageStackDataset.initialize_from_slices\u001b[0;34m(self, files, sort_files)\u001b[0m\n\u001b[1;32m     92\u001b[0m \u001b[38;5;66;03m# get the shapes and dtype\u001b[39;00m\n\u001b[1;32m     93\u001b[0m n_slices \u001b[38;5;241m=\u001b[39m \u001b[38;5;28mlen\u001b[39m(files)\n\u001b[0;32m---> 94\u001b[0m \u001b[38;5;28mself\u001b[39m\u001b[38;5;241m.\u001b[39mim_shape, dtype \u001b[38;5;241m=\u001b[39m \u001b[38;5;28;43mself\u001b[39;49m\u001b[38;5;241;43m.\u001b[39;49m\u001b[43mget_im_shape_and_dtype\u001b[49m\u001b[43m(\u001b[49m\u001b[43mfiles\u001b[49m\u001b[43m)\u001b[49m\n\u001b[1;32m     96\u001b[0m \u001b[38;5;28mself\u001b[39m\u001b[38;5;241m.\u001b[39m_shape \u001b[38;5;241m=\u001b[39m (n_slices,) \u001b[38;5;241m+\u001b[39m \u001b[38;5;28mself\u001b[39m\u001b[38;5;241m.\u001b[39mim_shape\n\u001b[1;32m     97\u001b[0m \u001b[38;5;28mself\u001b[39m\u001b[38;5;241m.\u001b[39m_chunks \u001b[38;5;241m=\u001b[39m (\u001b[38;5;241m1\u001b[39m,) \u001b[38;5;241m+\u001b[39m \u001b[38;5;28mself\u001b[39m\u001b[38;5;241m.\u001b[39mim_shape\n",
      "File \u001b[0;32m/g/kreshuk/buglakova/anaconda3/envs/napari_env/lib/python3.9/site-packages/elf/io/image_stack_wrapper.py:234\u001b[0m, in \u001b[0;36mTifStackDataset.get_im_shape_and_dtype\u001b[0;34m(self, files)\u001b[0m\n\u001b[1;32m    232\u001b[0m im0 \u001b[38;5;241m=\u001b[39m tifffile\u001b[38;5;241m.\u001b[39mmemmap(files[\u001b[38;5;241m0\u001b[39m], mode\u001b[38;5;241m=\u001b[39m\u001b[38;5;124m'\u001b[39m\u001b[38;5;124mr\u001b[39m\u001b[38;5;124m'\u001b[39m)\n\u001b[1;32m    233\u001b[0m im_shape \u001b[38;5;241m=\u001b[39m im0\u001b[38;5;241m.\u001b[39mshape\n\u001b[0;32m--> 234\u001b[0m im_shapes \u001b[38;5;241m=\u001b[39m [tifffile\u001b[38;5;241m.\u001b[39mmemmap(ff, mode\u001b[38;5;241m=\u001b[39m\u001b[38;5;124m'\u001b[39m\u001b[38;5;124mr\u001b[39m\u001b[38;5;124m'\u001b[39m)\u001b[38;5;241m.\u001b[39mshape \u001b[38;5;28;01mfor\u001b[39;00m ff \u001b[38;5;129;01min\u001b[39;00m files[\u001b[38;5;241m1\u001b[39m:]]\n\u001b[1;32m    235\u001b[0m \u001b[38;5;28;01mif\u001b[39;00m \u001b[38;5;28many\u001b[39m(sh \u001b[38;5;241m!=\u001b[39m im_shape \u001b[38;5;28;01mfor\u001b[39;00m sh \u001b[38;5;129;01min\u001b[39;00m im_shapes):\n\u001b[1;32m    236\u001b[0m     \u001b[38;5;28;01mraise\u001b[39;00m \u001b[38;5;167;01mValueError\u001b[39;00m(\u001b[38;5;124m\"\u001b[39m\u001b[38;5;124mIncompatible shapes for Image Stack\u001b[39m\u001b[38;5;124m\"\u001b[39m)\n",
      "File \u001b[0;32m/g/kreshuk/buglakova/anaconda3/envs/napari_env/lib/python3.9/site-packages/elf/io/image_stack_wrapper.py:234\u001b[0m, in \u001b[0;36m<listcomp>\u001b[0;34m(.0)\u001b[0m\n\u001b[1;32m    232\u001b[0m im0 \u001b[38;5;241m=\u001b[39m tifffile\u001b[38;5;241m.\u001b[39mmemmap(files[\u001b[38;5;241m0\u001b[39m], mode\u001b[38;5;241m=\u001b[39m\u001b[38;5;124m'\u001b[39m\u001b[38;5;124mr\u001b[39m\u001b[38;5;124m'\u001b[39m)\n\u001b[1;32m    233\u001b[0m im_shape \u001b[38;5;241m=\u001b[39m im0\u001b[38;5;241m.\u001b[39mshape\n\u001b[0;32m--> 234\u001b[0m im_shapes \u001b[38;5;241m=\u001b[39m [\u001b[43mtifffile\u001b[49m\u001b[38;5;241;43m.\u001b[39;49m\u001b[43mmemmap\u001b[49m\u001b[43m(\u001b[49m\u001b[43mff\u001b[49m\u001b[43m,\u001b[49m\u001b[43m \u001b[49m\u001b[43mmode\u001b[49m\u001b[38;5;241;43m=\u001b[39;49m\u001b[38;5;124;43m'\u001b[39;49m\u001b[38;5;124;43mr\u001b[39;49m\u001b[38;5;124;43m'\u001b[39;49m\u001b[43m)\u001b[49m\u001b[38;5;241m.\u001b[39mshape \u001b[38;5;28;01mfor\u001b[39;00m ff \u001b[38;5;129;01min\u001b[39;00m files[\u001b[38;5;241m1\u001b[39m:]]\n\u001b[1;32m    235\u001b[0m \u001b[38;5;28;01mif\u001b[39;00m \u001b[38;5;28many\u001b[39m(sh \u001b[38;5;241m!=\u001b[39m im_shape \u001b[38;5;28;01mfor\u001b[39;00m sh \u001b[38;5;129;01min\u001b[39;00m im_shapes):\n\u001b[1;32m    236\u001b[0m     \u001b[38;5;28;01mraise\u001b[39;00m \u001b[38;5;167;01mValueError\u001b[39;00m(\u001b[38;5;124m\"\u001b[39m\u001b[38;5;124mIncompatible shapes for Image Stack\u001b[39m\u001b[38;5;124m\"\u001b[39m)\n",
      "File \u001b[0;32m/g/kreshuk/buglakova/anaconda3/envs/napari_env/lib/python3.9/site-packages/tifffile/tifffile.py:1077\u001b[0m, in \u001b[0;36mmemmap\u001b[0;34m(filename, shape, dtype, page, series, level, mode, **kwargs)\u001b[0m\n\u001b[1;32m   1075\u001b[0m             offset \u001b[38;5;241m=\u001b[39m series\u001b[38;5;241m.\u001b[39moffset\n\u001b[1;32m   1076\u001b[0m         dtype \u001b[38;5;241m=\u001b[39m tif\u001b[38;5;241m.\u001b[39mbyteorder \u001b[38;5;241m+\u001b[39m dtype\u001b[38;5;241m.\u001b[39mchar\n\u001b[0;32m-> 1077\u001b[0m \u001b[38;5;28;01mreturn\u001b[39;00m \u001b[43mnumpy\u001b[49m\u001b[38;5;241;43m.\u001b[39;49m\u001b[43mmemmap\u001b[49m\u001b[43m(\u001b[49m\u001b[43mfilename\u001b[49m\u001b[43m,\u001b[49m\u001b[43m \u001b[49m\u001b[43mdtype\u001b[49m\u001b[43m,\u001b[49m\u001b[43m \u001b[49m\u001b[43mmode\u001b[49m\u001b[43m,\u001b[49m\u001b[43m \u001b[49m\u001b[43moffset\u001b[49m\u001b[43m,\u001b[49m\u001b[43m \u001b[49m\u001b[43mshape\u001b[49m\u001b[43m,\u001b[49m\u001b[43m \u001b[49m\u001b[38;5;124;43m'\u001b[39;49m\u001b[38;5;124;43mC\u001b[39;49m\u001b[38;5;124;43m'\u001b[39;49m\u001b[43m)\u001b[49m\n",
      "File \u001b[0;32m/g/kreshuk/buglakova/anaconda3/envs/napari_env/lib/python3.9/site-packages/numpy/core/memmap.py:228\u001b[0m, in \u001b[0;36mmemmap.__new__\u001b[0;34m(subtype, filename, dtype, mode, offset, shape, order)\u001b[0m\n\u001b[1;32m    226\u001b[0m     f_ctx \u001b[38;5;241m=\u001b[39m nullcontext(filename)\n\u001b[1;32m    227\u001b[0m \u001b[38;5;28;01melse\u001b[39;00m:\n\u001b[0;32m--> 228\u001b[0m     f_ctx \u001b[38;5;241m=\u001b[39m \u001b[38;5;28;43mopen\u001b[39;49m\u001b[43m(\u001b[49m\u001b[43mos_fspath\u001b[49m\u001b[43m(\u001b[49m\u001b[43mfilename\u001b[49m\u001b[43m)\u001b[49m\u001b[43m,\u001b[49m\u001b[43m \u001b[49m\u001b[43m(\u001b[49m\u001b[38;5;124;43m'\u001b[39;49m\u001b[38;5;124;43mr\u001b[39;49m\u001b[38;5;124;43m'\u001b[39;49m\u001b[43m \u001b[49m\u001b[38;5;28;43;01mif\u001b[39;49;00m\u001b[43m \u001b[49m\u001b[43mmode\u001b[49m\u001b[43m \u001b[49m\u001b[38;5;241;43m==\u001b[39;49m\u001b[43m \u001b[49m\u001b[38;5;124;43m'\u001b[39;49m\u001b[38;5;124;43mc\u001b[39;49m\u001b[38;5;124;43m'\u001b[39;49m\u001b[43m \u001b[49m\u001b[38;5;28;43;01melse\u001b[39;49;00m\u001b[43m \u001b[49m\u001b[43mmode\u001b[49m\u001b[43m)\u001b[49m\u001b[38;5;241;43m+\u001b[39;49m\u001b[38;5;124;43m'\u001b[39;49m\u001b[38;5;124;43mb\u001b[39;49m\u001b[38;5;124;43m'\u001b[39;49m\u001b[43m)\u001b[49m\n\u001b[1;32m    230\u001b[0m \u001b[38;5;28;01mwith\u001b[39;00m f_ctx \u001b[38;5;28;01mas\u001b[39;00m fid:\n\u001b[1;32m    231\u001b[0m     fid\u001b[38;5;241m.\u001b[39mseek(\u001b[38;5;241m0\u001b[39m, \u001b[38;5;241m2\u001b[39m)\n",
      "\u001b[0;31mKeyboardInterrupt\u001b[0m: "
     ]
    }
   ],
   "source": [
    "with open_file(raw_folder) as f:\n",
    "    raw = f[\"*.tiff\"][:]\n",
    "    print(raw.shape)\n",
    "with open_file(boundary_folder) as f:\n",
    "    boundaries = f[\"*.tiff\"][:]\n",
    "    print(np.unique(boundaries))\n",
    "    boundaries = boundaries == 255\n",
    "    print(boundaries.shape)\n",
    "with open_file(label_folder) as f:\n",
    "    labels = f[\"*.tiff\"][:]\n",
    "    print(np.unique(labels))\n",
    "    labels = labels == 255\n",
    "    print(labels.shape)\n",
    "\n",
    "v = napari.Viewer()\n",
    "v.add_image(raw)\n",
    "v.add_labels(boundaries)\n",
    "v.add_labels(labels)\n",
    "napari.run()"
   ]
  },
  {
   "cell_type": "code",
   "execution_count": 4,
   "metadata": {},
   "outputs": [],
   "source": [
    "raw_folder = \"/g/kreshuk/buglakova/data/cryofib/F107_bin2_619-639_frames/train\"\n",
    "label_folder = \"/g/kreshuk/buglakova/data/cryofib/corrected_labels/train\""
   ]
  },
  {
   "cell_type": "code",
   "execution_count": 5,
   "metadata": {},
   "outputs": [
    {
     "name": "stdout",
     "output_type": "stream",
     "text": [
      "(9, 1506, 1647)\n",
      "[    0     1     2   512   767  1022  1277  1532  1787  2042  2297  2552\n",
      "  2807  3062  3317  3572  3827  4082  4337  4592  4847  5357  5612  5867\n",
      "  6122  6377  6632  6887  7142  7397  7652  7907  8162  8417  8672  8927\n",
      "  9437  9692 10202 10457 10712 10967 11222 11477 11987 12242 12497 12752\n",
      " 13007 13262 13772 14027 14282 14537 14792 15047 15302 15557 15812 16322\n",
      " 16577 16832 17087 17342 17597 17852 18107 18362 18617 18872 19127 19382\n",
      " 19637 20147 20402 20912 21167 21422 21677 21932 22187 22442 22697 22952\n",
      " 23207 23462 23717 23972 24227 24482 24992 25247 26012 26777 27797 28052\n",
      " 29072 29327 29582]\n",
      "(9, 1506, 1647)\n"
     ]
    },
    {
     "name": "stderr",
     "output_type": "stream",
     "text": [
      "WARNING: QStandardPaths: XDG_RUNTIME_DIR not set, defaulting to '/tmp/runtime-buglakov'\n"
     ]
    }
   ],
   "source": [
    "with open_file(raw_folder) as f:\n",
    "    raw = f[\"*.tiff\"][:]\n",
    "    print(raw.shape)\n",
    "with open_file(label_folder) as f:\n",
    "    labels = f[\"*.tiff\"][:]\n",
    "    print(np.unique(labels))\n",
    "\n",
    "    print(labels.shape)\n",
    "\n",
    "v = napari.Viewer()\n",
    "v.add_image(raw)\n",
    "# v.add_labels(boundaries)\n",
    "v.add_labels(labels)\n",
    "napari.run()"
   ]
  },
  {
   "cell_type": "code",
   "execution_count": 12,
   "metadata": {},
   "outputs": [
    {
     "data": {
      "text/plain": [
       "<matplotlib.image.AxesImage at 0x7fc266789220>"
      ]
     },
     "execution_count": 12,
     "metadata": {},
     "output_type": "execute_result"
    },
    {
     "data": {
      "image/png": "[encoded data removed]",
      "text/plain": [
       "<Figure size 432x288 with 1 Axes>"
      ]
     },
     "metadata": {
      "needs_background": "light"
     },
     "output_type": "display_data"
    }
   ],
   "source": [
    "plt.imshow(labels[0, :, :])"
   ]
  },
  {
   "cell_type": "code",
   "execution_count": 9,
   "metadata": {},
   "outputs": [
    {
     "data": {
      "text/plain": [
       "<Labels layer 'Labels' at 0x7fc39f055d60>"
      ]
     },
     "execution_count": 9,
     "metadata": {},
     "output_type": "execute_result"
    }
   ],
   "source": [
    "v.add_labels(labels.astype(int))"
   ]
  },
  {
   "cell_type": "code",
   "execution_count": 8,
   "metadata": {},
   "outputs": [
    {
     "data": {
      "text/plain": [
       "array([[[False, False, False, ..., False, False, False],\n",
       "        [False, False, False, ..., False, False, False],\n",
       "        [False, False, False, ..., False, False, False],\n",
       "        ...,\n",
       "        [False, False, False, ..., False, False, False],\n",
       "        [False, False, False, ..., False, False, False],\n",
       "        [False, False, False, ..., False, False, False]],\n",
       "\n",
       "       [[False, False, False, ..., False, False, False],\n",
       "        [False, False, False, ..., False, False, False],\n",
       "        [False, False, False, ..., False, False, False],\n",
       "        ...,\n",
       "        [False, False, False, ..., False, False, False],\n",
       "        [False, False, False, ..., False, False, False],\n",
       "        [False, False, False, ..., False, False, False]],\n",
       "\n",
       "       [[False, False, False, ..., False, False, False],\n",
       "        [False, False, False, ..., False, False, False],\n",
       "        [False, False, False, ..., False, False, False],\n",
       "        ...,\n",
       "        [False, False, False, ..., False, False, False],\n",
       "        [False, False, False, ..., False, False, False],\n",
       "        [False, False, False, ..., False, False, False]],\n",
       "\n",
       "       ...,\n",
       "\n",
       "       [[False, False, False, ..., False, False, False],\n",
       "        [False, False, False, ..., False, False, False],\n",
       "        [False, False, False, ..., False, False, False],\n",
       "        ...,\n",
       "        [False, False, False, ..., False, False, False],\n",
       "        [False, False, False, ..., False, False, False],\n",
       "        [False, False, False, ..., False, False, False]],\n",
       "\n",
       "       [[False, False, False, ..., False, False, False],\n",
       "        [False, False, False, ..., False, False, False],\n",
       "        [False, False, False, ..., False, False, False],\n",
       "        ...,\n",
       "        [False, False, False, ..., False, False, False],\n",
       "        [False, False, False, ..., False, False, False],\n",
       "        [False, False, False, ..., False, False, False]],\n",
       "\n",
       "       [[False, False, False, ..., False, False, False],\n",
       "        [False, False, False, ..., False, False, False],\n",
       "        [False, False, False, ..., False, False, False],\n",
       "        ...,\n",
       "        [False, False, False, ..., False, False, False],\n",
       "        [False, False, False, ..., False, False, False],\n",
       "        [False, False, False, ..., False, False, False]]])"
      ]
     },
     "execution_count": 8,
     "metadata": {},
     "output_type": "execute_result"
    }
   ],
   "source": [
    "labels"
   ]
  },
  {
   "cell_type": "code",
   "execution_count": 10,
   "metadata": {},
   "outputs": [],
   "source": [
    "raw_folder = \"/g/kreshuk/buglakova/data/cryofib/F107_bin2_619-639_frames/train\"\n",
    "prediction_folder = \"/g/kreshuk/buglakova/data/cryofib/F107_bin2_619-639_predictions/train\"\n",
    "label_folder = \"/g/kreshuk/buglakova/data/cryofib/corrected_labels/train\""
   ]
  },
  {
   "cell_type": "code",
   "execution_count": 11,
   "metadata": {},
   "outputs": [
    {
     "name": "stdout",
     "output_type": "stream",
     "text": [
      "Raw shape:  (9, 1506, 1647)\n",
      "Predictions shape:  (9, 1506, 1647, 4)\n",
      "Labels shape:  (9, 1506, 1647)\n"
     ]
    }
   ],
   "source": [
    "with open_file(raw_folder) as f:\n",
    "    raw = f[\"*.tiff\"][:]\n",
    "    print(\"Raw shape: \", raw.shape)\n",
    "with open_file(prediction_folder) as f:\n",
    "    predictions = f[\"*.tiff\"][:]\n",
    "    print(\"Predictions shape: \", predictions.shape)\n",
    "    cells = predictions[:, :, :, 0]\n",
    "    outside = predictions[:, :, :, 1]\n",
    "    boundaries = predictions[:, :, :, 2]\n",
    "    extracellular = predictions[:, :, :, 3]\n",
    "    \n",
    "with open_file(label_folder) as f:\n",
    "    labels = f[\"*.tiff\"][:]    \n",
    "    print(\"Labels shape: \", labels.shape)\n"
   ]
  },
  {
   "cell_type": "code",
   "execution_count": 4,
   "metadata": {},
   "outputs": [
    {
     "name": "stderr",
     "output_type": "stream",
     "text": [
      "WARNING: QStandardPaths: XDG_RUNTIME_DIR not set, defaulting to '/tmp/runtime-buglakov'\n"
     ]
    },
    {
     "data": {
      "text/plain": [
       "<Labels layer 'labels' at 0x7fcbf525be20>"
      ]
     },
     "execution_count": 4,
     "metadata": {},
     "output_type": "execute_result"
    }
   ],
   "source": [
    "\n",
    "v = napari.Viewer()\n"
   ]
  },
  {
   "cell_type": "code",
   "execution_count": 6,
   "metadata": {},
   "outputs": [
    {
     "data": {
      "text/plain": [
       "<Labels layer 'labels [1]' at 0x7fca774c59a0>"
      ]
     },
     "execution_count": 6,
     "metadata": {},
     "output_type": "execute_result"
    }
   ],
   "source": [
    "# v.add_image(raw)\n",
    "# v.add_labels(boundaries)\n",
    "v.add_labels(labels)"
   ]
  },
  {
   "cell_type": "code",
   "execution_count": 16,
   "metadata": {},
   "outputs": [
    {
     "data": {
      "text/plain": [
       "<Image layer 'outside' at 0x7fc9b3bcb820>"
      ]
     },
     "execution_count": 16,
     "metadata": {},
     "output_type": "execute_result"
    }
   ],
   "source": [
    "v.add_image(outside)"
   ]
  },
  {
   "cell_type": "markdown",
   "metadata": {},
   "source": [
    "## View n5 dataset"
   ]
  },
  {
   "cell_type": "code",
   "execution_count": 3,
   "metadata": {},
   "outputs": [],
   "source": [
    "import z5py\n",
    "from pathlib import Path"
   ]
  },
  {
   "cell_type": "code",
   "execution_count": 4,
   "metadata": {},
   "outputs": [],
   "source": [
    "scratch_dir = Path(\"/scratch/buglakova\")\n",
    "predictions_dir = scratch_dir / \"F107_bin2_619-639_predictions\"\n",
    "predictions_dir.mkdir(parents=True, exist_ok=True)\n",
    "train_n5_path = predictions_dir / \"train.n5\"\n",
    "train_pred_n5_path = predictions_dir / \"train_predictions.n5\"\n",
    "train_multicut_n5_path = predictions_dir / \"train_multicut.n5\""
   ]
  },
  {
   "cell_type": "code",
   "execution_count": 5,
   "metadata": {},
   "outputs": [],
   "source": [
    "n5_path = predictions_dir / \"full_raw.n5\"\n",
    "pred_n5_path = predictions_dir / \"full_predictions.n5\"\n",
    "multicut_n5_path = predictions_dir / \"full_multicut.n5\""
   ]
  },
  {
   "cell_type": "code",
   "execution_count": 6,
   "metadata": {},
   "outputs": [],
   "source": [
    "f = z5py.File(train_pred_n5_path, \"r\")\n",
    "f_raw = z5py.File(train_n5_path, \"r\")\n",
    "f_multicut = z5py.File(train_multicut_n5_path, \"r\")"
   ]
  },
  {
   "cell_type": "code",
   "execution_count": 7,
   "metadata": {},
   "outputs": [],
   "source": [
    "f = z5py.File(pred_n5_path, \"r\")\n",
    "f_raw = z5py.File(n5_path, \"r\")\n",
    "f_multicut = z5py.File(multicut_n5_path, \"r\")"
   ]
  },
  {
   "cell_type": "code",
   "execution_count": 8,
   "metadata": {},
   "outputs": [],
   "source": [
    "def read_raw(f: z5py.File):\n",
    "    raw = f[\"raw\"][\"raw_data\"]\n",
    "    raw.n_threads = 8\n",
    "    print(\"Reading raw data into memory\")\n",
    "    raw = raw[:]\n",
    "    print(\"Raw data shape: \", raw.shape, type(raw))\n",
    "    return raw"
   ]
  },
  {
   "cell_type": "code",
   "execution_count": 9,
   "metadata": {},
   "outputs": [
    {
     "name": "stdout",
     "output_type": "stream",
     "text": [
      "Reading raw data into memory\n",
      "Raw data shape:  (1350, 1506, 1647) <class 'numpy.ndarray'>\n"
     ]
    }
   ],
   "source": [
    "raw = read_raw(f_raw)"
   ]
  },
  {
   "cell_type": "code",
   "execution_count": 10,
   "metadata": {},
   "outputs": [],
   "source": [
    "def read_boundaries(f: z5py.File):\n",
    "    g = f[\"predictions\"]\n",
    "    g.n_threads = 8\n",
    "    print(\"Reading boundary probabilities into memory\")\n",
    "    boundaries = g[\"boundaries\"][:]\n",
    "    # extra = g[\"extracellular\"][:]\n",
    "    return boundaries"
   ]
  },
  {
   "cell_type": "code",
   "execution_count": 11,
   "metadata": {},
   "outputs": [
    {
     "name": "stdout",
     "output_type": "stream",
     "text": [
      "Reading boundary probabilities into memory\n"
     ]
    }
   ],
   "source": [
    "boundaries = read_boundaries(f)"
   ]
  },
  {
   "cell_type": "code",
   "execution_count": 11,
   "metadata": {},
   "outputs": [],
   "source": [
    "def read_extracellular(f: z5py.File):\n",
    "    g = f[\"predictions\"]\n",
    "    g.n_threads = 8\n",
    "    print(\"Reading extracellular space probabilities into memory\")\n",
    "    # boundaries = g[\"boundaries\"][:]\n",
    "    extra = g[\"extracellular\"][:]\n",
    "    return extra"
   ]
  },
  {
   "cell_type": "code",
   "execution_count": 12,
   "metadata": {},
   "outputs": [
    {
     "name": "stdout",
     "output_type": "stream",
     "text": [
      "Reading extracellular space probabilities into memory\n"
     ]
    }
   ],
   "source": [
    "extra = read_extracellular(f)"
   ]
  },
  {
   "cell_type": "code",
   "execution_count": 11,
   "metadata": {},
   "outputs": [],
   "source": [
    "def read_ws(f: z5py.File):\n",
    "    g = f[\"watershed\"]\n",
    "    g.n_threads = 8\n",
    "    print(\"Reading watershed into memory\")\n",
    "    ws = g[\"watershed\"][:]\n",
    "    # extra = g[\"extracellular\"][:]\n",
    "    return ws"
   ]
  },
  {
   "cell_type": "code",
   "execution_count": 12,
   "metadata": {},
   "outputs": [
    {
     "name": "stdout",
     "output_type": "stream",
     "text": [
      "Reading watershed into memory\n"
     ]
    }
   ],
   "source": [
    "ws = read_ws(f_multicut)"
   ]
  },
  {
   "cell_type": "code",
   "execution_count": 12,
   "metadata": {},
   "outputs": [],
   "source": [
    "def read_multicut(f: z5py.File):\n",
    "    g = f[\"segmentation\"]\n",
    "    g.n_threads = 8\n",
    "    print(\"Reading multicut segmentation into memory\")\n",
    "    seg = g[\"multicut\"][:]\n",
    "    # extra = g[\"extracellular\"][:]\n",
    "    return seg"
   ]
  },
  {
   "cell_type": "code",
   "execution_count": 13,
   "metadata": {},
   "outputs": [
    {
     "name": "stdout",
     "output_type": "stream",
     "text": [
      "Reading multicut segmentation into memory\n"
     ]
    }
   ],
   "source": [
    "seg = read_multicut(f_multicut)"
   ]
  },
  {
   "cell_type": "code",
   "execution_count": 1,
   "metadata": {},
   "outputs": [
    {
     "ename": "NameError",
     "evalue": "name 'napari' is not defined",
     "output_type": "error",
     "traceback": [
      "\u001b[0;31m---------------------------------------------------------------------------\u001b[0m",
      "\u001b[0;31mNameError\u001b[0m                                 Traceback (most recent call last)",
      "Input \u001b[0;32mIn [1]\u001b[0m, in \u001b[0;36m<cell line: 1>\u001b[0;34m()\u001b[0m\n\u001b[0;32m----> 1\u001b[0m v \u001b[38;5;241m=\u001b[39m \u001b[43mnapari\u001b[49m\u001b[38;5;241m.\u001b[39mViewer()\n",
      "\u001b[0;31mNameError\u001b[0m: name 'napari' is not defined"
     ]
    }
   ],
   "source": [
    "v = napari.Viewer()"
   ]
  },
  {
   "cell_type": "code",
   "execution_count": 17,
   "metadata": {},
   "outputs": [
    {
     "data": {
      "text/plain": [
       "<Image layer 'raw' at 0x7f38d0adb790>"
      ]
     },
     "execution_count": 17,
     "metadata": {},
     "output_type": "execute_result"
    }
   ],
   "source": [
    "v.add_image(raw)"
   ]
  },
  {
   "cell_type": "code",
   "execution_count": 18,
   "metadata": {},
   "outputs": [
    {
     "data": {
      "text/plain": [
       "<Image layer 'boundaries' at 0x7f36fc5ff730>"
      ]
     },
     "execution_count": 18,
     "metadata": {},
     "output_type": "execute_result"
    }
   ],
   "source": [
    "v.add_image(boundaries)"
   ]
  },
  {
   "cell_type": "code",
   "execution_count": 19,
   "metadata": {},
   "outputs": [
    {
     "data": {
      "text/plain": [
       "<Image layer 'extra' at 0x7f361c7ec6a0>"
      ]
     },
     "execution_count": 19,
     "metadata": {},
     "output_type": "execute_result"
    }
   ],
   "source": [
    "v.add_image(extra)"
   ]
  },
  {
   "cell_type": "code",
   "execution_count": 16,
   "metadata": {},
   "outputs": [
    {
     "data": {
      "text/plain": [
       "<Labels layer 'ws' at 0x7f4ff27fbd90>"
      ]
     },
     "execution_count": 16,
     "metadata": {},
     "output_type": "execute_result"
    }
   ],
   "source": [
    "v.add_labels(ws)"
   ]
  },
  {
   "cell_type": "code",
   "execution_count": 20,
   "metadata": {},
   "outputs": [
    {
     "data": {
      "text/plain": [
       "<Labels layer 'seg' at 0x7f362ff32310>"
      ]
     },
     "execution_count": 20,
     "metadata": {},
     "output_type": "execute_result"
    }
   ],
   "source": [
    "v.add_labels(seg)"
   ]
  },
  {
   "cell_type": "markdown",
   "metadata": {},
   "source": [
    "## Save segmentation"
   ]
  },
  {
   "cell_type": "code",
   "execution_count": 15,
   "metadata": {},
   "outputs": [],
   "source": [
    "corrected_segmentation_path = predictions_dir / \"full_corrected.n5\"\n",
    "f_save = z5py.File(corrected_segmentation_path, \"a\")\n",
    "f_save.create_dataset(\"corrected\", shape=seg.shape, compression=\"gzip\", chunks=(1, 512, 512), dtype=seg.dtype)\n",
    "f_save[\"corrected\"].n_threads = 8"
   ]
  },
  {
   "cell_type": "code",
   "execution_count": null,
   "metadata": {},
   "outputs": [],
   "source": [
    "def save_corrected_segmentation(seg, f):\n",
    "    f[\"corrected\"][:] = seg"
   ]
  },
  {
   "cell_type": "code",
   "execution_count": null,
   "metadata": {},
   "outputs": [],
   "source": [
    "save_corrected_segmentation(seg, f_save)"
   ]
  },
  {
   "cell_type": "code",
   "execution_count": null,
   "metadata": {},
   "outputs": [],
   "source": []
  }
 ],
 "metadata": {
  "kernelspec": {
   "display_name": "Python [conda env:napari_env] *",
   "language": "python",
   "name": "conda-env-napari_env-py"
  },
  "language_info": {
   "codemirror_mode": {
    "name": "ipython",
    "version": 3
   },
   "file_extension": ".py",
   "mimetype": "text/x-python",
   "name": "python",
   "nbconvert_exporter": "python",
   "pygments_lexer": "ipython3",
   "version": "3.9.10"
  }
 },
 "nbformat": 4,
 "nbformat_minor": 2
}
