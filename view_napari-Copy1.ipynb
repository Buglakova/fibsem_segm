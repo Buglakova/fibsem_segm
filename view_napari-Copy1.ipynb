{
 "cells": [
  {
   "cell_type": "code",
   "execution_count": 1,
   "metadata": {},
   "outputs": [],
   "source": [
    "import napari\n",
    "import numpy as np\n",
    "from elf.io import open_file\n"
   ]
  },
  {
   "cell_type": "markdown",
   "metadata": {},
   "source": [
    "## View directories with .tiff files"
   ]
  },
  {
   "cell_type": "code",
   "execution_count": null,
   "metadata": {},
   "outputs": [],
   "source": [
    "raw_folder = \"/g/kreshuk/data/from_edoardo/cryoSEM/F107a1_bin2\"\n",
    "boundary_folder = \"/g/kreshuk/data/from_edoardo/cryoSEM/F107a1_bin2_boundaries\"\n",
    "label_folder = \"/g/kreshuk/data/from_edoardo/cryoSEM/F107a1_bin2_cells\""
   ]
  },
  {
   "cell_type": "code",
   "execution_count": null,
   "metadata": {},
   "outputs": [],
   "source": [
    "with open_file(raw_folder) as f:\n",
    "    raw = f[\"*.tiff\"][:]\n",
    "    print(raw.shape)\n",
    "with open_file(boundary_folder) as f:\n",
    "    boundaries = f[\"*.tiff\"][:]\n",
    "    print(np.unique(boundaries))\n",
    "    boundaries = boundaries == 255\n",
    "    print(boundaries.shape)\n",
    "with open_file(label_folder) as f:\n",
    "    labels = f[\"*.tiff\"][:]\n",
    "    print(np.unique(labels))\n",
    "    labels = labels == 255\n",
    "    print(labels.shape)\n",
    "\n",
    "v = napari.Viewer()\n",
    "v.add_image(raw)\n",
    "v.add_labels(boundaries)\n",
    "v.add_labels(labels)\n",
    "napari.run()"
   ]
  },
  {
   "cell_type": "code",
   "execution_count": 10,
   "metadata": {},
   "outputs": [],
   "source": [
    "raw_folder = \"/g/kreshuk/buglakova/data/cryofib/F107_bin2_619-639_frames/train\"\n",
    "prediction_folder = \"/g/kreshuk/buglakova/data/cryofib/F107_bin2_619-639_predictions/train\"\n",
    "label_folder = \"/g/kreshuk/buglakova/data/cryofib/corrected_labels/train\""
   ]
  },
  {
   "cell_type": "code",
   "execution_count": 11,
   "metadata": {},
   "outputs": [
    {
     "name": "stdout",
     "output_type": "stream",
     "text": [
      "Raw shape:  (9, 1506, 1647)\n",
      "Predictions shape:  (9, 1506, 1647, 4)\n",
      "Labels shape:  (9, 1506, 1647)\n"
     ]
    }
   ],
   "source": [
    "with open_file(raw_folder) as f:\n",
    "    raw = f[\"*.tiff\"][:]\n",
    "    print(\"Raw shape: \", raw.shape)\n",
    "with open_file(prediction_folder) as f:\n",
    "    predictions = f[\"*.tiff\"][:]\n",
    "    print(\"Predictions shape: \", predictions.shape)\n",
    "    cells = predictions[:, :, :, 0]\n",
    "    outside = predictions[:, :, :, 1]\n",
    "    boundaries = predictions[:, :, :, 2]\n",
    "    extracellular = predictions[:, :, :, 3]\n",
    "    \n",
    "with open_file(label_folder) as f:\n",
    "    labels = f[\"*.tiff\"][:]    \n",
    "    print(\"Labels shape: \", labels.shape)\n"
   ]
  },
  {
   "cell_type": "code",
   "execution_count": 4,
   "metadata": {},
   "outputs": [
    {
     "name": "stderr",
     "output_type": "stream",
     "text": [
      "WARNING: QStandardPaths: XDG_RUNTIME_DIR not set, defaulting to '/tmp/runtime-buglakov'\n"
     ]
    },
    {
     "data": {
      "text/plain": [
       "<Labels layer 'labels' at 0x7fcbf525be20>"
      ]
     },
     "execution_count": 4,
     "metadata": {},
     "output_type": "execute_result"
    }
   ],
   "source": [
    "\n",
    "v = napari.Viewer()\n"
   ]
  },
  {
   "cell_type": "code",
   "execution_count": 6,
   "metadata": {},
   "outputs": [
    {
     "data": {
      "text/plain": [
       "<Labels layer 'labels [1]' at 0x7fca774c59a0>"
      ]
     },
     "execution_count": 6,
     "metadata": {},
     "output_type": "execute_result"
    }
   ],
   "source": [
    "# v.add_image(raw)\n",
    "# v.add_labels(boundaries)\n",
    "v.add_labels(labels)"
   ]
  },
  {
   "cell_type": "code",
   "execution_count": 16,
   "metadata": {},
   "outputs": [
    {
     "data": {
      "text/plain": [
       "<Image layer 'outside' at 0x7fc9b3bcb820>"
      ]
     },
     "execution_count": 16,
     "metadata": {},
     "output_type": "execute_result"
    }
   ],
   "source": [
    "v.add_image(outside)"
   ]
  },
  {
   "cell_type": "markdown",
   "metadata": {},
   "source": [
    "## View n5 dataset"
   ]
  },
  {
   "cell_type": "code",
   "execution_count": 2,
   "metadata": {},
   "outputs": [],
   "source": [
    "import z5py\n",
    "from pathlib import Path"
   ]
  },
  {
   "cell_type": "code",
   "execution_count": 3,
   "metadata": {},
   "outputs": [],
   "source": [
    "scratch_dir = Path(\"/scratch/buglakova\")\n",
    "predictions_dir = scratch_dir / \"F107_bin2_619-639_predictions\"\n",
    "predictions_dir.mkdir(parents=True, exist_ok=True)\n",
    "train_n5_path = predictions_dir / \"train.n5\"\n",
    "train_pred_n5_path = predictions_dir / \"train_predictions.n5\"\n",
    "train_multicut_n5_path = predictions_dir / \"train_multicut.n5\""
   ]
  },
  {
   "cell_type": "code",
   "execution_count": 4,
   "metadata": {},
   "outputs": [],
   "source": [
    "n5_path = predictions_dir / \"full_raw.n5\"\n",
    "pred_n5_path = predictions_dir / \"full_predictions.n5\"\n",
    "multicut_n5_path = predictions_dir / \"full_multicut_extra.n5\""
   ]
  },
  {
   "cell_type": "code",
   "execution_count": 5,
   "metadata": {},
   "outputs": [],
   "source": [
    "f = z5py.File(train_pred_n5_path, \"r\")\n",
    "f_raw = z5py.File(train_n5_path, \"r\")\n",
    "f_multicut = z5py.File(train_multicut_n5_path, \"r\")"
   ]
  },
  {
   "cell_type": "code",
   "execution_count": 6,
   "metadata": {},
   "outputs": [],
   "source": [
    "f = z5py.File(pred_n5_path, \"r\")\n",
    "f_raw = z5py.File(n5_path, \"r\")\n",
    "f_multicut = z5py.File(multicut_n5_path, \"r\")"
   ]
  },
  {
   "cell_type": "code",
   "execution_count": 7,
   "metadata": {},
   "outputs": [],
   "source": [
    "def read_raw(f: z5py.File):\n",
    "    raw = f[\"raw\"][\"raw_data\"]\n",
    "    raw.n_threads = 8\n",
    "    print(\"Reading raw data into memory\")\n",
    "    raw = raw[:]\n",
    "    print(\"Raw data shape: \", raw.shape, type(raw))\n",
    "    return raw"
   ]
  },
  {
   "cell_type": "code",
   "execution_count": 8,
   "metadata": {},
   "outputs": [
    {
     "name": "stdout",
     "output_type": "stream",
     "text": [
      "Reading raw data into memory\n",
      "Raw data shape:  (1350, 1506, 1647) <class 'numpy.ndarray'>\n"
     ]
    }
   ],
   "source": [
    "raw = read_raw(f_raw)"
   ]
  },
  {
   "cell_type": "code",
   "execution_count": 9,
   "metadata": {},
   "outputs": [],
   "source": [
    "def read_boundaries(f: z5py.File):\n",
    "    g = f[\"predictions\"]\n",
    "    g.n_threads = 8\n",
    "    print(\"Reading boundary probabilities into memory\")\n",
    "    boundaries = g[\"boundaries\"][:]\n",
    "    # extra = g[\"extracellular\"][:]\n",
    "    return boundaries"
   ]
  },
  {
   "cell_type": "code",
   "execution_count": 10,
   "metadata": {},
   "outputs": [
    {
     "name": "stdout",
     "output_type": "stream",
     "text": [
      "Reading boundary probabilities into memory\n"
     ]
    }
   ],
   "source": [
    "boundaries = read_boundaries(f)"
   ]
  },
  {
   "cell_type": "code",
   "execution_count": 11,
   "metadata": {},
   "outputs": [],
   "source": [
    "def read_extracellular(f: z5py.File):\n",
    "    g = f[\"predictions\"]\n",
    "    g.n_threads = 8\n",
    "    print(\"Reading extracellular space probabilities into memory\")\n",
    "    # boundaries = g[\"boundaries\"][:]\n",
    "    extra = g[\"extracellular\"][:]\n",
    "    return extra"
   ]
  },
  {
   "cell_type": "code",
   "execution_count": 12,
   "metadata": {},
   "outputs": [
    {
     "name": "stdout",
     "output_type": "stream",
     "text": [
      "Reading extracellular space probabilities into memory\n"
     ]
    }
   ],
   "source": [
    "extra = read_extracellular(f)"
   ]
  },
  {
   "cell_type": "code",
   "execution_count": 11,
   "metadata": {},
   "outputs": [],
   "source": [
    "def read_ws(f: z5py.File):\n",
    "    g = f[\"watershed\"]\n",
    "    g.n_threads = 8\n",
    "    print(\"Reading watershed into memory\")\n",
    "    ws = g[\"watershed\"][:]\n",
    "    # extra = g[\"extracellular\"][:]\n",
    "    return ws"
   ]
  },
  {
   "cell_type": "code",
   "execution_count": 12,
   "metadata": {},
   "outputs": [
    {
     "name": "stdout",
     "output_type": "stream",
     "text": [
      "Reading watershed into memory\n"
     ]
    }
   ],
   "source": [
    "ws = read_ws(f_multicut)"
   ]
  },
  {
   "cell_type": "code",
   "execution_count": 13,
   "metadata": {},
   "outputs": [],
   "source": [
    "def read_multicut(f: z5py.File):\n",
    "    g = f[\"segmentation\"]\n",
    "    g.n_threads = 8\n",
    "    print(\"Reading multicut segmentation into memory\")\n",
    "    seg = g[\"multicut\"][:]\n",
    "    # extra = g[\"extracellular\"][:]\n",
    "    return seg"
   ]
  },
  {
   "cell_type": "code",
   "execution_count": 14,
   "metadata": {},
   "outputs": [
    {
     "name": "stdout",
     "output_type": "stream",
     "text": [
      "Reading multicut segmentation into memory\n"
     ]
    }
   ],
   "source": [
    "seg = read_multicut(f_multicut)"
   ]
  },
  {
   "cell_type": "code",
   "execution_count": 15,
   "metadata": {},
   "outputs": [
    {
     "name": "stderr",
     "output_type": "stream",
     "text": [
      "WARNING: QStandardPaths: XDG_RUNTIME_DIR not set, defaulting to '/tmp/runtime-buglakov'\n"
     ]
    }
   ],
   "source": [
    "v = napari.Viewer()"
   ]
  },
  {
   "cell_type": "code",
   "execution_count": 16,
   "metadata": {},
   "outputs": [
    {
     "data": {
      "text/plain": [
       "<Image layer 'raw' at 0x7f5cb3a44850>"
      ]
     },
     "execution_count": 16,
     "metadata": {},
     "output_type": "execute_result"
    }
   ],
   "source": [
    "v.add_image(raw)"
   ]
  },
  {
   "cell_type": "code",
   "execution_count": 18,
   "metadata": {},
   "outputs": [
    {
     "data": {
      "text/plain": [
       "<Image layer 'boundaries' at 0x7f5a6057b760>"
      ]
     },
     "execution_count": 18,
     "metadata": {},
     "output_type": "execute_result"
    }
   ],
   "source": [
    "v.add_image(boundaries)"
   ]
  },
  {
   "cell_type": "code",
   "execution_count": 19,
   "metadata": {},
   "outputs": [
    {
     "data": {
      "text/plain": [
       "<Image layer 'extra' at 0x7f361c7ec6a0>"
      ]
     },
     "execution_count": 19,
     "metadata": {},
     "output_type": "execute_result"
    }
   ],
   "source": [
    "v.add_image(extra)"
   ]
  },
  {
   "cell_type": "code",
   "execution_count": 16,
   "metadata": {},
   "outputs": [
    {
     "data": {
      "text/plain": [
       "<Labels layer 'ws' at 0x7f4ff27fbd90>"
      ]
     },
     "execution_count": 16,
     "metadata": {},
     "output_type": "execute_result"
    }
   ],
   "source": [
    "v.add_labels(ws)"
   ]
  },
  {
   "cell_type": "code",
   "execution_count": 17,
   "metadata": {},
   "outputs": [
    {
     "data": {
      "text/plain": [
       "<Labels layer 'seg' at 0x7f5bac088790>"
      ]
     },
     "execution_count": 17,
     "metadata": {},
     "output_type": "execute_result"
    }
   ],
   "source": [
    "v.add_labels(seg)"
   ]
  },
  {
   "cell_type": "markdown",
   "metadata": {},
   "source": [
    "## Save segmentation"
   ]
  },
  {
   "cell_type": "code",
   "execution_count": 15,
   "metadata": {},
   "outputs": [],
   "source": [
    "corrected_segmentation_path = predictions_dir / \"full_corrected.n5\"\n",
    "f_save = z5py.File(corrected_segmentation_path, \"a\")\n",
    "f_save.create_dataset(\"corrected\", shape=seg.shape, compression=\"gzip\", chunks=(1, 512, 512), dtype=seg.dtype)\n",
    "f_save[\"corrected\"].n_threads = 8"
   ]
  },
  {
   "cell_type": "code",
   "execution_count": null,
   "metadata": {},
   "outputs": [],
   "source": [
    "def save_corrected_segmentation(seg, f):\n",
    "    f[\"corrected\"][:] = seg"
   ]
  },
  {
   "cell_type": "code",
   "execution_count": null,
   "metadata": {},
   "outputs": [],
   "source": [
    "save_corrected_segmentation(seg, f_save)"
   ]
  },
  {
   "cell_type": "code",
   "execution_count": null,
   "metadata": {},
   "outputs": [],
   "source": []
  }
 ],
 "metadata": {
  "kernelspec": {
   "display_name": "Python [conda env:napari_env] *",
   "language": "python",
   "name": "conda-env-napari_env-py"
  },
  "language_info": {
   "codemirror_mode": {
    "name": "ipython",
    "version": 3
   },
   "file_extension": ".py",
   "mimetype": "text/x-python",
   "name": "python",
   "nbconvert_exporter": "python",
   "pygments_lexer": "ipython3",
   "version": "3.9.10"
  }
 },
 "nbformat": 4,
 "nbformat_minor": 2
}
