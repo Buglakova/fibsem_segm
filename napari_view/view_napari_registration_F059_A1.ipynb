{
 "cells": [
  {
   "cell_type": "code",
   "execution_count": 1,
   "metadata": {},
   "outputs": [],
   "source": [
    "import napari\n",
    "import numpy as np\n",
    "import matplotlib.pyplot as plt\n",
    "import z5py\n",
    "from pathlib import Path\n",
    "\n",
    "from cryofib.n5_utils import read_volume"
   ]
  },
  {
   "cell_type": "markdown",
   "metadata": {},
   "source": [
    "## View n5 datasets"
   ]
  },
  {
   "cell_type": "code",
   "execution_count": 2,
   "metadata": {},
   "outputs": [],
   "source": [
    "data_dir = Path(\"/g/kreshuk/buglakova/data/cryofib/registration_fluo/F059\")\n",
    "fluo_n5_path = data_dir / \"F059_fluo.n5\"\n",
    "em_n5_path = data_dir / \"F059_A1_em.n5\"\n",
    "\n",
    "f_fluo = z5py.File(fluo_n5_path, \"r\")\n",
    "f_em = z5py.File(em_n5_path, \"r\")"
   ]
  },
  {
   "cell_type": "markdown",
   "metadata": {},
   "source": [
    "## Read volumes"
   ]
  },
  {
   "cell_type": "code",
   "execution_count": 3,
   "metadata": {},
   "outputs": [
    {
     "name": "stdout",
     "output_type": "stream",
     "text": [
      "<class 'z5py.file.File'>\n",
      "Reading roi slice(None, None, None) of volume raw from /g/kreshuk/buglakova/data/cryofib/registration_fluo/F059/F059_fluo.n5\n",
      "Read volume with shape (35, 1024, 1024), data type uint8\n"
     ]
    }
   ],
   "source": [
    "roi = np.s_[:]\n",
    "fluo = read_volume(f_fluo, \"raw\", roi)"
   ]
  },
  {
   "cell_type": "code",
   "execution_count": 4,
   "metadata": {},
   "outputs": [
    {
     "name": "stdout",
     "output_type": "stream",
     "text": [
      "<class 'z5py.file.File'>\n",
      "Reading roi slice(None, None, None) of volume segmentation/adrian_unet/nuclei from /g/kreshuk/buglakova/data/cryofib/registration_fluo/F059/F059_fluo.n5\n",
      "Read volume with shape (35, 1024, 1024), data type float32\n"
     ]
    }
   ],
   "source": [
    "segm_adrian = read_volume(f_fluo, \"segmentation/adrian_unet/nuclei\", roi)"
   ]
  },
  {
   "cell_type": "code",
   "execution_count": 5,
   "metadata": {},
   "outputs": [
    {
     "name": "stdout",
     "output_type": "stream",
     "text": [
      "<class 'z5py.file.File'>\n",
      "Reading roi slice(None, None, None) of volume raw from /g/kreshuk/buglakova/data/cryofib/registration_fluo/F059/F059_A1_em.n5\n",
      "Read volume with shape (1683, 1446, 1928), data type uint8\n"
     ]
    }
   ],
   "source": [
    "em = read_volume(f_em, \"raw\", roi)"
   ]
  },
  {
   "cell_type": "code",
   "execution_count": 6,
   "metadata": {},
   "outputs": [
    {
     "name": "stdout",
     "output_type": "stream",
     "text": [
      "<class 'z5py.file.File'>\n",
      "Reading roi slice(None, None, None) of volume segmentation/nuclei from /g/kreshuk/buglakova/data/cryofib/registration_fluo/F059/F059_A1_em.n5\n",
      "Read volume with shape (1683, 1446, 1928), data type uint8\n"
     ]
    }
   ],
   "source": [
    "segm_em_nuclei = read_volume(f_em, \"segmentation/nuclei\", roi)"
   ]
  },
  {
   "cell_type": "markdown",
   "metadata": {},
   "source": [
    "## Open it in napari"
   ]
  },
  {
   "cell_type": "code",
   "execution_count": 7,
   "metadata": {},
   "outputs": [
    {
     "name": "stderr",
     "output_type": "stream",
     "text": [
      "WARNING: QStandardPaths: XDG_RUNTIME_DIR not set, defaulting to '/tmp/runtime-buglakov'\n"
     ]
    }
   ],
   "source": [
    "v = napari.Viewer()"
   ]
  },
  {
   "cell_type": "markdown",
   "metadata": {},
   "source": [
    "### Open untransformed fluorescence"
   ]
  },
  {
   "cell_type": "code",
   "execution_count": 8,
   "metadata": {},
   "outputs": [
    {
     "data": {
      "text/plain": [
       "<Image layer 'fluo_raw' at 0x7f8d5864eec0>"
      ]
     },
     "execution_count": 8,
     "metadata": {},
     "output_type": "execute_result"
    }
   ],
   "source": [
    "ds = f_fluo[\"raw\"]\n",
    "resolution = ds.attrs[\"resolution\"]\n",
    "v.add_image(fluo, name=\"fluo_raw\", scale=resolution)"
   ]
  },
  {
   "cell_type": "code",
   "execution_count": 9,
   "metadata": {},
   "outputs": [
    {
     "data": {
      "text/plain": [
       "<Labels layer 'fluo adrian' at 0x7f8d5864e5c0>"
      ]
     },
     "execution_count": 9,
     "metadata": {},
     "output_type": "execute_result"
    }
   ],
   "source": [
    "ds = f_fluo[\"segmentation/adrian_unet/nuclei\"]\n",
    "resolution = ds.attrs[\"resolution\"]\n",
    "v.add_labels(segm_adrian > 0.5, name=\"fluo adrian\", scale=resolution)\n",
    "# points_layer = v.add_points(coords[\"fluo\"], name=\"ref points\", scale=resolution, size=10, face_color=\"green\", out_of_slice_display=True)"
   ]
  },
  {
   "cell_type": "markdown",
   "metadata": {},
   "source": [
    "### Open untransformed EM"
   ]
  },
  {
   "cell_type": "code",
   "execution_count": 10,
   "metadata": {},
   "outputs": [
    {
     "data": {
      "text/plain": [
       "<Labels layer 'em nuclei untransformed' at 0x7f8d5864ec50>"
      ]
     },
     "execution_count": 10,
     "metadata": {},
     "output_type": "execute_result"
    }
   ],
   "source": [
    "ds = f_em[\"raw\"]\n",
    "resolution = ds.attrs[\"resolution\"]\n",
    "v.add_image(em, name=\"em untransformed\", scale=resolution)\n",
    "v.add_labels(segm_em_nuclei, name=\"em nuclei untransformed\", scale=resolution)\n",
    "# v.add_points(coords[\"em\"], name=\"em points\", scale=resolution, size=30, face_color=\"cyan\", out_of_slice_display=True)"
   ]
  },
  {
   "cell_type": "markdown",
   "metadata": {},
   "source": [
    "### Open transformed EM"
   ]
  },
  {
   "cell_type": "code",
   "execution_count": 11,
   "metadata": {},
   "outputs": [],
   "source": [
    "# ds = f_em[\"raw\"]\n",
    "# resolution = ds.attrs[\"resolution\"]\n",
    "# transform_key = \"ref_affine_transform\"\n",
    "# R = ds.attrs[transform_key][\"R\"]\n",
    "# print(R)\n",
    "# v.add_image(em, name=\"em transformed\", scale=resolution, affine=R)\n",
    "# v.add_labels(segm_em_nuclei, name=\"em nuclei transformed\", scale=resolution, affine=R)\n",
    "# v.add_points(coords[\"em\"], name=\"em points transformed\", scale=resolution, affine=R, size=30, face_color=\"red\", out_of_slice_display=True)"
   ]
  },
  {
   "cell_type": "code",
   "execution_count": null,
   "metadata": {},
   "outputs": [],
   "source": []
  }
 ],
 "metadata": {
  "interpreter": {
   "hash": "cc1c03ff80a13df21eb451e0f9d6c275c99a059287021003aab271766020f90b"
  },
  "kernelspec": {
   "display_name": "Python [conda env:napari_env] *",
   "language": "python",
   "name": "conda-env-napari_env-py"
  },
  "language_info": {
   "codemirror_mode": {
    "name": "ipython",
    "version": 3
   },
   "file_extension": ".py",
   "mimetype": "text/x-python",
   "name": "python",
   "nbconvert_exporter": "python",
   "pygments_lexer": "ipython3",
   "version": "3.10.4"
  }
 },
 "nbformat": 4,
 "nbformat_minor": 2
}
