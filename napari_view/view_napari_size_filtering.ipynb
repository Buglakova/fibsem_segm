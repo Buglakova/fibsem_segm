{
 "cells": [
  {
   "cell_type": "code",
   "execution_count": 1,
   "metadata": {},
   "outputs": [],
   "source": [
    "import napari\n",
    "import numpy as np\n",
    "import matplotlib.pyplot as plt\n",
    "import z5py\n",
    "from pathlib import Path"
   ]
  },
  {
   "cell_type": "code",
   "execution_count": 2,
   "metadata": {},
   "outputs": [],
   "source": [
    "def print_key_tree(f: z5py.File):\n",
    "    print(f\"Key structure of z5 file {f.filename}\")\n",
    "    f.visititems(lambda name, obj: print(name))\n",
    "\n",
    "\n",
    "def read_volume(f: z5py.File, key: str, roi: np.lib.index_tricks.IndexExpression = np.s_[:]):\n",
    "    try:\n",
    "        ds = f[key]\n",
    "    except KeyError:\n",
    "        print(f\"No key {key} in file {f.filename}\")\n",
    "        print_key_tree(f)\n",
    "        return None\n",
    "        \n",
    "    ds.n_threads = 8\n",
    "    print(f\"Reading roi {roi} of volume {key} from {f.filename}\")\n",
    "    vol = ds[roi]\n",
    "    print(f\"Read volume with shape {vol.shape}, data type {vol.dtype}\")\n",
    "    \n",
    "    return vol"
   ]
  },
  {
   "cell_type": "markdown",
   "metadata": {},
   "source": [
    "## View n5 datasets"
   ]
  },
  {
   "cell_type": "code",
   "execution_count": 3,
   "metadata": {},
   "outputs": [],
   "source": [
    "scratch_dir = Path(\"/scratch/buglakova\")\n",
    "predictions_dir = scratch_dir / \"F107_bin2_619-639_predictions\""
   ]
  },
  {
   "cell_type": "code",
   "execution_count": 4,
   "metadata": {},
   "outputs": [],
   "source": [
    "multicut_n5_path = predictions_dir / \"filter_size_235:300.n5\"\n",
    "multicut_n5_path = predictions_dir / \"full_multicut_beta_corrected.n5\""
   ]
  },
  {
   "cell_type": "code",
   "execution_count": 5,
   "metadata": {},
   "outputs": [],
   "source": [
    "f_multicut = z5py.File(multicut_n5_path, \"r\")"
   ]
  },
  {
   "cell_type": "markdown",
   "metadata": {},
   "source": [
    "## Read volumes"
   ]
  },
  {
   "cell_type": "code",
   "execution_count": 6,
   "metadata": {},
   "outputs": [],
   "source": [
    "roi = np.s_[200:250]"
   ]
  },
  {
   "cell_type": "code",
   "execution_count": 7,
   "metadata": {},
   "outputs": [
    {
     "name": "stdout",
     "output_type": "stream",
     "text": [
      "Reading roi slice(200, 250, None) of volume raw/raw from /scratch/buglakova/F107_bin2_619-639_predictions/full_multicut_beta_corrected.n5\n",
      "Read volume with shape (50, 1506, 1647), data type uint8\n",
      "Reading roi slice(200, 250, None) of volume segmentation/multicut from /scratch/buglakova/F107_bin2_619-639_predictions/full_multicut_beta_corrected.n5\n",
      "Read volume with shape (50, 1506, 1647), data type uint32\n",
      "Reading roi slice(200, 250, None) of volume segmentation/filtered from /scratch/buglakova/F107_bin2_619-639_predictions/full_multicut_beta_corrected.n5\n",
      "Read volume with shape (50, 1506, 1647), data type uint32\n",
      "Reading roi slice(200, 250, None) of volume segmentation/multicut_initial from /scratch/buglakova/F107_bin2_619-639_predictions/full_multicut_beta_corrected.n5\n",
      "Read volume with shape (50, 1506, 1647), data type uint32\n"
     ]
    }
   ],
   "source": [
    "raw = read_volume(f_multicut, \"raw/raw\", roi)\n",
    "multicut = read_volume(f_multicut, \"segmentation/multicut\", roi)\n",
    "filtered = read_volume(f_multicut, \"segmentation/filtered\", roi)\n",
    "multicut_init = read_volume(f_multicut, \"segmentation/multicut_initial\", roi)"
   ]
  },
  {
   "cell_type": "code",
   "execution_count": 11,
   "metadata": {},
   "outputs": [
    {
     "name": "stdout",
     "output_type": "stream",
     "text": [
      "Key structure of z5 file /scratch/buglakova/F107_bin2_619-639_predictions/full_multicut_beta_corrected.n5\n",
      "corrected_annotation\n",
      "raw\n",
      "raw/raw\n",
      "segmentation\n",
      "segmentation/multicut\n",
      "segmentation/multicut_initial\n",
      "segmentation/multicut_0.6_postprocessed\n",
      "segmentation/filtered\n"
     ]
    }
   ],
   "source": [
    "print_key_tree(f_multicut)"
   ]
  },
  {
   "cell_type": "code",
   "execution_count": 18,
   "metadata": {},
   "outputs": [
    {
     "name": "stdout",
     "output_type": "stream",
     "text": [
      "No key segmentation/boundaries in file /scratch/buglakova/F107_bin2_619-639_predictions/full_multicut_beta_corrected.n5\n",
      "Key structure of z5 file /scratch/buglakova/F107_bin2_619-639_predictions/full_multicut_beta_corrected.n5\n",
      "corrected_annotation\n",
      "raw\n",
      "raw/raw\n",
      "segmentation\n",
      "segmentation/multicut\n",
      "segmentation/multicut_initial\n",
      "segmentation/multicut_0.6_postprocessed\n",
      "segmentation/filtered\n"
     ]
    }
   ],
   "source": [
    "boundaries = read_volume(f_multicut, \"segmentation/boundaries\", roi)"
   ]
  },
  {
   "cell_type": "markdown",
   "metadata": {},
   "source": [
    "## Open it in napari"
   ]
  },
  {
   "cell_type": "code",
   "execution_count": 8,
   "metadata": {},
   "outputs": [
    {
     "name": "stderr",
     "output_type": "stream",
     "text": [
      "WARNING: QStandardPaths: XDG_RUNTIME_DIR not set, defaulting to '/tmp/runtime-buglakov'\n"
     ]
    }
   ],
   "source": [
    "v = napari.Viewer()"
   ]
  },
  {
   "cell_type": "code",
   "execution_count": 9,
   "metadata": {},
   "outputs": [
    {
     "data": {
      "text/plain": [
       "<Image layer 'raw' at 0x7f05ac3775e0>"
      ]
     },
     "execution_count": 9,
     "metadata": {},
     "output_type": "execute_result"
    }
   ],
   "source": [
    "v.add_image(raw)"
   ]
  },
  {
   "cell_type": "code",
   "execution_count": 10,
   "metadata": {},
   "outputs": [
    {
     "data": {
      "text/plain": [
       "<Labels layer 'multicut' at 0x7f05ac2ab1c0>"
      ]
     },
     "execution_count": 10,
     "metadata": {},
     "output_type": "execute_result"
    }
   ],
   "source": [
    "v.add_labels(multicut)"
   ]
  },
  {
   "cell_type": "code",
   "execution_count": 12,
   "metadata": {},
   "outputs": [
    {
     "data": {
      "text/plain": [
       "<Labels layer 'multicut_init' at 0x7f05ac1ed0f0>"
      ]
     },
     "execution_count": 12,
     "metadata": {},
     "output_type": "execute_result"
    }
   ],
   "source": [
    "v.add_labels(multicut_init)"
   ]
  },
  {
   "cell_type": "code",
   "execution_count": 11,
   "metadata": {},
   "outputs": [
    {
     "data": {
      "text/plain": [
       "<Labels layer 'filtered' at 0x7f05ac32b8b0>"
      ]
     },
     "execution_count": 11,
     "metadata": {},
     "output_type": "execute_result"
    }
   ],
   "source": [
    "v.add_labels(filtered)"
   ]
  },
  {
   "cell_type": "code",
   "execution_count": 17,
   "metadata": {},
   "outputs": [
    {
     "ename": "TypeError",
     "evalue": "'NoneType' object is not iterable",
     "output_type": "error",
     "traceback": [
      "\u001b[0;31m---------------------------------------------------------------------------\u001b[0m",
      "\u001b[0;31mTypeError\u001b[0m                                 Traceback (most recent call last)",
      "Input \u001b[0;32mIn [17]\u001b[0m, in \u001b[0;36m<cell line: 1>\u001b[0;34m()\u001b[0m\n\u001b[0;32m----> 1\u001b[0m \u001b[43mv\u001b[49m\u001b[38;5;241;43m.\u001b[39;49m\u001b[43madd_labels\u001b[49m\u001b[43m(\u001b[49m\u001b[43mboundaries\u001b[49m\u001b[43m)\u001b[49m\n",
      "File \u001b[0;32m~/miniconda3/envs/napari_env/lib/python3.10/site-packages/napari/components/viewer_model.py:4\u001b[0m, in \u001b[0;36madd_labels\u001b[0;34m(self, data, num_colors, features, properties, color, seed, name, metadata, scale, translate, rotate, shear, affine, opacity, blending, rendering, depiction, visible, multiscale, cache, plane, experimental_clipping_planes)\u001b[0m\n\u001b[1;32m      1\u001b[0m \u001b[38;5;28;01mfrom\u001b[39;00m \u001b[38;5;21;01m__future__\u001b[39;00m \u001b[38;5;28;01mimport\u001b[39;00m annotations\n\u001b[1;32m      3\u001b[0m \u001b[38;5;28;01mimport\u001b[39;00m \u001b[38;5;21;01minspect\u001b[39;00m\n\u001b[0;32m----> 4\u001b[0m \u001b[38;5;28;01mimport\u001b[39;00m \u001b[38;5;21;01mitertools\u001b[39;00m\n\u001b[1;32m      5\u001b[0m \u001b[38;5;28;01mimport\u001b[39;00m \u001b[38;5;21;01mos\u001b[39;00m\n\u001b[1;32m      6\u001b[0m \u001b[38;5;28;01mimport\u001b[39;00m \u001b[38;5;21;01mwarnings\u001b[39;00m\n",
      "File \u001b[0;32m~/miniconda3/envs/napari_env/lib/python3.10/site-packages/napari/layers/labels/labels.py:259\u001b[0m, in \u001b[0;36mLabels.__init__\u001b[0;34m(self, data, num_colors, features, properties, color, seed, name, metadata, scale, translate, rotate, shear, affine, opacity, blending, rendering, depiction, visible, multiscale, cache, plane, experimental_clipping_planes)\u001b[0m\n\u001b[1;32m    256\u001b[0m \u001b[38;5;28mself\u001b[39m\u001b[38;5;241m.\u001b[39m_show_selected_label \u001b[38;5;241m=\u001b[39m \u001b[38;5;28;01mFalse\u001b[39;00m\n\u001b[1;32m    257\u001b[0m \u001b[38;5;28mself\u001b[39m\u001b[38;5;241m.\u001b[39m_contour \u001b[38;5;241m=\u001b[39m \u001b[38;5;241m0\u001b[39m\n\u001b[0;32m--> 259\u001b[0m data \u001b[38;5;241m=\u001b[39m \u001b[38;5;28;43mself\u001b[39;49m\u001b[38;5;241;43m.\u001b[39;49m\u001b[43m_ensure_int_labels\u001b[49m\u001b[43m(\u001b[49m\u001b[43mdata\u001b[49m\u001b[43m)\u001b[49m\n\u001b[1;32m    260\u001b[0m \u001b[38;5;28mself\u001b[39m\u001b[38;5;241m.\u001b[39m_color_lookup_func \u001b[38;5;241m=\u001b[39m \u001b[38;5;28;01mNone\u001b[39;00m\n\u001b[1;32m    262\u001b[0m \u001b[38;5;28msuper\u001b[39m()\u001b[38;5;241m.\u001b[39m\u001b[38;5;21m__init__\u001b[39m(\n\u001b[1;32m    263\u001b[0m     data,\n\u001b[1;32m    264\u001b[0m     rgb\u001b[38;5;241m=\u001b[39m\u001b[38;5;28;01mFalse\u001b[39;00m,\n\u001b[0;32m   (...)\u001b[0m\n\u001b[1;32m    284\u001b[0m     experimental_clipping_planes\u001b[38;5;241m=\u001b[39mexperimental_clipping_planes,\n\u001b[1;32m    285\u001b[0m )\n",
      "File \u001b[0;32m~/miniconda3/envs/napari_env/lib/python3.10/site-packages/napari/layers/labels/labels.py:554\u001b[0m, in \u001b[0;36mLabels._ensure_int_labels\u001b[0;34m(self, data)\u001b[0m\n\u001b[1;32m    552\u001b[0m \u001b[38;5;28;01mdef\u001b[39;00m \u001b[38;5;21m_ensure_int_labels\u001b[39m(\u001b[38;5;28mself\u001b[39m, data):\n\u001b[1;32m    553\u001b[0m     \u001b[38;5;124;03m\"\"\"Ensure data is integer by converting from bool if required, raising an error otherwise.\"\"\"\u001b[39;00m\n\u001b[0;32m--> 554\u001b[0m     looks_multiscale, data \u001b[38;5;241m=\u001b[39m \u001b[43mguess_multiscale\u001b[49m\u001b[43m(\u001b[49m\u001b[43mdata\u001b[49m\u001b[43m)\u001b[49m\n\u001b[1;32m    555\u001b[0m     \u001b[38;5;28;01mif\u001b[39;00m \u001b[38;5;129;01mnot\u001b[39;00m looks_multiscale:\n\u001b[1;32m    556\u001b[0m         data \u001b[38;5;241m=\u001b[39m [data]\n",
      "File \u001b[0;32m~/miniconda3/envs/napari_env/lib/python3.10/site-packages/napari/layers/image/_image_utils.py:67\u001b[0m, in \u001b[0;36mguess_multiscale\u001b[0;34m(data)\u001b[0m\n\u001b[1;32m     63\u001b[0m \u001b[38;5;28;01mif\u001b[39;00m \u001b[38;5;28misinstance\u001b[39m(data, (\u001b[38;5;28mlist\u001b[39m, \u001b[38;5;28mtuple\u001b[39m)) \u001b[38;5;129;01mand\u001b[39;00m \u001b[38;5;28mlen\u001b[39m(data) \u001b[38;5;241m==\u001b[39m \u001b[38;5;241m1\u001b[39m:\n\u001b[1;32m     64\u001b[0m     \u001b[38;5;66;03m# pyramid with only one level, unwrap\u001b[39;00m\n\u001b[1;32m     65\u001b[0m     \u001b[38;5;28;01mreturn\u001b[39;00m \u001b[38;5;28;01mFalse\u001b[39;00m, data[\u001b[38;5;241m0\u001b[39m]\n\u001b[0;32m---> 67\u001b[0m shapes \u001b[38;5;241m=\u001b[39m [d\u001b[38;5;241m.\u001b[39mshape \u001b[38;5;28;01mfor\u001b[39;00m d \u001b[38;5;129;01min\u001b[39;00m data]\n\u001b[1;32m     68\u001b[0m sizes \u001b[38;5;241m=\u001b[39m np\u001b[38;5;241m.\u001b[39marray([np\u001b[38;5;241m.\u001b[39mprod(shape, dtype\u001b[38;5;241m=\u001b[39mnp\u001b[38;5;241m.\u001b[39muint64) \u001b[38;5;28;01mfor\u001b[39;00m shape \u001b[38;5;129;01min\u001b[39;00m shapes])\n\u001b[1;32m     69\u001b[0m \u001b[38;5;28;01mif\u001b[39;00m \u001b[38;5;28mlen\u001b[39m(sizes) \u001b[38;5;241m<\u001b[39m\u001b[38;5;241m=\u001b[39m \u001b[38;5;241m1\u001b[39m:\n",
      "\u001b[0;31mTypeError\u001b[0m: 'NoneType' object is not iterable"
     ]
    }
   ],
   "source": [
    "v.add_labels(boundaries)"
   ]
  },
  {
   "cell_type": "code",
   "execution_count": 22,
   "metadata": {},
   "outputs": [
    {
     "data": {
      "text/plain": [
       "(1350, 1506, 1647)"
      ]
     },
     "execution_count": 22,
     "metadata": {},
     "output_type": "execute_result"
    }
   ],
   "source": [
    "raw.shape"
   ]
  }
 ],
 "metadata": {
  "interpreter": {
   "hash": "cc1c03ff80a13df21eb451e0f9d6c275c99a059287021003aab271766020f90b"
  },
  "kernelspec": {
   "display_name": "Python 3 (ipykernel)",
   "language": "python",
   "name": "python3"
  },
  "language_info": {
   "codemirror_mode": {
    "name": "ipython",
    "version": 3
   },
   "file_extension": ".py",
   "mimetype": "text/x-python",
   "name": "python",
   "nbconvert_exporter": "python",
   "pygments_lexer": "ipython3",
   "version": "3.10.4"
  }
 },
 "nbformat": 4,
 "nbformat_minor": 2
}
