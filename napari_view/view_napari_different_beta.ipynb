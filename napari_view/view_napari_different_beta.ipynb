{
 "cells": [
  {
   "cell_type": "code",
   "execution_count": 1,
   "metadata": {},
   "outputs": [],
   "source": [
    "import napari\n",
    "import numpy as np\n",
    "import matplotlib.pyplot as plt\n",
    "import z5py\n",
    "from pathlib import Path"
   ]
  },
  {
   "cell_type": "code",
   "execution_count": 2,
   "metadata": {},
   "outputs": [],
   "source": [
    "def print_key_tree(f: z5py.File):\n",
    "    print(f\"Key structure of z5 file {f.filename}\")\n",
    "    f.visititems(lambda name, obj: print(name))\n",
    "\n",
    "\n",
    "def read_volume(f: z5py.File, key: str, roi: np.lib.index_tricks.IndexExpression = np.s_[:]):\n",
    "    try:\n",
    "        ds = f[key]\n",
    "    except KeyError:\n",
    "        print(f\"No key {key} in file {f.filename}\")\n",
    "        print_key_tree(f)\n",
    "        return None\n",
    "        \n",
    "    ds.n_threads = 8\n",
    "    print(f\"Reading roi {roi} of volume {key} from {f.filename}\")\n",
    "    vol = ds[roi]\n",
    "    print(f\"Read volume with shape {vol.shape}, data type {vol.dtype}\")\n",
    "    \n",
    "    return vol"
   ]
  },
  {
   "cell_type": "markdown",
   "metadata": {},
   "source": [
    "## View n5 datasets"
   ]
  },
  {
   "cell_type": "code",
   "execution_count": 3,
   "metadata": {},
   "outputs": [],
   "source": [
    "scratch_dir = Path(\"/scratch/buglakova\")\n",
    "predictions_dir = scratch_dir / \"F107_bin2_619-639_predictions\"\n",
    "predictions_dir.mkdir(parents=True, exist_ok=True)"
   ]
  },
  {
   "cell_type": "code",
   "execution_count": 4,
   "metadata": {},
   "outputs": [],
   "source": [
    "n5_path = predictions_dir / \"full_raw.n5\"\n",
    "pred_n5_path = predictions_dir / \"full_predictions.n5\"\n",
    "multicut_n5_path = predictions_dir / \"full_multicut_beta.n5\""
   ]
  },
  {
   "cell_type": "code",
   "execution_count": 5,
   "metadata": {},
   "outputs": [
    {
     "ename": "RuntimeError",
     "evalue": "[json.exception.parse_error.101] parse error at line 1, column 1: syntax error while parsing value - unexpected end of input; expected '[', '{', or a literal",
     "output_type": "error",
     "traceback": [
      "\u001b[0;31m---------------------------------------------------------------------------\u001b[0m",
      "\u001b[0;31mRuntimeError\u001b[0m                              Traceback (most recent call last)",
      "Input \u001b[0;32mIn [5]\u001b[0m, in \u001b[0;36m<cell line: 3>\u001b[0;34m()\u001b[0m\n\u001b[1;32m      1\u001b[0m f \u001b[38;5;241m=\u001b[39m z5py\u001b[38;5;241m.\u001b[39mFile(pred_n5_path, \u001b[38;5;124m\"\u001b[39m\u001b[38;5;124mr\u001b[39m\u001b[38;5;124m\"\u001b[39m)\n\u001b[1;32m      2\u001b[0m f_raw \u001b[38;5;241m=\u001b[39m z5py\u001b[38;5;241m.\u001b[39mFile(n5_path, \u001b[38;5;124m\"\u001b[39m\u001b[38;5;124mr\u001b[39m\u001b[38;5;124m\"\u001b[39m)\n\u001b[0;32m----> 3\u001b[0m f_multicut \u001b[38;5;241m=\u001b[39m \u001b[43mz5py\u001b[49m\u001b[38;5;241;43m.\u001b[39;49m\u001b[43mFile\u001b[49m\u001b[43m(\u001b[49m\u001b[43mmulticut_n5_path\u001b[49m\u001b[43m,\u001b[49m\u001b[43m \u001b[49m\u001b[38;5;124;43m\"\u001b[39;49m\u001b[38;5;124;43mr\u001b[39;49m\u001b[38;5;124;43m\"\u001b[39;49m\u001b[43m)\u001b[49m\n",
      "File \u001b[0;32m~/miniconda3/envs/napari_env/lib/python3.10/site-packages/z5py/file.py:81\u001b[0m, in \u001b[0;36mFile.__init__\u001b[0;34m(self, path, mode, use_zarr_format, dimension_separator)\u001b[0m\n\u001b[1;32m     79\u001b[0m     \u001b[38;5;28;01mif\u001b[39;00m mode\u001b[38;5;241m.\u001b[39mmust_not_exist():\n\u001b[1;32m     80\u001b[0m         \u001b[38;5;28;01mraise\u001b[39;00m \u001b[38;5;167;01mOSError\u001b[39;00m(errno\u001b[38;5;241m.\u001b[39mEEXIST, os\u001b[38;5;241m.\u001b[39mstrerror(errno\u001b[38;5;241m.\u001b[39mEEXIST), handle\u001b[38;5;241m.\u001b[39mpath())\n\u001b[0;32m---> 81\u001b[0m     \u001b[38;5;28;43mself\u001b[39;49m\u001b[38;5;241;43m.\u001b[39;49m\u001b[43m_check_version\u001b[49m\u001b[43m(\u001b[49m\u001b[43m)\u001b[49m\n\u001b[1;32m     82\u001b[0m \u001b[38;5;28;01melse\u001b[39;00m:\n\u001b[1;32m     83\u001b[0m     \u001b[38;5;28;01mif\u001b[39;00m \u001b[38;5;129;01mnot\u001b[39;00m mode\u001b[38;5;241m.\u001b[39mcan_create():\n",
      "File \u001b[0;32m~/miniconda3/envs/napari_env/lib/python3.10/site-packages/z5py/file.py:89\u001b[0m, in \u001b[0;36mFile._check_version\u001b[0;34m(self)\u001b[0m\n\u001b[1;32m     88\u001b[0m \u001b[38;5;28;01mdef\u001b[39;00m \u001b[38;5;21m_check_version\u001b[39m(\u001b[38;5;28mself\u001b[39m):\n\u001b[0;32m---> 89\u001b[0m     metadata \u001b[38;5;241m=\u001b[39m \u001b[38;5;28;43mself\u001b[39;49m\u001b[38;5;241;43m.\u001b[39;49m\u001b[43m_handle\u001b[49m\u001b[38;5;241;43m.\u001b[39;49m\u001b[43mread_metadata\u001b[49m\u001b[43m(\u001b[49m\u001b[43m)\u001b[49m\n\u001b[1;32m     90\u001b[0m     metadata \u001b[38;5;241m=\u001b[39m json\u001b[38;5;241m.\u001b[39mloads(metadata)\n\u001b[1;32m     91\u001b[0m     \u001b[38;5;28;01mif\u001b[39;00m \u001b[38;5;28mself\u001b[39m\u001b[38;5;241m.\u001b[39m_handle\u001b[38;5;241m.\u001b[39mis_zarr():\n",
      "\u001b[0;31mRuntimeError\u001b[0m: [json.exception.parse_error.101] parse error at line 1, column 1: syntax error while parsing value - unexpected end of input; expected '[', '{', or a literal"
     ]
    }
   ],
   "source": [
    "f = z5py.File(pred_n5_path, \"r\")\n",
    "f_raw = z5py.File(n5_path, \"r\")\n",
    "f_multicut = z5py.File(multicut_n5_path, \"r\")"
   ]
  },
  {
   "cell_type": "code",
   "execution_count": 9,
   "metadata": {},
   "outputs": [
    {
     "name": "stdout",
     "output_type": "stream",
     "text": [
      "Key structure of z5 file /scratch/buglakova/F107_bin2_619-639_predictions/full_predictions.n5\n",
      "predictions\n",
      "predictions/background\n",
      "predictions/extracellular\n",
      "predictions/foreground\n",
      "predictions/boundaries\n"
     ]
    }
   ],
   "source": [
    "print_key_tree(f)"
   ]
  },
  {
   "cell_type": "markdown",
   "metadata": {},
   "source": [
    "## Read volumes"
   ]
  },
  {
   "cell_type": "code",
   "execution_count": 6,
   "metadata": {},
   "outputs": [],
   "source": [
    "roi = np.s_[235:300, :, :]"
   ]
  },
  {
   "cell_type": "code",
   "execution_count": 11,
   "metadata": {},
   "outputs": [
    {
     "name": "stdout",
     "output_type": "stream",
     "text": [
      "Reading roi (slice(235, 300, None), slice(None, None, None), slice(None, None, None)) of volume predictions/extracellular from /scratch/buglakova/F107_bin2_619-639_predictions/full_predictions.n5\n",
      "Read volume with shape (65, 1506, 1647), data type float32\n"
     ]
    }
   ],
   "source": [
    "pred = read_volume(f, \"predictions/extracellular\", roi)"
   ]
  },
  {
   "cell_type": "code",
   "execution_count": 7,
   "metadata": {},
   "outputs": [
    {
     "name": "stdout",
     "output_type": "stream",
     "text": [
      "Reading roi (slice(235, 300, None), slice(None, None, None), slice(None, None, None)) of volume raw/raw_data from /scratch/buglakova/F107_bin2_619-639_predictions/full_raw.n5\n",
      "Read volume with shape (65, 1506, 1647), data type uint8\n"
     ]
    }
   ],
   "source": [
    "raw = read_volume(f_raw, \"raw/raw_data\", roi)"
   ]
  },
  {
   "cell_type": "code",
   "execution_count": 8,
   "metadata": {},
   "outputs": [
    {
     "ename": "NameError",
     "evalue": "name 'f_multicut' is not defined",
     "output_type": "error",
     "traceback": [
      "\u001b[0;31m---------------------------------------------------------------------------\u001b[0m",
      "\u001b[0;31mNameError\u001b[0m                                 Traceback (most recent call last)",
      "Input \u001b[0;32mIn [8]\u001b[0m, in \u001b[0;36m<cell line: 1>\u001b[0;34m()\u001b[0m\n\u001b[0;32m----> 1\u001b[0m ws \u001b[38;5;241m=\u001b[39m read_volume(\u001b[43mf_multicut\u001b[49m, \u001b[38;5;124m\"\u001b[39m\u001b[38;5;124mwatershed/watershed\u001b[39m\u001b[38;5;124m\"\u001b[39m, roi)\n",
      "\u001b[0;31mNameError\u001b[0m: name 'f_multicut' is not defined"
     ]
    }
   ],
   "source": [
    "ws = read_volume(f_multicut, \"watershed/watershed\", roi)"
   ]
  },
  {
   "cell_type": "code",
   "execution_count": 14,
   "metadata": {},
   "outputs": [
    {
     "name": "stdout",
     "output_type": "stream",
     "text": [
      "Reading roi (slice(235, 300, None), slice(None, None, None), slice(None, None, None)) of volume segmentation/multicut_0.001 from /scratch/buglakova/F107_bin2_619-639_predictions/full_multicut_beta.n5\n",
      "Read volume with shape (65, 1506, 1647), data type uint32\n",
      "Reading roi (slice(235, 300, None), slice(None, None, None), slice(None, None, None)) of volume segmentation/multicut_0.01 from /scratch/buglakova/F107_bin2_619-639_predictions/full_multicut_beta.n5\n",
      "Read volume with shape (65, 1506, 1647), data type uint32\n",
      "Reading roi (slice(235, 300, None), slice(None, None, None), slice(None, None, None)) of volume segmentation/multicut_0.1 from /scratch/buglakova/F107_bin2_619-639_predictions/full_multicut_beta.n5\n",
      "Read volume with shape (65, 1506, 1647), data type uint32\n",
      "Reading roi (slice(235, 300, None), slice(None, None, None), slice(None, None, None)) of volume segmentation/multicut_0.5 from /scratch/buglakova/F107_bin2_619-639_predictions/full_multicut_beta.n5\n",
      "Read volume with shape (65, 1506, 1647), data type uint32\n",
      "Reading roi (slice(235, 300, None), slice(None, None, None), slice(None, None, None)) of volume segmentation/multicut_0.6 from /scratch/buglakova/F107_bin2_619-639_predictions/full_multicut_beta.n5\n",
      "Read volume with shape (65, 1506, 1647), data type uint32\n",
      "Reading roi (slice(235, 300, None), slice(None, None, None), slice(None, None, None)) of volume segmentation/multicut_0.9 from /scratch/buglakova/F107_bin2_619-639_predictions/full_multicut_beta.n5\n",
      "Read volume with shape (65, 1506, 1647), data type uint32\n",
      "Reading roi (slice(235, 300, None), slice(None, None, None), slice(None, None, None)) of volume segmentation/multicut_0.99 from /scratch/buglakova/F107_bin2_619-639_predictions/full_multicut_beta.n5\n",
      "Read volume with shape (65, 1506, 1647), data type uint32\n",
      "Reading roi (slice(235, 300, None), slice(None, None, None), slice(None, None, None)) of volume segmentation/multicut_0.999 from /scratch/buglakova/F107_bin2_619-639_predictions/full_multicut_beta.n5\n",
      "Read volume with shape (65, 1506, 1647), data type uint32\n"
     ]
    }
   ],
   "source": [
    "betas = [0.001, 0.01, 0.1, 0.5, 0.6, 0.9, 0.99, 0.999]\n",
    "beta_names = [\"multicut_\" + str(beta) for beta in betas]\n",
    "multicut = {}\n",
    "for beta, name in zip(betas, beta_names):\n",
    "    multicut[beta] = read_volume(f_multicut, f\"segmentation/{name}\", roi)\n"
   ]
  },
  {
   "cell_type": "code",
   "execution_count": 15,
   "metadata": {},
   "outputs": [
    {
     "name": "stdout",
     "output_type": "stream",
     "text": [
      "Reading roi (slice(235, 300, None), slice(None, None, None), slice(None, None, None)) of volume predictions/boundaries from /scratch/buglakova/F107_bin2_619-639_predictions/full_predictions.n5\n",
      "Read volume with shape (65, 1506, 1647), data type float32\n"
     ]
    }
   ],
   "source": [
    "boundaries = read_volume(f, \"predictions/boundaries\", roi)"
   ]
  },
  {
   "cell_type": "code",
   "execution_count": 16,
   "metadata": {},
   "outputs": [],
   "source": [
    "binary_boundaries = (boundaries > 0.5).astype(int)"
   ]
  },
  {
   "cell_type": "code",
   "execution_count": 17,
   "metadata": {},
   "outputs": [
    {
     "name": "stdout",
     "output_type": "stream",
     "text": [
      "Reading roi (slice(235, 300, None), slice(None, None, None), slice(None, None, None)) of volume predictions/extracellular from /scratch/buglakova/F107_bin2_619-639_predictions/full_predictions.n5\n",
      "Read volume with shape (65, 1506, 1647), data type float32\n"
     ]
    }
   ],
   "source": [
    "extra = read_volume(f, \"predictions/extracellular\", roi)"
   ]
  },
  {
   "cell_type": "markdown",
   "metadata": {},
   "source": [
    "## Open it in napari"
   ]
  },
  {
   "cell_type": "code",
   "execution_count": 18,
   "metadata": {},
   "outputs": [
    {
     "name": "stderr",
     "output_type": "stream",
     "text": [
      "WARNING: QStandardPaths: XDG_RUNTIME_DIR not set, defaulting to '/tmp/runtime-buglakov'\n"
     ]
    }
   ],
   "source": [
    "v = napari.Viewer()"
   ]
  },
  {
   "cell_type": "code",
   "execution_count": 19,
   "metadata": {},
   "outputs": [
    {
     "data": {
      "text/plain": [
       "<Image layer 'raw' at 0x7f2c3c1a3100>"
      ]
     },
     "execution_count": 19,
     "metadata": {},
     "output_type": "execute_result"
    }
   ],
   "source": [
    "v.add_image(raw)"
   ]
  },
  {
   "cell_type": "code",
   "execution_count": 20,
   "metadata": {},
   "outputs": [
    {
     "data": {
      "text/plain": [
       "<Image layer 'boundaries' at 0x7f2c347698a0>"
      ]
     },
     "execution_count": 20,
     "metadata": {},
     "output_type": "execute_result"
    }
   ],
   "source": [
    "v.add_image(boundaries)"
   ]
  },
  {
   "cell_type": "code",
   "execution_count": 19,
   "metadata": {},
   "outputs": [
    {
     "data": {
      "text/plain": [
       "<Image layer 'extra' at 0x7fd9983b3b50>"
      ]
     },
     "execution_count": 19,
     "metadata": {},
     "output_type": "execute_result"
    }
   ],
   "source": [
    "v.add_image(extra)"
   ]
  },
  {
   "cell_type": "code",
   "execution_count": 21,
   "metadata": {},
   "outputs": [
    {
     "data": {
      "text/plain": [
       "<Labels layer 'ws' at 0x7f2c3466d690>"
      ]
     },
     "execution_count": 21,
     "metadata": {},
     "output_type": "execute_result"
    }
   ],
   "source": [
    "v.add_labels(ws)"
   ]
  },
  {
   "cell_type": "code",
   "execution_count": 21,
   "metadata": {},
   "outputs": [
    {
     "data": {
      "text/plain": [
       "<Labels layer 'binary_boundaries' at 0x7fd99816af40>"
      ]
     },
     "execution_count": 21,
     "metadata": {},
     "output_type": "execute_result"
    }
   ],
   "source": [
    "v.add_labels(binary_boundaries)"
   ]
  },
  {
   "cell_type": "code",
   "execution_count": 22,
   "metadata": {},
   "outputs": [],
   "source": [
    "for beta, name in zip(betas, beta_names):\n",
    "    v.add_labels(multicut[beta], name=name)"
   ]
  },
  {
   "cell_type": "code",
   "execution_count": 22,
   "metadata": {},
   "outputs": [
    {
     "data": {
      "text/plain": [
       "(1350, 1506, 1647)"
      ]
     },
     "execution_count": 22,
     "metadata": {},
     "output_type": "execute_result"
    }
   ],
   "source": [
    "raw.shape"
   ]
  }
 ],
 "metadata": {
  "kernelspec": {
   "display_name": "Python [conda env:napari_env] *",
   "language": "python",
   "name": "conda-env-napari_env-py"
  },
  "language_info": {
   "codemirror_mode": {
    "name": "ipython",
    "version": 3
   },
   "file_extension": ".py",
   "mimetype": "text/x-python",
   "name": "python",
   "nbconvert_exporter": "python",
   "pygments_lexer": "ipython3",
   "version": "3.10.4"
  }
 },
 "nbformat": 4,
 "nbformat_minor": 2
}
