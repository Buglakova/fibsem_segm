{
 "cells": [
  {
   "cell_type": "code",
   "execution_count": 1,
   "metadata": {},
   "outputs": [],
   "source": [
    "import numpy as np\n",
    "import matplotlib.pyplot as plt\n",
    "from elf.io import open_file\n",
    "import z5py\n",
    "from pathlib import Path\n",
    "\n",
    "import os\n",
    "import imageio\n",
    "import mobie\n",
    "import mobie.metadata as metadata\n",
    "\n",
    "from cryofib.n5_utils import read_volume, tif2n5"
   ]
  },
  {
   "cell_type": "markdown",
   "metadata": {},
   "source": [
    "# Set paths"
   ]
  },
  {
   "cell_type": "code",
   "execution_count": 2,
   "metadata": {},
   "outputs": [],
   "source": [
    "scratch_dir = Path(\"/scratch/buglakova/data/cryofib/registration_fluo/F107_A2_3dclem\")\n",
    "fluo_dir = scratch_dir / \"fluo\"\n",
    "em_dir = scratch_dir / \"em\"\n",
    "segm_em_nuclei_dir = scratch_dir / \"segm_em_nuclei\""
   ]
  },
  {
   "cell_type": "markdown",
   "metadata": {},
   "source": [
    "## Set information about mobie project"
   ]
  },
  {
   "cell_type": "code",
   "execution_count": 3,
   "metadata": {},
   "outputs": [],
   "source": [
    "mobie_project_folder = \"/scratch/buglakova/data/cryofib/registration_fluo/mobie_projects/fibsem-registration-affine/data\""
   ]
  },
  {
   "cell_type": "markdown",
   "metadata": {},
   "source": [
    "## Create separate datasets"
   ]
  },
  {
   "cell_type": "code",
   "execution_count": 4,
   "metadata": {},
   "outputs": [
    {
     "name": "stderr",
     "output_type": "stream",
     "text": [
      "/home/buglakov/miniconda3/envs/mobie/lib/python3.10/site-packages/luigi/parameter.py:279: UserWarning: Parameter \"dtype\" with value \"None\" is not of type string.\n",
      "  warnings.warn('Parameter \"{}\" with value \"{}\" is not of type string.'.format(param_name, param_value))\n",
      "DEBUG: Checking if DownscalingWorkflow(tmp_folder=tmp_registration_fluo, max_jobs=4, config_dir=tmp_registration_fluo/configs, target=local, dependency=DummyTask, input_path=/scratch/buglakova/data/cryofib/registration_fluo/F107_A2_3dclem/fluo/fluo.n5, input_key=raw, scale_factors=[[1, 2, 2], [1, 2, 2], [1, 2, 2], [1, 2, 2]], halos=[[1, 2, 2], [1, 2, 2], [1, 2, 2], [1, 2, 2]], dtype=None, int_to_uint=False, metadata_format=bdv.n5, metadata_dict={\"resolution\": [1849.5, 221.4, 221.4], \"unit\": \"nm\", \"setup_name\": \"fluo\"}, output_path=/scratch/buglakova/data/cryofib/registration_fluo/mobie_projects/fibsem-registration-affine/data/registration/images/bdv-n5/fluo.n5, output_key_prefix=, force_copy=False, skip_existing_levels=False, scale_offset=0) is complete\n",
      "/home/buglakov/miniconda3/envs/mobie/lib/python3.10/site-packages/luigi/parameter.py:279: UserWarning: Parameter \"dimension_separator\" with value \"None\" is not of type string.\n",
      "  warnings.warn('Parameter \"{}\" with value \"{}\" is not of type string.'.format(param_name, param_value))\n",
      "/home/buglakov/miniconda3/envs/mobie/lib/python3.10/site-packages/luigi/parameter.py:279: UserWarning: Parameter \"scale_factor\" with value \"(1, 2, 2)\" is not of type string.\n",
      "  warnings.warn('Parameter \"{}\" with value \"{}\" is not of type string.'.format(param_name, param_value))\n",
      "INFO: Informed scheduler that task   DownscalingWorkflow_tmp_registration_DummyTask_None_d772d8ab66   has status   DONE\n",
      "INFO: Done scheduling tasks\n",
      "INFO: Running Worker with 1 processes\n",
      "DEBUG: Asking scheduler for work...\n",
      "DEBUG: Done\n",
      "DEBUG: There are no more tasks to run at this time\n",
      "INFO: Worker Worker(salt=209887139, workers=1, host=gpu6.cluster.embl.de, username=buglakov, pid=49263) was stopped. Shutting down Keep-Alive thread\n",
      "INFO: \n",
      "===== Luigi Execution Summary =====\n",
      "\n",
      "Scheduled 1 tasks of which:\n",
      "* 1 complete ones were encountered:\n",
      "    - 1 DownscalingWorkflow(...)\n",
      "\n",
      "Did not run any tasks\n",
      "This progress looks :) because there were no failed tasks or missing dependencies\n",
      "\n",
      "===== Luigi Execution Summary =====\n",
      "\n"
     ]
    },
    {
     "ename": "ValueError",
     "evalue": "/scratch/buglakova/data/cryofib/registration_fluo/mobie_projects/fibsem-registration-affine/data/registration/images/bdv-n5/fluo.xml does not exist.",
     "output_type": "error",
     "traceback": [
      "\u001b[0;31m---------------------------------------------------------------------------\u001b[0m",
      "\u001b[0;31mValueError\u001b[0m                                Traceback (most recent call last)",
      "\u001b[1;32m/g/kreshuk/buglakova/fibsem_segm/mobie_view/mobie_registration.ipynb Cell 7'\u001b[0m in \u001b[0;36m<cell line: 40>\u001b[0;34m()\u001b[0m\n\u001b[1;32m     <a href='vscode-notebook-cell://ssh-remote%2Bgpu6.cluster.embl.de/g/kreshuk/buglakova/fibsem_segm/mobie_view/mobie_registration.ipynb#ch0000010vscode-remote?line=36'>37</a>\u001b[0m chunks \u001b[39m=\u001b[39m (\u001b[39m1\u001b[39m, \u001b[39m512\u001b[39m, \u001b[39m512\u001b[39m)\n\u001b[1;32m     <a href='vscode-notebook-cell://ssh-remote%2Bgpu6.cluster.embl.de/g/kreshuk/buglakova/fibsem_segm/mobie_view/mobie_registration.ipynb#ch0000010vscode-remote?line=37'>38</a>\u001b[0m scale_factors \u001b[39m=\u001b[39m \u001b[39m4\u001b[39m \u001b[39m*\u001b[39m [[\u001b[39m1\u001b[39m, \u001b[39m2\u001b[39m, \u001b[39m2\u001b[39m]]\n\u001b[0;32m---> <a href='vscode-notebook-cell://ssh-remote%2Bgpu6.cluster.embl.de/g/kreshuk/buglakova/fibsem_segm/mobie_view/mobie_registration.ipynb#ch0000010vscode-remote?line=39'>40</a>\u001b[0m mobie\u001b[39m.\u001b[39;49madd_image(\n\u001b[1;32m     <a href='vscode-notebook-cell://ssh-remote%2Bgpu6.cluster.embl.de/g/kreshuk/buglakova/fibsem_segm/mobie_view/mobie_registration.ipynb#ch0000010vscode-remote?line=40'>41</a>\u001b[0m     input_path\u001b[39m=\u001b[39;49minput_file, \n\u001b[1;32m     <a href='vscode-notebook-cell://ssh-remote%2Bgpu6.cluster.embl.de/g/kreshuk/buglakova/fibsem_segm/mobie_view/mobie_registration.ipynb#ch0000010vscode-remote?line=41'>42</a>\u001b[0m     input_key\u001b[39m=\u001b[39;49minput_key,  \u001b[39m# the input is a single tif image, so we leave input_key blank\u001b[39;49;00m\n\u001b[1;32m     <a href='vscode-notebook-cell://ssh-remote%2Bgpu6.cluster.embl.de/g/kreshuk/buglakova/fibsem_segm/mobie_view/mobie_registration.ipynb#ch0000010vscode-remote?line=42'>43</a>\u001b[0m     root\u001b[39m=\u001b[39;49mmobie_project_folder,\n\u001b[1;32m     <a href='vscode-notebook-cell://ssh-remote%2Bgpu6.cluster.embl.de/g/kreshuk/buglakova/fibsem_segm/mobie_view/mobie_registration.ipynb#ch0000010vscode-remote?line=43'>44</a>\u001b[0m     dataset_name\u001b[39m=\u001b[39;49mdataset_name,\n\u001b[1;32m     <a href='vscode-notebook-cell://ssh-remote%2Bgpu6.cluster.embl.de/g/kreshuk/buglakova/fibsem_segm/mobie_view/mobie_registration.ipynb#ch0000010vscode-remote?line=44'>45</a>\u001b[0m     image_name\u001b[39m=\u001b[39;49mraw_name,\n\u001b[1;32m     <a href='vscode-notebook-cell://ssh-remote%2Bgpu6.cluster.embl.de/g/kreshuk/buglakova/fibsem_segm/mobie_view/mobie_registration.ipynb#ch0000010vscode-remote?line=45'>46</a>\u001b[0m     menu_name\u001b[39m=\u001b[39;49mmenu_name,\n\u001b[1;32m     <a href='vscode-notebook-cell://ssh-remote%2Bgpu6.cluster.embl.de/g/kreshuk/buglakova/fibsem_segm/mobie_view/mobie_registration.ipynb#ch0000010vscode-remote?line=46'>47</a>\u001b[0m     resolution\u001b[39m=\u001b[39;49mresolution,\n\u001b[1;32m     <a href='vscode-notebook-cell://ssh-remote%2Bgpu6.cluster.embl.de/g/kreshuk/buglakova/fibsem_segm/mobie_view/mobie_registration.ipynb#ch0000010vscode-remote?line=47'>48</a>\u001b[0m     chunks\u001b[39m=\u001b[39;49mchunks,\n\u001b[1;32m     <a href='vscode-notebook-cell://ssh-remote%2Bgpu6.cluster.embl.de/g/kreshuk/buglakova/fibsem_segm/mobie_view/mobie_registration.ipynb#ch0000010vscode-remote?line=48'>49</a>\u001b[0m     scale_factors\u001b[39m=\u001b[39;49mscale_factors,\n\u001b[1;32m     <a href='vscode-notebook-cell://ssh-remote%2Bgpu6.cluster.embl.de/g/kreshuk/buglakova/fibsem_segm/mobie_view/mobie_registration.ipynb#ch0000010vscode-remote?line=49'>50</a>\u001b[0m     is_default_dataset\u001b[39m=\u001b[39;49m\u001b[39mTrue\u001b[39;49;00m,  \u001b[39m# mark this dataset as the default dataset that will be loaded by mobie\u001b[39;49;00m\n\u001b[1;32m     <a href='vscode-notebook-cell://ssh-remote%2Bgpu6.cluster.embl.de/g/kreshuk/buglakova/fibsem_segm/mobie_view/mobie_registration.ipynb#ch0000010vscode-remote?line=50'>51</a>\u001b[0m     target\u001b[39m=\u001b[39;49mtarget,\n\u001b[1;32m     <a href='vscode-notebook-cell://ssh-remote%2Bgpu6.cluster.embl.de/g/kreshuk/buglakova/fibsem_segm/mobie_view/mobie_registration.ipynb#ch0000010vscode-remote?line=51'>52</a>\u001b[0m     max_jobs\u001b[39m=\u001b[39;49mmax_jobs,\n\u001b[1;32m     <a href='vscode-notebook-cell://ssh-remote%2Bgpu6.cluster.embl.de/g/kreshuk/buglakova/fibsem_segm/mobie_view/mobie_registration.ipynb#ch0000010vscode-remote?line=52'>53</a>\u001b[0m     unit\u001b[39m=\u001b[39;49munit\n\u001b[1;32m     <a href='vscode-notebook-cell://ssh-remote%2Bgpu6.cluster.embl.de/g/kreshuk/buglakova/fibsem_segm/mobie_view/mobie_registration.ipynb#ch0000010vscode-remote?line=53'>54</a>\u001b[0m )\n",
      "File \u001b[0;32m/g/kreshuk/buglakova/libraries/mobie-utils-python/mobie/image_data.py:235\u001b[0m, in \u001b[0;36madd_image\u001b[0;34m(input_path, input_key, root, dataset_name, image_name, resolution, scale_factors, chunks, file_format, menu_name, tmp_folder, target, max_jobs, view, transformation, unit, is_default_dataset, description, move_only, int_to_uint)\u001b[0m\n\u001b[1;32m    <a href='file:///g/kreshuk/buglakova/libraries/mobie-utils-python/mobie/image_data.py?line=225'>226</a>\u001b[0m \u001b[39melse\u001b[39;00m:\n\u001b[1;32m    <a href='file:///g/kreshuk/buglakova/libraries/mobie-utils-python/mobie/image_data.py?line=226'>227</a>\u001b[0m     import_image_data(input_path, input_key, data_path,\n\u001b[1;32m    <a href='file:///g/kreshuk/buglakova/libraries/mobie-utils-python/mobie/image_data.py?line=227'>228</a>\u001b[0m                       resolution, scale_factors, chunks,\n\u001b[1;32m    <a href='file:///g/kreshuk/buglakova/libraries/mobie-utils-python/mobie/image_data.py?line=228'>229</a>\u001b[0m                       tmp_folder\u001b[39m=\u001b[39mtmp_folder, target\u001b[39m=\u001b[39mtarget,\n\u001b[0;32m   (...)\u001b[0m\n\u001b[1;32m    <a href='file:///g/kreshuk/buglakova/libraries/mobie-utils-python/mobie/image_data.py?line=231'>232</a>\u001b[0m                       file_format\u001b[39m=\u001b[39mfile_format,\n\u001b[1;32m    <a href='file:///g/kreshuk/buglakova/libraries/mobie-utils-python/mobie/image_data.py?line=232'>233</a>\u001b[0m                       int_to_uint\u001b[39m=\u001b[39mint_to_uint)\n\u001b[0;32m--> <a href='file:///g/kreshuk/buglakova/libraries/mobie-utils-python/mobie/image_data.py?line=234'>235</a>\u001b[0m metadata\u001b[39m.\u001b[39;49madd_source_to_dataset(dataset_folder, \u001b[39m\"\u001b[39;49m\u001b[39mimage\u001b[39;49m\u001b[39m\"\u001b[39;49m, image_name, image_metadata_path,\n\u001b[1;32m    <a href='file:///g/kreshuk/buglakova/libraries/mobie-utils-python/mobie/image_data.py?line=235'>236</a>\u001b[0m                                view\u001b[39m=\u001b[39;49mview, description\u001b[39m=\u001b[39;49mdescription)\n\u001b[1;32m    <a href='file:///g/kreshuk/buglakova/libraries/mobie-utils-python/mobie/image_data.py?line=237'>238</a>\u001b[0m \u001b[39mif\u001b[39;00m transformation \u001b[39mis\u001b[39;00m \u001b[39mnot\u001b[39;00m \u001b[39mNone\u001b[39;00m:\n\u001b[1;32m    <a href='file:///g/kreshuk/buglakova/libraries/mobie-utils-python/mobie/image_data.py?line=238'>239</a>\u001b[0m     update_transformation_parameter(image_metadata_path, transformation)\n",
      "File \u001b[0;32m/g/kreshuk/buglakova/libraries/mobie-utils-python/mobie/metadata/source_metadata.py:220\u001b[0m, in \u001b[0;36madd_source_to_dataset\u001b[0;34m(dataset_folder, source_type, source_name, image_metadata_path, view, table_folder, overwrite, description)\u001b[0m\n\u001b[1;32m    <a href='file:///g/kreshuk/buglakova/libraries/mobie-utils-python/mobie/metadata/source_metadata.py?line=216'>217</a>\u001b[0m         \u001b[39mraise\u001b[39;00m \u001b[39mValueError\u001b[39;00m(msg)\n\u001b[1;32m    <a href='file:///g/kreshuk/buglakova/libraries/mobie-utils-python/mobie/metadata/source_metadata.py?line=218'>219</a>\u001b[0m \u001b[39mif\u001b[39;00m source_type \u001b[39m==\u001b[39m \u001b[39m\"\u001b[39m\u001b[39mimage\u001b[39m\u001b[39m\"\u001b[39m:\n\u001b[0;32m--> <a href='file:///g/kreshuk/buglakova/libraries/mobie-utils-python/mobie/metadata/source_metadata.py?line=219'>220</a>\u001b[0m     source_metadata \u001b[39m=\u001b[39m get_image_metadata(dataset_folder, image_metadata_path,\n\u001b[1;32m    <a href='file:///g/kreshuk/buglakova/libraries/mobie-utils-python/mobie/metadata/source_metadata.py?line=220'>221</a>\u001b[0m                                          description\u001b[39m=\u001b[39;49mdescription)\n\u001b[1;32m    <a href='file:///g/kreshuk/buglakova/libraries/mobie-utils-python/mobie/metadata/source_metadata.py?line=221'>222</a>\u001b[0m \u001b[39melse\u001b[39;00m:\n\u001b[1;32m    <a href='file:///g/kreshuk/buglakova/libraries/mobie-utils-python/mobie/metadata/source_metadata.py?line=222'>223</a>\u001b[0m     source_metadata \u001b[39m=\u001b[39m get_segmentation_metadata(dataset_folder,\n\u001b[1;32m    <a href='file:///g/kreshuk/buglakova/libraries/mobie-utils-python/mobie/metadata/source_metadata.py?line=223'>224</a>\u001b[0m                                                 image_metadata_path,\n\u001b[1;32m    <a href='file:///g/kreshuk/buglakova/libraries/mobie-utils-python/mobie/metadata/source_metadata.py?line=224'>225</a>\u001b[0m                                                 table_folder,\n\u001b[1;32m    <a href='file:///g/kreshuk/buglakova/libraries/mobie-utils-python/mobie/metadata/source_metadata.py?line=225'>226</a>\u001b[0m                                                 description\u001b[39m=\u001b[39mdescription)\n",
      "File \u001b[0;32m/g/kreshuk/buglakova/libraries/mobie-utils-python/mobie/metadata/source_metadata.py:167\u001b[0m, in \u001b[0;36mget_image_metadata\u001b[0;34m(dataset_folder, metadata_path, file_format, description)\u001b[0m\n\u001b[1;32m    <a href='file:///g/kreshuk/buglakova/libraries/mobie-utils-python/mobie/metadata/source_metadata.py?line=164'>165</a>\u001b[0m \u001b[39mdef\u001b[39;00m \u001b[39mget_image_metadata\u001b[39m(dataset_folder, metadata_path,\n\u001b[1;32m    <a href='file:///g/kreshuk/buglakova/libraries/mobie-utils-python/mobie/metadata/source_metadata.py?line=165'>166</a>\u001b[0m                        file_format\u001b[39m=\u001b[39m\u001b[39mNone\u001b[39;00m, description\u001b[39m=\u001b[39m\u001b[39mNone\u001b[39;00m):\n\u001b[0;32m--> <a href='file:///g/kreshuk/buglakova/libraries/mobie-utils-python/mobie/metadata/source_metadata.py?line=166'>167</a>\u001b[0m     \u001b[39mreturn\u001b[39;00m _get_image_metadata(dataset_folder, metadata_path, \u001b[39m\"\u001b[39;49m\u001b[39mimage\u001b[39;49m\u001b[39m\"\u001b[39;49m,\n\u001b[1;32m    <a href='file:///g/kreshuk/buglakova/libraries/mobie-utils-python/mobie/metadata/source_metadata.py?line=167'>168</a>\u001b[0m                                file_format\u001b[39m=\u001b[39;49mfile_format, description\u001b[39m=\u001b[39;49mdescription)\n",
      "File \u001b[0;32m/g/kreshuk/buglakova/libraries/mobie-utils-python/mobie/metadata/source_metadata.py:144\u001b[0m, in \u001b[0;36m_get_image_metadata\u001b[0;34m(dataset_folder, path, type_, file_format, description)\u001b[0m\n\u001b[1;32m    <a href='file:///g/kreshuk/buglakova/libraries/mobie-utils-python/mobie/metadata/source_metadata.py?line=142'>143</a>\u001b[0m \u001b[39mdef\u001b[39;00m \u001b[39m_get_image_metadata\u001b[39m(dataset_folder, path, type_, file_format, description):\n\u001b[0;32m--> <a href='file:///g/kreshuk/buglakova/libraries/mobie-utils-python/mobie/metadata/source_metadata.py?line=143'>144</a>\u001b[0m     file_format \u001b[39m=\u001b[39m _get_file_format(path) \u001b[39mif\u001b[39;00m file_format \u001b[39mis\u001b[39;00m \u001b[39mNone\u001b[39;00m \u001b[39melse\u001b[39;00m file_format\n\u001b[1;32m    <a href='file:///g/kreshuk/buglakova/libraries/mobie-utils-python/mobie/metadata/source_metadata.py?line=145'>146</a>\u001b[0m     \u001b[39mif\u001b[39;00m file_format\u001b[39m.\u001b[39mstartswith(\u001b[39m\"\u001b[39m\u001b[39mbdv\u001b[39m\u001b[39m\"\u001b[39m):\n\u001b[1;32m    <a href='file:///g/kreshuk/buglakova/libraries/mobie-utils-python/mobie/metadata/source_metadata.py?line=146'>147</a>\u001b[0m         format_ \u001b[39m=\u001b[39m {\u001b[39m\"\u001b[39m\u001b[39mrelativePath\u001b[39m\u001b[39m\"\u001b[39m: os\u001b[39m.\u001b[39mpath\u001b[39m.\u001b[39mrelpath(path, dataset_folder)}\n",
      "File \u001b[0;32m/g/kreshuk/buglakova/libraries/mobie-utils-python/mobie/metadata/source_metadata.py:133\u001b[0m, in \u001b[0;36m_get_file_format\u001b[0;34m(path)\u001b[0m\n\u001b[1;32m    <a href='file:///g/kreshuk/buglakova/libraries/mobie-utils-python/mobie/metadata/source_metadata.py?line=130'>131</a>\u001b[0m \u001b[39mdef\u001b[39;00m \u001b[39m_get_file_format\u001b[39m(path):\n\u001b[1;32m    <a href='file:///g/kreshuk/buglakova/libraries/mobie-utils-python/mobie/metadata/source_metadata.py?line=131'>132</a>\u001b[0m     \u001b[39mif\u001b[39;00m \u001b[39mnot\u001b[39;00m os\u001b[39m.\u001b[39mpath\u001b[39m.\u001b[39mexists(path):\n\u001b[0;32m--> <a href='file:///g/kreshuk/buglakova/libraries/mobie-utils-python/mobie/metadata/source_metadata.py?line=132'>133</a>\u001b[0m         \u001b[39mraise\u001b[39;00m \u001b[39mValueError\u001b[39;00m(\u001b[39mf\u001b[39m\u001b[39m\"\u001b[39m\u001b[39m{\u001b[39;00mpath\u001b[39m}\u001b[39;00m\u001b[39m does not exist.\u001b[39m\u001b[39m\"\u001b[39m)\n\u001b[1;32m    <a href='file:///g/kreshuk/buglakova/libraries/mobie-utils-python/mobie/metadata/source_metadata.py?line=133'>134</a>\u001b[0m     \u001b[39melif\u001b[39;00m path\u001b[39m.\u001b[39mendswith(\u001b[39m\"\u001b[39m\u001b[39m.xml\u001b[39m\u001b[39m\"\u001b[39m):\n\u001b[1;32m    <a href='file:///g/kreshuk/buglakova/libraries/mobie-utils-python/mobie/metadata/source_metadata.py?line=134'>135</a>\u001b[0m         file_format \u001b[39m=\u001b[39m bdv_metadata\u001b[39m.\u001b[39mget_bdv_format(path)\n",
      "\u001b[0;31mValueError\u001b[0m: /scratch/buglakova/data/cryofib/registration_fluo/mobie_projects/fibsem-registration-affine/data/registration/images/bdv-n5/fluo.xml does not exist."
     ]
    }
   ],
   "source": [
    "dataset_name = \"registration\"\n",
    "dataset_folder = os.path.join(mobie_project_folder, dataset_name)\n",
    "\n",
    "# the platform and number of jobs used for computation.\n",
    "# choose 'local' to run computations on your machine.\n",
    "# for large data, it is also possible to run computation on a cluster;\n",
    "# for this purpose 'slurm' (for slurm cluster) and 'lsf' (for lsf cluster) are currently supported\n",
    "target = \"local\"\n",
    "max_jobs = 4\n",
    "\n",
    "# The 'default' image for our example dataset is a 2d EM slice showing an overview of the dataset.\n",
    "input_file = str(fluo_dir / \"fluo.n5\")\n",
    "input_key = \"raw\"\n",
    "# This is the name that will be given to the image source in mobie.\n",
    "raw_name = \"fluo\"\n",
    "# The name of the menu from which the image can be added to the viewer.\n",
    "# Here, we choose \"em\", because this is an EM image slice.\n",
    "menu_name = \"fluo\"\n",
    "\n",
    "# We need some metadata to create the n5-file in big-data-viewer format:\n",
    "# - unit: the phyiscal unit of the coordinate system\n",
    "# - resolution: the size of one voxel in the physical unit, this needs to be a tuple/list of length 3,\n",
    "#               specifying the size for each of the 3 spatial dimensions\n",
    "# - chunks: the size of the chunks (in voxels) that are used to store the output file.\n",
    "#           good choices are usually (1, 512, 512) for 2d data and (64, 64, 64) for 3d data\n",
    "# - scale_factors: the scale factors used for downsampling the input when creating the image pyramid\n",
    "#                  this needs to be a list, where each entry specifies the scale factors for the 3 axes.\n",
    "# Note that axes are always listed in the order ZYX here (in the java implementation of mobie / big-data-viewer the axis convention is XYZ).\n",
    "# Also note that the values for all three axes (ZYX) need to be specified. In the case of 2d data, the value\n",
    "# for Z should be set to 1.\n",
    "\n",
    "f_out = z5py.File(input_file, \"r\")\n",
    "ds = f_out[input_key]\n",
    "\n",
    "unit = ds.attrs[\"unit\"]\n",
    "resolution = ds.attrs[\"resolution\"]\n",
    "chunks = (1, 512, 512)\n",
    "scale_factors = 4 * [[1, 2, 2]]\n",
    "\n",
    "mobie.add_image(\n",
    "    input_path=input_file, \n",
    "    input_key=input_key,  # the input is a single tif image, so we leave input_key blank\n",
    "    root=mobie_project_folder,\n",
    "    dataset_name=dataset_name,\n",
    "    image_name=raw_name,\n",
    "    menu_name=menu_name,\n",
    "    resolution=resolution,\n",
    "    chunks=chunks,\n",
    "    scale_factors=scale_factors,\n",
    "    is_default_dataset=True,  # mark this dataset as the default dataset that will be loaded by mobie\n",
    "    target=target,\n",
    "    max_jobs=max_jobs,\n",
    "    unit=unit\n",
    ")"
   ]
  },
  {
   "cell_type": "code",
   "execution_count": null,
   "metadata": {},
   "outputs": [],
   "source": [
    "mobie_project_folder = \"/scratch/buglakova/data/cryofib/registration_fluo/mobie_projects/fibsem-registration/data\"\n",
    "\n",
    "dataset_name = \"registration\"\n",
    "dataset_folder = os.path.join(mobie_project_folder, dataset_name)\n",
    "target = \"local\"\n",
    "max_jobs = 4\n",
    "\n",
    "input_file = str(em_dir / \"em.n5\")\n",
    "input_key = \"raw\"\n",
    "raw_name = \"em_registered_rotate_scale\"\n",
    "menu_name = \"em_registered_rotate_scale\"\n",
    "\n",
    "f_out = z5py.File(input_file, \"r\")\n",
    "ds = f_out[input_key]\n",
    "\n",
    "unit = ds.attrs[\"unit\"]\n",
    "resolution = ds.attrs[\"resolution\"]\n",
    "chunks = (1, 512, 512)\n",
    "scale_factors = 4 * [[2, 2, 2]]\n",
    "\n",
    "affine_transform = [ 2.99703223e+01, -3.87356614e-01,  1.30206802e+00, -1.53353979e+04,\n",
    " -1.33408452e+00, -8.70199929e+00,  2.92510688e+01,  1.21702925e+05,\n",
    " -0.00000000e+00, -3.90400456e+01, -6.53296224e+00,  1.37783569e+05]\n",
    "\n",
    "\n",
    "mobie.add_image(\n",
    "    input_path=input_file, \n",
    "    input_key=input_key,  # the input is a single tif image, so we leave input_key blank\n",
    "    root=mobie_project_folder,\n",
    "    dataset_name=dataset_name,\n",
    "    image_name=raw_name,\n",
    "    menu_name=menu_name,\n",
    "    resolution=resolution,\n",
    "    chunks=chunks,\n",
    "    scale_factors=scale_factors,\n",
    "    is_default_dataset=True,  # mark this dataset as the default dataset that will be loaded by mobie\n",
    "    target=target,\n",
    "    max_jobs=max_jobs,\n",
    "    unit=unit,\n",
    "    transformation=affine_transform\n",
    ")"
   ]
  },
  {
   "cell_type": "code",
   "execution_count": null,
   "metadata": {},
   "outputs": [],
   "source": [
    "dataset_name = \"registration\"\n",
    "dataset_folder = os.path.join(mobie_project_folder, dataset_name)\n",
    "target = \"local\"\n",
    "max_jobs = 4\n",
    "\n",
    "input_file = str(segm_em_nuclei_dir / \"em_nuclei.n5\")\n",
    "input_key = \"raw\"\n",
    "raw_name = \"em_segm_nuclei\"\n",
    "menu_name = \"em_segm_nuclei\"\n",
    "\n",
    "f_out = z5py.File(input_file, \"r\")\n",
    "ds = f_out[input_key]\n",
    "\n",
    "unit = ds.attrs[\"unit\"]\n",
    "resolution = ds.attrs[\"resolution\"]\n",
    "chunks = (1, 512, 512)\n",
    "scale_factors = 4 * [[2, 2, 2]]\n",
    "\n",
    "mobie.add_segmentation(\n",
    "    input_path=input_file, \n",
    "    input_key=input_key,  # the input is a single tif image, so we leave input_key blank\n",
    "    root=mobie_project_folder,\n",
    "    dataset_name=dataset_name,\n",
    "    segmentation_name=raw_name,\n",
    "    menu_name=menu_name,\n",
    "    resolution=resolution,\n",
    "    chunks=chunks,\n",
    "    scale_factors=scale_factors,\n",
    "    is_default_dataset=True,  # mark this dataset as the default dataset that will be loaded by mobie\n",
    "    target=target,\n",
    "    max_jobs=max_jobs,\n",
    "    unit=unit\n",
    ")"
   ]
  }
 ],
 "metadata": {
  "interpreter": {
   "hash": "d19ec0a763383e7ff6c07d525dbc4053c8e8cc2149d3faa1be2e7bd38a06b37b"
  },
  "kernelspec": {
   "display_name": "Python 3.10.4 ('mobie')",
   "language": "python",
   "name": "python3"
  },
  "language_info": {
   "codemirror_mode": {
    "name": "ipython",
    "version": 3
   },
   "file_extension": ".py",
   "mimetype": "text/x-python",
   "name": "python",
   "nbconvert_exporter": "python",
   "pygments_lexer": "ipython3",
   "version": "3.10.4"
  },
  "orig_nbformat": 4
 },
 "nbformat": 4,
 "nbformat_minor": 2
}
