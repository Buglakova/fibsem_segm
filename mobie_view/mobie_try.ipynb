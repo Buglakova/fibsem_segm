{
 "cells": [
  {
   "cell_type": "code",
   "execution_count": 1,
   "metadata": {},
   "outputs": [],
   "source": [
    "import numpy as np\n",
    "import matplotlib.pyplot as plt\n",
    "from elf.io import open_file\n",
    "import z5py\n",
    "from pathlib import Path\n",
    "\n",
    "import os\n",
    "import imageio\n",
    "import mobie\n",
    "import mobie.metadata as metadata"
   ]
  },
  {
   "cell_type": "code",
   "execution_count": 2,
   "metadata": {},
   "outputs": [],
   "source": [
    "def print_key_tree(f: z5py.File):\n",
    "    \n",
    "    print(f\"Key structure of z5 file {f.filename}\")\n",
    "    f.visititems(lambda name, obj: print(name))\n",
    "\n",
    "\n",
    "def read_volume(f: z5py.File, key: str, roi: np.lib.index_tricks.IndexExpression = np.s_[:]):\n",
    "    try:\n",
    "        ds = f[key]\n",
    "    except KeyError:\n",
    "        print(f\"No key {key} in file {f.filename}\")\n",
    "        print_key_tree(f)\n",
    "        return None\n",
    "        \n",
    "    ds.n_threads = 8\n",
    "    print(f\"Reading roi {roi} of volume {key} from {f.filename}\")\n",
    "    vol = ds[roi]\n",
    "    print(f\"Read volume with shape {vol.shape}, data type {vol.dtype}\")\n",
    "    \n",
    "    return vol\n"
   ]
  },
  {
   "cell_type": "code",
   "execution_count": 3,
   "metadata": {},
   "outputs": [],
   "source": [
    "scratch_dir = Path(\"/scratch/buglakova/data/cryofib/registration_fluo/F107_A2_3dclem\")\n",
    "fluo_dir = scratch_dir / \"fluo\"\n",
    "em_dir = scratch_dir / \"em\"\n",
    "segm_em_nuclei_dir = scratch_dir / \"segm_em_nuclei\""
   ]
  },
  {
   "cell_type": "code",
   "execution_count": 70,
   "metadata": {},
   "outputs": [
    {
     "name": "stdout",
     "output_type": "stream",
     "text": [
      "(55, 3343, 1482)\n"
     ]
    }
   ],
   "source": [
    "with open_file(str(fluo_dir)) as f:\n",
    "    ims = f[\"*.tiff\"]\n",
    "    print(ims.shape)"
   ]
  },
  {
   "cell_type": "code",
   "execution_count": 71,
   "metadata": {},
   "outputs": [
    {
     "data": {
      "text/plain": [
       "<matplotlib.image.AxesImage at 0x7f504e814d30>"
      ]
     },
     "execution_count": 71,
     "metadata": {},
     "output_type": "execute_result"
    },
    {
     "data": {
      "image/png": "[encoded data removed]",
      "text/plain": [
       "<Figure size 432x288 with 1 Axes>"
      ]
     },
     "metadata": {
      "needs_background": "light"
     },
     "output_type": "display_data"
    }
   ],
   "source": [
    "plt.imshow(ims[:, 100, :])"
   ]
  },
  {
   "cell_type": "code",
   "execution_count": 86,
   "metadata": {},
   "outputs": [],
   "source": [
    "from typing import Tuple, Dict\n",
    "\n",
    "\n",
    "def create_ind(arr: np.array):\n",
    "    stop = arr.shape\n",
    "    start = [0] * len(stop)\n",
    "    step = [1] * len(stop)\n",
    "    return start, stop, step\n",
    "\n",
    "\n",
    "def read_ind(start: Tuple, stop: Tuple, step: Tuple) -> np.lib.index_tricks.IndexExpression:\n",
    "    ind_exp = tuple(slice(*slice_param) for slice_param in zip(start, stop, step))\n",
    "    return ind_exp\n",
    "\n",
    "\n",
    "def write_ind(ind_exp: np.lib.index_tricks.IndexExpression):\n",
    "    start = tuple(sl.start for sl in ind_exp)\n",
    "    stop = tuple(sl.stop for sl in ind_exp)\n",
    "    step = tuple(sl.step for sl in ind_exp)\n",
    "    return start, stop, step\n",
    "\n",
    "\n",
    "def tif2n5(tif_dir: Path,\n",
    "            n5_path: Path,\n",
    "            n5_key: str,\n",
    "            reg_exp: str = \"*.tiff\",\n",
    "            description: str = \"\",\n",
    "            order: str = \"zyx\",\n",
    "            unit: str = \"nm\",\n",
    "            resolution: Tuple = (1, 1, 1),\n",
    "            roi: Dict = None):\n",
    "\n",
    "    f_out = z5py.File(n5_path, \"w\")\n",
    "    with open_file(str(tif_dir)) as f:\n",
    "        print(f\"Reading tif files from {tif_dir}\")\n",
    "        tiff_stack_obj = f[reg_exp]\n",
    "        imgs = tiff_stack_obj[:]\n",
    "        print(f\"Read {tiff_stack_obj.shape} of type {tiff_stack_obj.dtype}\")\n",
    "\n",
    "        chunks = (1, 512, 512)\n",
    "        shape = imgs.shape\n",
    "        compression = \"gzip\"\n",
    "        dtype = imgs.dtype\n",
    "\n",
    "        ds = f_out.create_dataset(n5_key, shape=shape, compression=compression,\n",
    "                            chunks=chunks, dtype=dtype, n_threads=8)\n",
    "        print(f\"Writing to {n5_path}, key {n5_key}\")\n",
    "        ds[:] = imgs\n",
    "\n",
    "        # Attributes required for future registration\n",
    "        print(f\"Assigning attributes of the dataset\")\n",
    "        attributes = ds.attrs\n",
    "        attributes[\"description\"] = description\n",
    "        attributes[\"unit\"] = unit\n",
    "        if roi is None:\n",
    "            start, stop, step = create_ind(imgs)\n",
    "            roi = {\"start\": start, \"stop\": stop, \"step\": step}\n",
    "        attributes['roi'] = roi\n",
    "        attributes['resolution'] = resolution"
   ]
  },
  {
   "cell_type": "code",
   "execution_count": 87,
   "metadata": {},
   "outputs": [
    {
     "name": "stdout",
     "output_type": "stream",
     "text": [
      "Reading tif files from /scratch/buglakova/data/cryofib/registration_fluo/F107_A2_3dclem/fluo\n",
      "Read (55, 3343, 1482) of type uint8\n",
      "Writing to /scratch/buglakova/data/cryofib/registration_fluo/F107_A2_3dclem/fluo/fluo.n5, key raw\n",
      "Assigning attributes of the dataset\n",
      "{'start': [0, 0, 0], 'stop': (55, 3343, 1482), 'step': [1, 1, 1]}\n"
     ]
    }
   ],
   "source": [
    "tif2n5(tif_dir=fluo_dir,\n",
    "        n5_path=fluo_dir / \"fluo.n5\",\n",
    "        n5_key=\"raw\",\n",
    "        reg_exp=\"*.tiff\",\n",
    "        description=\"Raw fluorescence data\",\n",
    "        order=\"zyx\",\n",
    "        unit=\"nm\",\n",
    "        resolution=(1849.5, 221.4, 221.4),\n",
    "        roi=None)"
   ]
  },
  {
   "cell_type": "code",
   "execution_count": 4,
   "metadata": {},
   "outputs": [],
   "source": [
    "# the location of the mobie project that will be created\n",
    "# we recommend that the mobie project folders have the structure <PROECJT_ROOT_FOLDER/data>\n",
    "# the folder 'data' will contain the sub-folders for individual datasets\n",
    "mobie_project_folder = \"/scratch/buglakova/data/cryofib/registration_fluo/mobie_projects/fibsem-registration/data\"\n",
    "\n",
    "# name of the dataset that will be created.\n",
    "# one project can contain multiple datasets\n",
    "dataset_name = \"fluo-ds\"\n",
    "dataset_folder = os.path.join(mobie_project_folder, dataset_name)\n",
    "\n",
    "# the platform and number of jobs used for computation.\n",
    "# choose 'local' to run computations on your machine.\n",
    "# for large data, it is also possible to run computation on a cluster;\n",
    "# for this purpose 'slurm' (for slurm cluster) and 'lsf' (for lsf cluster) are currently supported\n",
    "target = \"local\"\n",
    "max_jobs = 4"
   ]
  },
  {
   "cell_type": "code",
   "execution_count": 8,
   "metadata": {},
   "outputs": [],
   "source": [
    "# The 'default' image for our example dataset is a 2d EM slice showing an overview of the dataset.\n",
    "input_file = str(fluo_dir / \"fluo.n5\")\n",
    "input_key = \"raw\"\n",
    "# This is the name that will be given to the image source in mobie.\n",
    "raw_name = \"fluo\"\n",
    "# The name of the menu from which the image can be added to the viewer.\n",
    "# Here, we choose \"em\", because this is an EM image slice.\n",
    "menu_name = \"fluo\"\n",
    "\n",
    "# We need some metadata to create the n5-file in big-data-viewer format:\n",
    "# - unit: the phyiscal unit of the coordinate system\n",
    "# - resolution: the size of one voxel in the physical unit, this needs to be a tuple/list of length 3,\n",
    "#               specifying the size for each of the 3 spatial dimensions\n",
    "# - chunks: the size of the chunks (in voxels) that are used to store the output file.\n",
    "#           good choices are usually (1, 512, 512) for 2d data and (64, 64, 64) for 3d data\n",
    "# - scale_factors: the scale factors used for downsampling the input when creating the image pyramid\n",
    "#                  this needs to be a list, where each entry specifies the scale factors for the 3 axes.\n",
    "# Note that axes are always listed in the order ZYX here (in the java implementation of mobie / big-data-viewer the axis convention is XYZ).\n",
    "# Also note that the values for all three axes (ZYX) need to be specified. In the case of 2d data, the value\n",
    "# for Z should be set to 1.\n",
    "\n",
    "f_out = z5py.File(input_file, \"r\")\n",
    "ds = f_out[input_key]\n"
   ]
  },
  {
   "cell_type": "code",
   "execution_count": 11,
   "metadata": {},
   "outputs": [
    {
     "data": {
      "text/plain": [
       "<z5py.dataset.Dataset at 0x7f7cfa9bce80>"
      ]
     },
     "execution_count": 11,
     "metadata": {},
     "output_type": "execute_result"
    }
   ],
   "source": [
    "f_out['raw']"
   ]
  },
  {
   "cell_type": "code",
   "execution_count": 9,
   "metadata": {},
   "outputs": [
    {
     "data": {
      "text/plain": [
       "[1849.5, 221.4, 221.4]"
      ]
     },
     "execution_count": 9,
     "metadata": {},
     "output_type": "execute_result"
    }
   ],
   "source": [
    "ds.attrs[\"resolution\"]"
   ]
  },
  {
   "cell_type": "code",
   "execution_count": 12,
   "metadata": {},
   "outputs": [
    {
     "name": "stderr",
     "output_type": "stream",
     "text": [
      "/home/buglakov/miniconda3/envs/mobie/lib/python3.10/site-packages/luigi/parameter.py:279: UserWarning: Parameter \"dtype\" with value \"None\" is not of type string.\n",
      "  warnings.warn('Parameter \"{}\" with value \"{}\" is not of type string.'.format(param_name, param_value))\n",
      "DEBUG: Checking if DownscalingWorkflow(tmp_folder=tmp_fluo-ds_fluo, max_jobs=4, config_dir=tmp_fluo-ds_fluo/configs, target=local, dependency=DummyTask, input_path=/scratch/buglakova/data/cryofib/registration_fluo/F107_A2_3dclem/fluo/fluo.n5, input_key=raw, scale_factors=[[1, 2, 2], [1, 2, 2], [1, 2, 2], [1, 2, 2]], halos=[[1, 2, 2], [1, 2, 2], [1, 2, 2], [1, 2, 2]], dtype=None, int_to_uint=False, metadata_format=bdv.n5, metadata_dict={\"resolution\": [1849.5, 221.4, 221.4], \"unit\": \"nm\", \"setup_name\": \"fluo\"}, output_path=/scratch/buglakova/data/cryofib/registration_fluo/mobie_projects/fibsem-registration/data/fluo-ds/images/bdv-n5/fluo.n5, output_key_prefix=, force_copy=False, skip_existing_levels=False, scale_offset=0) is complete\n",
      "/home/buglakov/miniconda3/envs/mobie/lib/python3.10/site-packages/luigi/parameter.py:279: UserWarning: Parameter \"dimension_separator\" with value \"None\" is not of type string.\n",
      "  warnings.warn('Parameter \"{}\" with value \"{}\" is not of type string.'.format(param_name, param_value))\n",
      "/home/buglakov/miniconda3/envs/mobie/lib/python3.10/site-packages/luigi/parameter.py:279: UserWarning: Parameter \"scale_factor\" with value \"(1, 2, 2)\" is not of type string.\n",
      "  warnings.warn('Parameter \"{}\" with value \"{}\" is not of type string.'.format(param_name, param_value))\n",
      "DEBUG: Checking if WriteDownscalingMetadata(tmp_folder=tmp_fluo-ds_fluo, output_path=/scratch/buglakova/data/cryofib/registration_fluo/mobie_projects/fibsem-registration/data/fluo-ds/images/bdv-n5/fluo.n5, scale_factors=[[1, 2, 2], [1, 2, 2], [1, 2, 2], [1, 2, 2]], dependency=DownscalingLocal, metadata_format=bdv.n5, metadata_dict={\"resolution\": [1849.5, 221.4, 221.4], \"unit\": \"nm\", \"setup_name\": \"fluo\"}, output_key_prefix=, scale_offset=0, prefix=downscaling) is complete\n",
      "INFO: Informed scheduler that task   DownscalingWorkflow_tmp_fluo_ds_fluo_DummyTask_None_fc4a6fef06   has status   PENDING\n",
      "DEBUG: Checking if DownscalingLocal(tmp_folder=tmp_fluo-ds_fluo, max_jobs=4, config_dir=tmp_fluo-ds_fluo/configs, input_path=/scratch/buglakova/data/cryofib/registration_fluo/mobie_projects/fibsem-registration/data/fluo-ds/images/bdv-n5/fluo.n5, input_key=setup0/timepoint0/s3, output_path=/scratch/buglakova/data/cryofib/registration_fluo/mobie_projects/fibsem-registration/data/fluo-ds/images/bdv-n5/fluo.n5, output_key=setup0/timepoint0/s4, scale_factor=(1, 2, 2), scale_prefix=s4, halo=[1, 2, 2], effective_scale_factor=[1, 16, 16], dimension_separator=None, dependency=DownscalingLocal) is complete\n",
      "INFO: Informed scheduler that task   WriteDownscalingMetadata_DownscalingLocal___resolution_____bdv_n5_af8576c296   has status   PENDING\n",
      "DEBUG: Checking if DownscalingLocal(tmp_folder=tmp_fluo-ds_fluo, max_jobs=4, config_dir=tmp_fluo-ds_fluo/configs, input_path=/scratch/buglakova/data/cryofib/registration_fluo/mobie_projects/fibsem-registration/data/fluo-ds/images/bdv-n5/fluo.n5, input_key=setup0/timepoint0/s2, output_path=/scratch/buglakova/data/cryofib/registration_fluo/mobie_projects/fibsem-registration/data/fluo-ds/images/bdv-n5/fluo.n5, output_key=setup0/timepoint0/s3, scale_factor=(1, 2, 2), scale_prefix=s3, halo=[1, 2, 2], effective_scale_factor=[1, 8, 8], dimension_separator=None, dependency=DownscalingLocal) is complete\n",
      "INFO: Informed scheduler that task   DownscalingLocal_tmp_fluo_ds_fluo_DownscalingLocal_None_acea264049   has status   PENDING\n",
      "DEBUG: Checking if DownscalingLocal(tmp_folder=tmp_fluo-ds_fluo, max_jobs=4, config_dir=tmp_fluo-ds_fluo/configs, input_path=/scratch/buglakova/data/cryofib/registration_fluo/mobie_projects/fibsem-registration/data/fluo-ds/images/bdv-n5/fluo.n5, input_key=setup0/timepoint0/s1, output_path=/scratch/buglakova/data/cryofib/registration_fluo/mobie_projects/fibsem-registration/data/fluo-ds/images/bdv-n5/fluo.n5, output_key=setup0/timepoint0/s2, scale_factor=(1, 2, 2), scale_prefix=s2, halo=[1, 2, 2], effective_scale_factor=[1, 4, 4], dimension_separator=None, dependency=DownscalingLocal) is complete\n",
      "INFO: Informed scheduler that task   DownscalingLocal_tmp_fluo_ds_fluo_DownscalingLocal_None_21f60c7954   has status   PENDING\n",
      "DEBUG: Checking if DownscalingLocal(tmp_folder=tmp_fluo-ds_fluo, max_jobs=4, config_dir=tmp_fluo-ds_fluo/configs, input_path=/scratch/buglakova/data/cryofib/registration_fluo/mobie_projects/fibsem-registration/data/fluo-ds/images/bdv-n5/fluo.n5, input_key=setup0/timepoint0/s0, output_path=/scratch/buglakova/data/cryofib/registration_fluo/mobie_projects/fibsem-registration/data/fluo-ds/images/bdv-n5/fluo.n5, output_key=setup0/timepoint0/s1, scale_factor=(1, 2, 2), scale_prefix=s1, halo=[1, 2, 2], effective_scale_factor=[1, 2, 2], dimension_separator=None, dependency=CopyVolumeLocal) is complete\n",
      "INFO: Informed scheduler that task   DownscalingLocal_tmp_fluo_ds_fluo_DownscalingLocal_None_32be2b104d   has status   PENDING\n",
      "DEBUG: Checking if CopyVolumeLocal(tmp_folder=tmp_fluo-ds_fluo, max_jobs=4, config_dir=tmp_fluo-ds_fluo/configs, input_path=/scratch/buglakova/data/cryofib/registration_fluo/F107_A2_3dclem/fluo/fluo.n5, input_key=raw, output_path=/scratch/buglakova/data/cryofib/registration_fluo/mobie_projects/fibsem-registration/data/fluo-ds/images/bdv-n5/fluo.n5, output_key=setup0/timepoint0/s0, prefix=initial_scale, dtype=None, int_to_uint=False, fit_to_roi=False, effective_scale_factor=[], dimension_separator=None, dependency=DummyTask) is complete\n",
      "INFO: Informed scheduler that task   DownscalingLocal_tmp_fluo_ds_fluo_CopyVolumeLocal_None_e354506e6b   has status   PENDING\n",
      "DEBUG: Checking if DummyTask() is complete\n",
      "INFO: Informed scheduler that task   CopyVolumeLocal_tmp_fluo_ds_fluo_DummyTask_None_2e4948e9b9   has status   PENDING\n",
      "INFO: Informed scheduler that task   DummyTask__99914b932b   has status   DONE\n",
      "INFO: Done scheduling tasks\n",
      "INFO: Running Worker with 1 processes\n",
      "DEBUG: Asking scheduler for work...\n",
      "DEBUG: Pending tasks: 7\n",
      "INFO: [pid 51183] Worker Worker(salt=000049414, workers=1, host=gpu6.cluster.embl.de, username=buglakov, pid=51183) running   CopyVolumeLocal(tmp_folder=tmp_fluo-ds_fluo, max_jobs=4, config_dir=tmp_fluo-ds_fluo/configs, input_path=/scratch/buglakova/data/cryofib/registration_fluo/F107_A2_3dclem/fluo/fluo.n5, input_key=raw, output_path=/scratch/buglakova/data/cryofib/registration_fluo/mobie_projects/fibsem-registration/data/fluo-ds/images/bdv-n5/fluo.n5, output_key=setup0/timepoint0/s0, prefix=initial_scale, dtype=None, int_to_uint=False, fit_to_roi=False, effective_scale_factor=[], dimension_separator=None, dependency=DummyTask)\n",
      "INFO: [pid 51183] Worker Worker(salt=000049414, workers=1, host=gpu6.cluster.embl.de, username=buglakov, pid=51183) done      CopyVolumeLocal(tmp_folder=tmp_fluo-ds_fluo, max_jobs=4, config_dir=tmp_fluo-ds_fluo/configs, input_path=/scratch/buglakova/data/cryofib/registration_fluo/F107_A2_3dclem/fluo/fluo.n5, input_key=raw, output_path=/scratch/buglakova/data/cryofib/registration_fluo/mobie_projects/fibsem-registration/data/fluo-ds/images/bdv-n5/fluo.n5, output_key=setup0/timepoint0/s0, prefix=initial_scale, dtype=None, int_to_uint=False, fit_to_roi=False, effective_scale_factor=[], dimension_separator=None, dependency=DummyTask)\n",
      "DEBUG: 1 running tasks, waiting for next task to finish\n",
      "INFO: Informed scheduler that task   CopyVolumeLocal_tmp_fluo_ds_fluo_DummyTask_None_2e4948e9b9   has status   DONE\n",
      "DEBUG: Asking scheduler for work...\n",
      "DEBUG: Pending tasks: 6\n",
      "INFO: [pid 51183] Worker Worker(salt=000049414, workers=1, host=gpu6.cluster.embl.de, username=buglakov, pid=51183) running   DownscalingLocal(tmp_folder=tmp_fluo-ds_fluo, max_jobs=4, config_dir=tmp_fluo-ds_fluo/configs, input_path=/scratch/buglakova/data/cryofib/registration_fluo/mobie_projects/fibsem-registration/data/fluo-ds/images/bdv-n5/fluo.n5, input_key=setup0/timepoint0/s0, output_path=/scratch/buglakova/data/cryofib/registration_fluo/mobie_projects/fibsem-registration/data/fluo-ds/images/bdv-n5/fluo.n5, output_key=setup0/timepoint0/s1, scale_factor=(1, 2, 2), scale_prefix=s1, halo=[1, 2, 2], effective_scale_factor=[1, 2, 2], dimension_separator=None, dependency=CopyVolumeLocal)\n",
      "INFO: [pid 51183] Worker Worker(salt=000049414, workers=1, host=gpu6.cluster.embl.de, username=buglakov, pid=51183) done      DownscalingLocal(tmp_folder=tmp_fluo-ds_fluo, max_jobs=4, config_dir=tmp_fluo-ds_fluo/configs, input_path=/scratch/buglakova/data/cryofib/registration_fluo/mobie_projects/fibsem-registration/data/fluo-ds/images/bdv-n5/fluo.n5, input_key=setup0/timepoint0/s0, output_path=/scratch/buglakova/data/cryofib/registration_fluo/mobie_projects/fibsem-registration/data/fluo-ds/images/bdv-n5/fluo.n5, output_key=setup0/timepoint0/s1, scale_factor=(1, 2, 2), scale_prefix=s1, halo=[1, 2, 2], effective_scale_factor=[1, 2, 2], dimension_separator=None, dependency=CopyVolumeLocal)\n",
      "DEBUG: 1 running tasks, waiting for next task to finish\n",
      "INFO: Informed scheduler that task   DownscalingLocal_tmp_fluo_ds_fluo_CopyVolumeLocal_None_e354506e6b   has status   DONE\n",
      "DEBUG: Asking scheduler for work...\n",
      "DEBUG: Pending tasks: 5\n",
      "INFO: [pid 51183] Worker Worker(salt=000049414, workers=1, host=gpu6.cluster.embl.de, username=buglakov, pid=51183) running   DownscalingLocal(tmp_folder=tmp_fluo-ds_fluo, max_jobs=4, config_dir=tmp_fluo-ds_fluo/configs, input_path=/scratch/buglakova/data/cryofib/registration_fluo/mobie_projects/fibsem-registration/data/fluo-ds/images/bdv-n5/fluo.n5, input_key=setup0/timepoint0/s1, output_path=/scratch/buglakova/data/cryofib/registration_fluo/mobie_projects/fibsem-registration/data/fluo-ds/images/bdv-n5/fluo.n5, output_key=setup0/timepoint0/s2, scale_factor=(1, 2, 2), scale_prefix=s2, halo=[1, 2, 2], effective_scale_factor=[1, 4, 4], dimension_separator=None, dependency=DownscalingLocal)\n",
      "INFO: [pid 51183] Worker Worker(salt=000049414, workers=1, host=gpu6.cluster.embl.de, username=buglakov, pid=51183) done      DownscalingLocal(tmp_folder=tmp_fluo-ds_fluo, max_jobs=4, config_dir=tmp_fluo-ds_fluo/configs, input_path=/scratch/buglakova/data/cryofib/registration_fluo/mobie_projects/fibsem-registration/data/fluo-ds/images/bdv-n5/fluo.n5, input_key=setup0/timepoint0/s1, output_path=/scratch/buglakova/data/cryofib/registration_fluo/mobie_projects/fibsem-registration/data/fluo-ds/images/bdv-n5/fluo.n5, output_key=setup0/timepoint0/s2, scale_factor=(1, 2, 2), scale_prefix=s2, halo=[1, 2, 2], effective_scale_factor=[1, 4, 4], dimension_separator=None, dependency=DownscalingLocal)\n",
      "DEBUG: 1 running tasks, waiting for next task to finish\n",
      "INFO: Informed scheduler that task   DownscalingLocal_tmp_fluo_ds_fluo_DownscalingLocal_None_32be2b104d   has status   DONE\n",
      "DEBUG: Asking scheduler for work...\n",
      "DEBUG: Pending tasks: 4\n",
      "INFO: [pid 51183] Worker Worker(salt=000049414, workers=1, host=gpu6.cluster.embl.de, username=buglakov, pid=51183) running   DownscalingLocal(tmp_folder=tmp_fluo-ds_fluo, max_jobs=4, config_dir=tmp_fluo-ds_fluo/configs, input_path=/scratch/buglakova/data/cryofib/registration_fluo/mobie_projects/fibsem-registration/data/fluo-ds/images/bdv-n5/fluo.n5, input_key=setup0/timepoint0/s2, output_path=/scratch/buglakova/data/cryofib/registration_fluo/mobie_projects/fibsem-registration/data/fluo-ds/images/bdv-n5/fluo.n5, output_key=setup0/timepoint0/s3, scale_factor=(1, 2, 2), scale_prefix=s3, halo=[1, 2, 2], effective_scale_factor=[1, 8, 8], dimension_separator=None, dependency=DownscalingLocal)\n",
      "INFO: [pid 51183] Worker Worker(salt=000049414, workers=1, host=gpu6.cluster.embl.de, username=buglakov, pid=51183) done      DownscalingLocal(tmp_folder=tmp_fluo-ds_fluo, max_jobs=4, config_dir=tmp_fluo-ds_fluo/configs, input_path=/scratch/buglakova/data/cryofib/registration_fluo/mobie_projects/fibsem-registration/data/fluo-ds/images/bdv-n5/fluo.n5, input_key=setup0/timepoint0/s2, output_path=/scratch/buglakova/data/cryofib/registration_fluo/mobie_projects/fibsem-registration/data/fluo-ds/images/bdv-n5/fluo.n5, output_key=setup0/timepoint0/s3, scale_factor=(1, 2, 2), scale_prefix=s3, halo=[1, 2, 2], effective_scale_factor=[1, 8, 8], dimension_separator=None, dependency=DownscalingLocal)\n",
      "DEBUG: 1 running tasks, waiting for next task to finish\n",
      "INFO: Informed scheduler that task   DownscalingLocal_tmp_fluo_ds_fluo_DownscalingLocal_None_21f60c7954   has status   DONE\n",
      "DEBUG: Asking scheduler for work...\n",
      "DEBUG: Pending tasks: 3\n",
      "INFO: [pid 51183] Worker Worker(salt=000049414, workers=1, host=gpu6.cluster.embl.de, username=buglakov, pid=51183) running   DownscalingLocal(tmp_folder=tmp_fluo-ds_fluo, max_jobs=4, config_dir=tmp_fluo-ds_fluo/configs, input_path=/scratch/buglakova/data/cryofib/registration_fluo/mobie_projects/fibsem-registration/data/fluo-ds/images/bdv-n5/fluo.n5, input_key=setup0/timepoint0/s3, output_path=/scratch/buglakova/data/cryofib/registration_fluo/mobie_projects/fibsem-registration/data/fluo-ds/images/bdv-n5/fluo.n5, output_key=setup0/timepoint0/s4, scale_factor=(1, 2, 2), scale_prefix=s4, halo=[1, 2, 2], effective_scale_factor=[1, 16, 16], dimension_separator=None, dependency=DownscalingLocal)\n",
      "INFO: [pid 51183] Worker Worker(salt=000049414, workers=1, host=gpu6.cluster.embl.de, username=buglakov, pid=51183) done      DownscalingLocal(tmp_folder=tmp_fluo-ds_fluo, max_jobs=4, config_dir=tmp_fluo-ds_fluo/configs, input_path=/scratch/buglakova/data/cryofib/registration_fluo/mobie_projects/fibsem-registration/data/fluo-ds/images/bdv-n5/fluo.n5, input_key=setup0/timepoint0/s3, output_path=/scratch/buglakova/data/cryofib/registration_fluo/mobie_projects/fibsem-registration/data/fluo-ds/images/bdv-n5/fluo.n5, output_key=setup0/timepoint0/s4, scale_factor=(1, 2, 2), scale_prefix=s4, halo=[1, 2, 2], effective_scale_factor=[1, 16, 16], dimension_separator=None, dependency=DownscalingLocal)\n",
      "DEBUG: 1 running tasks, waiting for next task to finish\n",
      "INFO: Informed scheduler that task   DownscalingLocal_tmp_fluo_ds_fluo_DownscalingLocal_None_acea264049   has status   DONE\n",
      "DEBUG: Asking scheduler for work...\n",
      "DEBUG: Pending tasks: 2\n",
      "INFO: [pid 51183] Worker Worker(salt=000049414, workers=1, host=gpu6.cluster.embl.de, username=buglakov, pid=51183) running   WriteDownscalingMetadata(tmp_folder=tmp_fluo-ds_fluo, output_path=/scratch/buglakova/data/cryofib/registration_fluo/mobie_projects/fibsem-registration/data/fluo-ds/images/bdv-n5/fluo.n5, scale_factors=[[1, 2, 2], [1, 2, 2], [1, 2, 2], [1, 2, 2]], dependency=DownscalingLocal, metadata_format=bdv.n5, metadata_dict={\"resolution\": [1849.5, 221.4, 221.4], \"unit\": \"nm\", \"setup_name\": \"fluo\"}, output_key_prefix=, scale_offset=0, prefix=downscaling)\n",
      "INFO: [pid 51183] Worker Worker(salt=000049414, workers=1, host=gpu6.cluster.embl.de, username=buglakov, pid=51183) done      WriteDownscalingMetadata(tmp_folder=tmp_fluo-ds_fluo, output_path=/scratch/buglakova/data/cryofib/registration_fluo/mobie_projects/fibsem-registration/data/fluo-ds/images/bdv-n5/fluo.n5, scale_factors=[[1, 2, 2], [1, 2, 2], [1, 2, 2], [1, 2, 2]], dependency=DownscalingLocal, metadata_format=bdv.n5, metadata_dict={\"resolution\": [1849.5, 221.4, 221.4], \"unit\": \"nm\", \"setup_name\": \"fluo\"}, output_key_prefix=, scale_offset=0, prefix=downscaling)\n",
      "DEBUG: 1 running tasks, waiting for next task to finish\n",
      "INFO: Informed scheduler that task   WriteDownscalingMetadata_DownscalingLocal___resolution_____bdv_n5_af8576c296   has status   DONE\n",
      "DEBUG: Asking scheduler for work...\n",
      "DEBUG: Pending tasks: 1\n",
      "INFO: [pid 51183] Worker Worker(salt=000049414, workers=1, host=gpu6.cluster.embl.de, username=buglakov, pid=51183) running   DownscalingWorkflow(tmp_folder=tmp_fluo-ds_fluo, max_jobs=4, config_dir=tmp_fluo-ds_fluo/configs, target=local, dependency=DummyTask, input_path=/scratch/buglakova/data/cryofib/registration_fluo/F107_A2_3dclem/fluo/fluo.n5, input_key=raw, scale_factors=[[1, 2, 2], [1, 2, 2], [1, 2, 2], [1, 2, 2]], halos=[[1, 2, 2], [1, 2, 2], [1, 2, 2], [1, 2, 2]], dtype=None, int_to_uint=False, metadata_format=bdv.n5, metadata_dict={\"resolution\": [1849.5, 221.4, 221.4], \"unit\": \"nm\", \"setup_name\": \"fluo\"}, output_path=/scratch/buglakova/data/cryofib/registration_fluo/mobie_projects/fibsem-registration/data/fluo-ds/images/bdv-n5/fluo.n5, output_key_prefix=, force_copy=False, skip_existing_levels=False, scale_offset=0)\n",
      "INFO: [pid 51183] Worker Worker(salt=000049414, workers=1, host=gpu6.cluster.embl.de, username=buglakov, pid=51183) done      DownscalingWorkflow(tmp_folder=tmp_fluo-ds_fluo, max_jobs=4, config_dir=tmp_fluo-ds_fluo/configs, target=local, dependency=DummyTask, input_path=/scratch/buglakova/data/cryofib/registration_fluo/F107_A2_3dclem/fluo/fluo.n5, input_key=raw, scale_factors=[[1, 2, 2], [1, 2, 2], [1, 2, 2], [1, 2, 2]], halos=[[1, 2, 2], [1, 2, 2], [1, 2, 2], [1, 2, 2]], dtype=None, int_to_uint=False, metadata_format=bdv.n5, metadata_dict={\"resolution\": [1849.5, 221.4, 221.4], \"unit\": \"nm\", \"setup_name\": \"fluo\"}, output_path=/scratch/buglakova/data/cryofib/registration_fluo/mobie_projects/fibsem-registration/data/fluo-ds/images/bdv-n5/fluo.n5, output_key_prefix=, force_copy=False, skip_existing_levels=False, scale_offset=0)\n",
      "DEBUG: 1 running tasks, waiting for next task to finish\n",
      "INFO: Informed scheduler that task   DownscalingWorkflow_tmp_fluo_ds_fluo_DummyTask_None_fc4a6fef06   has status   DONE\n",
      "DEBUG: Asking scheduler for work...\n",
      "DEBUG: Done\n",
      "DEBUG: There are no more tasks to run at this time\n",
      "INFO: Worker Worker(salt=000049414, workers=1, host=gpu6.cluster.embl.de, username=buglakov, pid=51183) was stopped. Shutting down Keep-Alive thread\n",
      "INFO: \n",
      "===== Luigi Execution Summary =====\n",
      "\n",
      "Scheduled 8 tasks of which:\n",
      "* 1 complete ones were encountered:\n",
      "    - 1 DummyTask()\n",
      "* 7 ran successfully:\n",
      "    - 1 CopyVolumeLocal(...)\n",
      "    - 4 DownscalingLocal(...)\n",
      "    - 1 DownscalingWorkflow(...)\n",
      "    - 1 WriteDownscalingMetadata(...)\n",
      "\n",
      "This progress looks :) because there were no failed tasks or missing dependencies\n",
      "\n",
      "===== Luigi Execution Summary =====\n",
      "\n"
     ]
    }
   ],
   "source": [
    "unit = ds.attrs[\"unit\"]\n",
    "resolution = ds.attrs[\"resolution\"]\n",
    "chunks = (1, 512, 512)\n",
    "scale_factors = 4 * [[1, 2, 2]]\n",
    "\n",
    "mobie.add_image(\n",
    "    input_path=input_file, \n",
    "    input_key=input_key,  # the input is a single tif image, so we leave input_key blank\n",
    "    root=mobie_project_folder,\n",
    "    dataset_name=dataset_name,\n",
    "    image_name=raw_name,\n",
    "    menu_name=menu_name,\n",
    "    resolution=resolution,\n",
    "    chunks=chunks,\n",
    "    scale_factors=scale_factors,\n",
    "    is_default_dataset=True,  # mark this dataset as the default dataset that will be loaded by mobie\n",
    "    target=target,\n",
    "    max_jobs=max_jobs,\n",
    "    unit=unit\n",
    ")"
   ]
  },
  {
   "cell_type": "code",
   "execution_count": null,
   "metadata": {},
   "outputs": [],
   "source": []
  }
 ],
 "metadata": {
  "interpreter": {
   "hash": "d19ec0a763383e7ff6c07d525dbc4053c8e8cc2149d3faa1be2e7bd38a06b37b"
  },
  "kernelspec": {
   "display_name": "Python 3.10.4 ('mobie')",
   "language": "python",
   "name": "python3"
  },
  "language_info": {
   "codemirror_mode": {
    "name": "ipython",
    "version": 3
   },
   "file_extension": ".py",
   "mimetype": "text/x-python",
   "name": "python",
   "nbconvert_exporter": "python",
   "pygments_lexer": "ipython3",
   "version": "3.10.4"
  },
  "orig_nbformat": 4
 },
 "nbformat": 4,
 "nbformat_minor": 2
}
