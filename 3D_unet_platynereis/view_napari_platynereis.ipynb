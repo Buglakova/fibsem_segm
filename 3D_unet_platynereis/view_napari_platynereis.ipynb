{
 "cells": [
  {
   "cell_type": "code",
   "execution_count": 1,
   "metadata": {},
   "outputs": [],
   "source": [
    "import napari\n",
    "import numpy as np\n",
    "import matplotlib.pyplot as plt\n",
    "import z5py\n",
    "from pathlib import Path\n",
    "\n",
    "from cryofib.n5_utils import read_volume, print_key_tree\n",
    "from cryofib.data_loaders import load_platynereis_pred_n5"
   ]
  },
  {
   "cell_type": "code",
   "execution_count": null,
   "metadata": {},
   "outputs": [],
   "source": []
  },
  {
   "cell_type": "markdown",
   "metadata": {},
   "source": [
    "## View n5 datasets of platynereis membrane segmentation"
   ]
  },
  {
   "cell_type": "code",
   "execution_count": 2,
   "metadata": {},
   "outputs": [],
   "source": [
    "data_dir = Path(\"/g/kreshuk/buglakova/data/platynereis_em_membranes/membrane\")\n",
    "n5_paths = list(data_dir.glob(\"*.n5\"))\n",
    "f_n5_list = [z5py.File(n5_path, \"r\") for n5_path in n5_paths]"
   ]
  },
  {
   "cell_type": "code",
   "execution_count": 3,
   "metadata": {},
   "outputs": [
    {
     "name": "stdout",
     "output_type": "stream",
     "text": [
      "[PosixPath('/g/kreshuk/buglakova/data/platynereis_em_membranes/membrane/train_data_membrane_01.n5'), PosixPath('/g/kreshuk/buglakova/data/platynereis_em_membranes/membrane/train_data_membrane_02.n5'), PosixPath('/g/kreshuk/buglakova/data/platynereis_em_membranes/membrane/train_data_membrane_03.n5'), PosixPath('/g/kreshuk/buglakova/data/platynereis_em_membranes/membrane/train_data_membrane_04.n5'), PosixPath('/g/kreshuk/buglakova/data/platynereis_em_membranes/membrane/train_data_membrane_05.n5'), PosixPath('/g/kreshuk/buglakova/data/platynereis_em_membranes/membrane/train_data_membrane_06.n5'), PosixPath('/g/kreshuk/buglakova/data/platynereis_em_membranes/membrane/train_data_membrane_07.n5'), PosixPath('/g/kreshuk/buglakova/data/platynereis_em_membranes/membrane/train_data_membrane_08.n5'), PosixPath('/g/kreshuk/buglakova/data/platynereis_em_membranes/membrane/train_data_membrane_09.n5')]\n"
     ]
    }
   ],
   "source": [
    "print(n5_paths)"
   ]
  },
  {
   "cell_type": "code",
   "execution_count": 4,
   "metadata": {},
   "outputs": [
    {
     "name": "stdout",
     "output_type": "stream",
     "text": [
      "Key structure of z5 file /g/kreshuk/buglakova/data/platynereis_em_membranes/membrane/train_data_membrane_01.n5\n",
      "volumes\n",
      "volumes/labels\n",
      "volumes/labels/segmentation\n",
      "volumes/labels/segmentation/s1\n",
      "volumes/raw\n",
      "volumes/raw/s0\n",
      "volumes/raw/s1\n",
      "volumes/raw/s2\n",
      "volumes/raw/s3\n",
      "3dunet\n",
      "3dunet/raw\n",
      "3dunet/labels\n"
     ]
    }
   ],
   "source": [
    "print_key_tree(f_n5_list[0])"
   ]
  },
  {
   "cell_type": "markdown",
   "metadata": {},
   "source": [
    "## Load predictions"
   ]
  },
  {
   "cell_type": "code",
   "execution_count": 5,
   "metadata": {},
   "outputs": [],
   "source": [
    "f_pred_list = load_platynereis_pred_n5()"
   ]
  },
  {
   "cell_type": "markdown",
   "metadata": {},
   "source": [
    "## Read volumes"
   ]
  },
  {
   "cell_type": "code",
   "execution_count": 6,
   "metadata": {},
   "outputs": [
    {
     "name": "stdout",
     "output_type": "stream",
     "text": [
      "<class 'z5py.file.File'>\n",
      "Reading roi slice(None, None, None) of volume volumes/raw/s1 from /g/kreshuk/buglakova/data/platynereis_em_membranes/membrane/train_data_membrane_02.n5\n",
      "Read volume with shape (130, 628, 628), data type uint8\n",
      "<class 'z5py.file.File'>\n",
      "Reading roi slice(None, None, None) of volume volumes/labels/segmentation/s1 from /g/kreshuk/buglakova/data/platynereis_em_membranes/membrane/train_data_membrane_02.n5\n",
      "Read volume with shape (130, 628, 628), data type uint64\n"
     ]
    }
   ],
   "source": [
    "idx = 1\n",
    "roi = np.s_[:]\n",
    "raw_stacks = []\n",
    "for s in range(1, 2):\n",
    "    raw_stacks.append(read_volume(f_n5_list[idx], (\"volumes/raw/s%d\"%s), roi))\n",
    "\n",
    "segm = read_volume(f_n5_list[idx], \"volumes/labels/segmentation/s1\", roi)"
   ]
  },
  {
   "cell_type": "code",
   "execution_count": 7,
   "metadata": {},
   "outputs": [
    {
     "name": "stdout",
     "output_type": "stream",
     "text": [
      "Key structure of z5 file /scratch/buglakova/data/platynereis_em_membranes/membrane/predictions/prediction_membrane_01.n5\n",
      "predictions\n",
      "predictions/full\n",
      "predictions/full/bg\n",
      "predictions/full/fg\n",
      "predictions/full/boundaries\n"
     ]
    }
   ],
   "source": [
    "print_key_tree(f_pred_list[1])"
   ]
  },
  {
   "cell_type": "code",
   "execution_count": 8,
   "metadata": {},
   "outputs": [
    {
     "name": "stdout",
     "output_type": "stream",
     "text": [
      "<class 'z5py.file.File'>\n",
      "Reading roi slice(None, None, None) of volume predictions/full/boundaries from /scratch/buglakova/data/platynereis_em_membranes/membrane/predictions/prediction_membrane_01.n5\n",
      "Read volume with shape (130, 628, 628), data type float32\n"
     ]
    }
   ],
   "source": [
    "boundary_pred = read_volume(f_pred_list[idx], \"predictions/full/boundaries\", roi)"
   ]
  },
  {
   "cell_type": "markdown",
   "metadata": {},
   "source": [
    "## Open it in napari"
   ]
  },
  {
   "cell_type": "code",
   "execution_count": 19,
   "metadata": {},
   "outputs": [],
   "source": [
    "v = napari.Viewer()"
   ]
  },
  {
   "cell_type": "markdown",
   "metadata": {},
   "source": [
    "### Open untransformed fluorescence"
   ]
  },
  {
   "cell_type": "code",
   "execution_count": 20,
   "metadata": {},
   "outputs": [
    {
     "data": {
      "text/plain": [
       "<Labels layer 'segmentation' at 0x7f9c884a93f0>"
      ]
     },
     "execution_count": 20,
     "metadata": {},
     "output_type": "execute_result"
    }
   ],
   "source": [
    "resolution = [50, 40, 40]\n",
    "# for s in range(4):\n",
    "#     v.add_image(raw_stacks[s], name=(\"s%d\"%s), scale=resolution)\n",
    "v.add_image(raw_stacks[0], name=\"s1\", scale=resolution)\n",
    "v.add_labels(segm, name=\"segmentation\", scale=resolution)"
   ]
  },
  {
   "cell_type": "code",
   "execution_count": 21,
   "metadata": {},
   "outputs": [
    {
     "data": {
      "text/plain": [
       "<Image layer '3D unet prediction' at 0x7f9c8825a1a0>"
      ]
     },
     "execution_count": 21,
     "metadata": {},
     "output_type": "execute_result"
    }
   ],
   "source": [
    "v.add_image(boundary_pred, name=\"3D unet prediction\", scale=resolution, blending=\"additive\", colormap=\"red\")"
   ]
  },
  {
   "cell_type": "code",
   "execution_count": 22,
   "metadata": {},
   "outputs": [],
   "source": [
    "v.scale_bar.visible = \"True\""
   ]
  },
  {
   "cell_type": "code",
   "execution_count": 23,
   "metadata": {},
   "outputs": [],
   "source": [
    "v.scale_bar.unit = \"nm\""
   ]
  },
  {
   "cell_type": "code",
   "execution_count": 15,
   "metadata": {},
   "outputs": [
    {
     "ename": "ValidationError",
     "evalue": "1 validation error for ScaleBar\nposition\n  value is not a valid enumeration member; permitted: 'top_left', 'top_right', 'bottom_right', 'bottom_left' (type=type_error.enum; enum_values=[<Position.TOP_LEFT: 'top_left'>, <Position.TOP_RIGHT: 'top_right'>, <Position.BOTTOM_RIGHT: 'bottom_right'>, <Position.BOTTOM_LEFT: 'bottom_left'>])",
     "output_type": "error",
     "traceback": [
      "\u001b[0;31m---------------------------------------------------------------------------\u001b[0m",
      "\u001b[0;31mValidationError\u001b[0m                           Traceback (most recent call last)",
      "Input \u001b[0;32mIn [15]\u001b[0m, in \u001b[0;36m<cell line: 1>\u001b[0;34m()\u001b[0m\n\u001b[0;32m----> 1\u001b[0m v\u001b[38;5;241m.\u001b[39mscale_bar\u001b[38;5;241m.\u001b[39mposition \u001b[38;5;241m=\u001b[39m \u001b[38;5;124m\"\u001b[39m\u001b[38;5;124mbottom_center\u001b[39m\u001b[38;5;124m\"\u001b[39m\n",
      "File \u001b[0;32m~/miniconda3/envs/napari_env/lib/python3.10/site-packages/napari/utils/events/evented_model.py:228\u001b[0m, in \u001b[0;36mEventedModel.__setattr__\u001b[0;34m(self, name, value)\u001b[0m\n\u001b[1;32m    225\u001b[0m before \u001b[38;5;241m=\u001b[39m \u001b[38;5;28mgetattr\u001b[39m(\u001b[38;5;28mself\u001b[39m, name, \u001b[38;5;28mobject\u001b[39m())\n\u001b[1;32m    227\u001b[0m \u001b[38;5;66;03m# set value using original setter\u001b[39;00m\n\u001b[0;32m--> 228\u001b[0m \u001b[38;5;28;43mself\u001b[39;49m\u001b[38;5;241;43m.\u001b[39;49m\u001b[43m_super_setattr_\u001b[49m\u001b[43m(\u001b[49m\u001b[43mname\u001b[49m\u001b[43m,\u001b[49m\u001b[43m \u001b[49m\u001b[43mvalue\u001b[49m\u001b[43m)\u001b[49m\n\u001b[1;32m    230\u001b[0m \u001b[38;5;66;03m# if different we emit the event with new value\u001b[39;00m\n\u001b[1;32m    231\u001b[0m after \u001b[38;5;241m=\u001b[39m \u001b[38;5;28mgetattr\u001b[39m(\u001b[38;5;28mself\u001b[39m, name)\n",
      "File \u001b[0;32m~/miniconda3/envs/napari_env/lib/python3.10/site-packages/napari/utils/events/evented_model.py:216\u001b[0m, in \u001b[0;36mEventedModel._super_setattr_\u001b[0;34m(self, name, value)\u001b[0m\n\u001b[1;32m    214\u001b[0m     \u001b[38;5;28mself\u001b[39m\u001b[38;5;241m.\u001b[39m__property_setters__[name]\u001b[38;5;241m.\u001b[39mfset(\u001b[38;5;28mself\u001b[39m, value)\n\u001b[1;32m    215\u001b[0m \u001b[38;5;28;01melse\u001b[39;00m:\n\u001b[0;32m--> 216\u001b[0m     \u001b[38;5;28;43msuper\u001b[39;49m\u001b[43m(\u001b[49m\u001b[43m)\u001b[49m\u001b[38;5;241;43m.\u001b[39;49m\u001b[38;5;21;43m__setattr__\u001b[39;49m\u001b[43m(\u001b[49m\u001b[43mname\u001b[49m\u001b[43m,\u001b[49m\u001b[43m \u001b[49m\u001b[43mvalue\u001b[49m\u001b[43m)\u001b[49m\n",
      "File \u001b[0;32m~/miniconda3/envs/napari_env/lib/python3.10/site-packages/pydantic/main.py:370\u001b[0m, in \u001b[0;36mpydantic.main.BaseModel.__setattr__\u001b[0;34m()\u001b[0m\n",
      "\u001b[0;31mValidationError\u001b[0m: 1 validation error for ScaleBar\nposition\n  value is not a valid enumeration member; permitted: 'top_left', 'top_right', 'bottom_right', 'bottom_left' (type=type_error.enum; enum_values=[<Position.TOP_LEFT: 'top_left'>, <Position.TOP_RIGHT: 'top_right'>, <Position.BOTTOM_RIGHT: 'bottom_right'>, <Position.BOTTOM_LEFT: 'bottom_left'>])"
     ]
    }
   ],
   "source": [
    "v.scale_bar.position = \"bottom_center\""
   ]
  },
  {
   "cell_type": "code",
   "execution_count": null,
   "metadata": {},
   "outputs": [],
   "source": []
  }
 ],
 "metadata": {
  "interpreter": {
   "hash": "cc1c03ff80a13df21eb451e0f9d6c275c99a059287021003aab271766020f90b"
  },
  "kernelspec": {
   "display_name": "Python [conda env:napari_env] *",
   "language": "python",
   "name": "conda-env-napari_env-py"
  },
  "language_info": {
   "codemirror_mode": {
    "name": "ipython",
    "version": 3
   },
   "file_extension": ".py",
   "mimetype": "text/x-python",
   "name": "python",
   "nbconvert_exporter": "python",
   "pygments_lexer": "ipython3",
   "version": "3.10.4"
  }
 },
 "nbformat": 4,
 "nbformat_minor": 2
}
