{
 "cells": [
  {
   "cell_type": "code",
   "execution_count": 1,
   "metadata": {},
   "outputs": [],
   "source": [
    "import napari\n",
    "import numpy as np\n",
    "import matplotlib.pyplot as plt\n",
    "import z5py\n",
    "from pathlib import Path\n",
    "\n",
    "from cryofib.n5_utils import read_volume, print_key_tree"
   ]
  },
  {
   "cell_type": "markdown",
   "metadata": {},
   "source": [
    "## View n5 datasets of platynereis membrane segmentation"
   ]
  },
  {
   "cell_type": "code",
   "execution_count": 2,
   "metadata": {},
   "outputs": [],
   "source": [
    "data_dir = Path(\"/g/kreshuk/buglakova/data/platynereis_em_membranes/membrane\")\n",
    "n5_paths = list(data_dir.glob(\"*.n5\"))\n",
    "f_n5_list = [z5py.File(n5_path, \"r\") for n5_path in n5_paths]"
   ]
  },
  {
   "cell_type": "code",
   "execution_count": 3,
   "metadata": {},
   "outputs": [
    {
     "name": "stdout",
     "output_type": "stream",
     "text": [
      "[PosixPath('/g/kreshuk/buglakova/data/platynereis_em_membranes/membrane/train_data_membrane_01.n5'), PosixPath('/g/kreshuk/buglakova/data/platynereis_em_membranes/membrane/train_data_membrane_02.n5'), PosixPath('/g/kreshuk/buglakova/data/platynereis_em_membranes/membrane/train_data_membrane_03.n5'), PosixPath('/g/kreshuk/buglakova/data/platynereis_em_membranes/membrane/train_data_membrane_04.n5'), PosixPath('/g/kreshuk/buglakova/data/platynereis_em_membranes/membrane/train_data_membrane_05.n5'), PosixPath('/g/kreshuk/buglakova/data/platynereis_em_membranes/membrane/train_data_membrane_06.n5'), PosixPath('/g/kreshuk/buglakova/data/platynereis_em_membranes/membrane/train_data_membrane_07.n5'), PosixPath('/g/kreshuk/buglakova/data/platynereis_em_membranes/membrane/train_data_membrane_08.n5'), PosixPath('/g/kreshuk/buglakova/data/platynereis_em_membranes/membrane/train_data_membrane_09.n5')]\n"
     ]
    }
   ],
   "source": [
    "print(n5_paths)"
   ]
  },
  {
   "cell_type": "code",
   "execution_count": 4,
   "metadata": {},
   "outputs": [
    {
     "name": "stdout",
     "output_type": "stream",
     "text": [
      "Key structure of z5 file /g/kreshuk/buglakova/data/platynereis_em_membranes/membrane/train_data_membrane_01.n5\n",
      "volumes\n",
      "volumes/labels\n",
      "volumes/labels/segmentation\n",
      "volumes/labels/segmentation/s1\n",
      "volumes/raw\n",
      "volumes/raw/s0\n",
      "volumes/raw/s1\n",
      "volumes/raw/s2\n",
      "volumes/raw/s3\n"
     ]
    }
   ],
   "source": [
    "print_key_tree(f_n5_list[0])"
   ]
  },
  {
   "cell_type": "markdown",
   "metadata": {},
   "source": [
    "## Read volumes"
   ]
  },
  {
   "cell_type": "code",
   "execution_count": 5,
   "metadata": {},
   "outputs": [
    {
     "name": "stdout",
     "output_type": "stream",
     "text": [
      "No key volumes/raw/s0 in file /g/kreshuk/buglakova/data/platynereis_em_membranes/membrane/train_data_membrane_09.n5\n",
      "Key structure of z5 file /g/kreshuk/buglakova/data/platynereis_em_membranes/membrane/train_data_membrane_09.n5\n",
      "volumes\n",
      "volumes/labels\n",
      "volumes/labels/segmentation\n",
      "volumes/labels/segmentation/s1\n",
      "volumes/raw\n",
      "volumes/raw/s1\n",
      "Reading roi slice(None, None, None) of volume volumes/raw/s1 from /g/kreshuk/buglakova/data/platynereis_em_membranes/membrane/train_data_membrane_09.n5\n",
      "Read volume with shape (120, 1280, 1280), data type uint8\n",
      "No key volumes/raw/s2 in file /g/kreshuk/buglakova/data/platynereis_em_membranes/membrane/train_data_membrane_09.n5\n",
      "Key structure of z5 file /g/kreshuk/buglakova/data/platynereis_em_membranes/membrane/train_data_membrane_09.n5\n",
      "volumes\n",
      "volumes/labels\n",
      "volumes/labels/segmentation\n",
      "volumes/labels/segmentation/s1\n",
      "volumes/raw\n",
      "volumes/raw/s1\n",
      "No key volumes/raw/s3 in file /g/kreshuk/buglakova/data/platynereis_em_membranes/membrane/train_data_membrane_09.n5\n",
      "Key structure of z5 file /g/kreshuk/buglakova/data/platynereis_em_membranes/membrane/train_data_membrane_09.n5\n",
      "volumes\n",
      "volumes/labels\n",
      "volumes/labels/segmentation\n",
      "volumes/labels/segmentation/s1\n",
      "volumes/raw\n",
      "volumes/raw/s1\n",
      "Reading roi slice(None, None, None) of volume volumes/labels/segmentation/s1 from /g/kreshuk/buglakova/data/platynereis_em_membranes/membrane/train_data_membrane_09.n5\n",
      "Read volume with shape (120, 1280, 1280), data type uint64\n"
     ]
    }
   ],
   "source": [
    "idx = 8\n",
    "roi = np.s_[:]\n",
    "raw_stacks = []\n",
    "for s in range(4):\n",
    "    raw_stacks.append(read_volume(f_n5_list[idx], (\"volumes/raw/s%d\"%s), roi))\n",
    "\n",
    "segm = read_volume(f_n5_list[idx], \"volumes/labels/segmentation/s1\", roi)"
   ]
  },
  {
   "cell_type": "markdown",
   "metadata": {},
   "source": [
    "## Open it in napari"
   ]
  },
  {
   "cell_type": "code",
   "execution_count": 6,
   "metadata": {},
   "outputs": [
    {
     "name": "stderr",
     "output_type": "stream",
     "text": [
      "WARNING: QStandardPaths: XDG_RUNTIME_DIR not set, defaulting to '/tmp/runtime-buglakov'\n"
     ]
    }
   ],
   "source": [
    "v = napari.Viewer()"
   ]
  },
  {
   "cell_type": "markdown",
   "metadata": {},
   "source": [
    "### Open untransformed fluorescence"
   ]
  },
  {
   "cell_type": "code",
   "execution_count": 7,
   "metadata": {},
   "outputs": [
    {
     "data": {
      "text/plain": [
       "<Labels layer 'segmentation' at 0x7f5ef0321cc0>"
      ]
     },
     "execution_count": 7,
     "metadata": {},
     "output_type": "execute_result"
    }
   ],
   "source": [
    "resolution = [25, 20, 20]\n",
    "# for s in range(4):\n",
    "#     v.add_image(raw_stacks[s], name=(\"s%d\"%s), scale=resolution)\n",
    "v.add_image(raw_stacks[1], name=\"s1\", scale=resolution)\n",
    "v.add_labels(segm, name=\"segmentation\", scale=resolution)"
   ]
  },
  {
   "cell_type": "code",
   "execution_count": 8,
   "metadata": {},
   "outputs": [],
   "source": [
    "from skimage.segmentation import find_boundaries"
   ]
  },
  {
   "cell_type": "code",
   "execution_count": 10,
   "metadata": {},
   "outputs": [],
   "source": [
    "boundaries = find_boundaries(segm, connectivity=segm.ndim, mode=\"thick\")"
   ]
  },
  {
   "cell_type": "code",
   "execution_count": 11,
   "metadata": {},
   "outputs": [
    {
     "data": {
      "text/plain": [
       "<Labels layer 'boundaries' at 0x7f5ee041fdf0>"
      ]
     },
     "execution_count": 11,
     "metadata": {},
     "output_type": "execute_result"
    }
   ],
   "source": [
    "v.add_labels(boundaries, name=\"boundaries\", scale=resolution)"
   ]
  },
  {
   "cell_type": "code",
   "execution_count": 12,
   "metadata": {},
   "outputs": [],
   "source": [
    "boundaries_inner = find_boundaries(segm, connectivity=segm.ndim, mode=\"inner\")"
   ]
  },
  {
   "cell_type": "code",
   "execution_count": 14,
   "metadata": {},
   "outputs": [
    {
     "data": {
      "text/plain": [
       "<Labels layer 'boundaries_inner [1]' at 0x7f5ed1da3760>"
      ]
     },
     "execution_count": 14,
     "metadata": {},
     "output_type": "execute_result"
    }
   ],
   "source": [
    "v.add_labels(boundaries_inner, name=\"boundaries_inner\", scale=resolution)"
   ]
  },
  {
   "cell_type": "code",
   "execution_count": 15,
   "metadata": {},
   "outputs": [],
   "source": [
    "boundaries_outer = find_boundaries(segm, connectivity=segm.ndim, mode=\"outer\")"
   ]
  },
  {
   "cell_type": "code",
   "execution_count": 16,
   "metadata": {},
   "outputs": [
    {
     "data": {
      "text/plain": [
       "<Labels layer 'boundaries_outer' at 0x7f5ed1c52380>"
      ]
     },
     "execution_count": 16,
     "metadata": {},
     "output_type": "execute_result"
    }
   ],
   "source": [
    "v.add_labels(boundaries_outer, name=\"boundaries_outer\", scale=resolution)"
   ]
  },
  {
   "cell_type": "code",
   "execution_count": 17,
   "metadata": {},
   "outputs": [],
   "source": [
    "foreground = (segm > 0).astype(int)"
   ]
  },
  {
   "cell_type": "code",
   "execution_count": 18,
   "metadata": {},
   "outputs": [],
   "source": [
    "from skimage.morphology import binary_erosion"
   ]
  },
  {
   "cell_type": "code",
   "execution_count": 19,
   "metadata": {},
   "outputs": [],
   "source": [
    "foreground = binary_erosion(foreground)"
   ]
  },
  {
   "cell_type": "code",
   "execution_count": 20,
   "metadata": {},
   "outputs": [
    {
     "data": {
      "text/plain": [
       "<Labels layer 'foreground_erosion' at 0x7f5ed00bc7f0>"
      ]
     },
     "execution_count": 20,
     "metadata": {},
     "output_type": "execute_result"
    }
   ],
   "source": [
    "v.add_labels(foreground, name=\"foreground_erosion\", scale=resolution)"
   ]
  },
  {
   "cell_type": "code",
   "execution_count": 21,
   "metadata": {},
   "outputs": [
    {
     "data": {
      "text/plain": [
       "<z5py.file.File at 0x7f5f1b46b9d0>"
      ]
     },
     "execution_count": 21,
     "metadata": {},
     "output_type": "execute_result"
    }
   ],
   "source": [
    "f_n5_list[0]."
   ]
  },
  {
   "cell_type": "code",
   "execution_count": null,
   "metadata": {},
   "outputs": [],
   "source": []
  }
 ],
 "metadata": {
  "interpreter": {
   "hash": "cc1c03ff80a13df21eb451e0f9d6c275c99a059287021003aab271766020f90b"
  },
  "kernelspec": {
   "display_name": "Python 3 (ipykernel)",
   "language": "python",
   "name": "python3"
  },
  "language_info": {
   "codemirror_mode": {
    "name": "ipython",
    "version": 3
   },
   "file_extension": ".py",
   "mimetype": "text/x-python",
   "name": "python",
   "nbconvert_exporter": "python",
   "pygments_lexer": "ipython3",
   "version": "3.10.4"
  }
 },
 "nbformat": 4,
 "nbformat_minor": 2
}
