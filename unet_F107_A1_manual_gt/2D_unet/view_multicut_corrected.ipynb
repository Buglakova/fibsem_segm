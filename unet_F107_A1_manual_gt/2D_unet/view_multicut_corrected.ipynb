{
 "cells": [
  {
   "cell_type": "code",
   "execution_count": 12,
   "metadata": {},
   "outputs": [],
   "source": [
    "import numpy as np\n",
    "import matplotlib.pyplot as plt\n",
    "import z5py\n",
    "from pathlib import Path\n",
    "from skimage.measure import label\n",
    "from skimage.morphology import binary_opening\n",
    "\n",
    "from cryofib.n5_utils import read_volume, print_key_tree\n",
    "from cryofib.data_loaders import load_F107_A1_pred, load_F107_A1_multicut, load_F107_A1_corrected"
   ]
  },
  {
   "cell_type": "code",
   "execution_count": 2,
   "metadata": {},
   "outputs": [],
   "source": [
    "def fast_count_unique(array: np.array):\n",
    "    if array.dtype is not np.int64:\n",
    "        print(f\"array type is {array.dtype}. Converting to int64, possibly can cause errors\")\n",
    "    n_features = int(np.max(array))\n",
    "    counts = np.bincount(array.flatten().astype(np.int64), minlength=n_features + 1)\n",
    "    return np.arange(n_features + 1), counts"
   ]
  },
  {
   "cell_type": "code",
   "execution_count": 3,
   "metadata": {},
   "outputs": [],
   "source": [
    "f_multi = load_F107_A1_corrected()"
   ]
  },
  {
   "cell_type": "code",
   "execution_count": 4,
   "metadata": {},
   "outputs": [
    {
     "name": "stdout",
     "output_type": "stream",
     "text": [
      "Key structure of z5 file /scratch/buglakova/data/cryofib/segm_fibsem/F107/F107_A1_em_multicut_corrected.n5\n",
      "segmentation_corrected\n"
     ]
    }
   ],
   "source": [
    "print_key_tree(f_multi)"
   ]
  },
  {
   "cell_type": "code",
   "execution_count": 5,
   "metadata": {},
   "outputs": [
    {
     "name": "stdout",
     "output_type": "stream",
     "text": [
      "<class 'z5py.file.File'>\n",
      "Reading roi slice(None, None, None) of volume segmentation_corrected from /scratch/buglakova/data/cryofib/segm_fibsem/F107/F107_A1_em_multicut_corrected.n5\n",
      "Read volume with shape (1350, 1506, 1647), data type uint32\n"
     ]
    }
   ],
   "source": [
    "roi = np.s_[:]\n",
    "multicut = read_volume(f_multi, \"segmentation_corrected\", roi)"
   ]
  },
  {
   "cell_type": "code",
   "execution_count": 11,
   "metadata": {},
   "outputs": [],
   "source": [
    "output = np.zeros_like(multicut)"
   ]
  },
  {
   "cell_type": "code",
   "execution_count": 6,
   "metadata": {},
   "outputs": [
    {
     "name": "stdout",
     "output_type": "stream",
     "text": [
      "array type is uint32. Converting to int64, possibly can cause errors\n"
     ]
    }
   ],
   "source": [
    "indices, counts = fast_count_unique(multicut)"
   ]
  },
  {
   "cell_type": "code",
   "execution_count": 7,
   "metadata": {},
   "outputs": [],
   "source": [
    "counts_nonzero = counts[counts > 0]\n",
    "indices_nonzero = indices[counts > 0]"
   ]
  },
  {
   "cell_type": "code",
   "execution_count": null,
   "metadata": {},
   "outputs": [],
   "source": [
    "cur_idx = 3\n",
    "\n",
    "for idx, count in zip(indices_nonzero, counts_nonzero):\n",
    "    print(\"Label \", idx, count)\n",
    "    multicut_idx = (multicut == idx).astype(np.uint8)\n",
    "    multicut_idx = binary_opening(multicut_idx)\n",
    "    labeled, num = label(multicut_idx, return_num=True)\n",
    "    print(\"Number of components\", num)\n",
    "    print()"
   ]
  },
  {
   "cell_type": "code",
   "execution_count": 10,
   "metadata": {},
   "outputs": [
    {
     "data": {
      "text/plain": [
       "1256"
      ]
     },
     "execution_count": 10,
     "metadata": {},
     "output_type": "execute_result"
    }
   ],
   "source": [
    "len(counts_nonzero)"
   ]
  },
  {
   "cell_type": "code",
   "execution_count": 8,
   "metadata": {},
   "outputs": [
    {
     "data": {
      "text/plain": [
       "(array([12.,  0.,  0., 10.,  0.,  3.,  3.,  4.,  1.,  4.,  4.,  6.,  2.,\n",
       "         5., 11.,  7., 10.,  7.,  7.,  5.,  5.,  5.,  8.,  5.,  5., 10.,\n",
       "         8., 13.,  8., 10., 11.,  5.,  3., 12.,  4.,  3.,  9.,  6.,  6.,\n",
       "        10.,  7., 13., 10., 10., 36., 74., 74., 71., 84., 63., 66., 68.,\n",
       "        56., 40., 50., 36., 37., 20., 24., 16., 20., 17., 15., 13.,  7.,\n",
       "        16.,  5.,  8.,  4.,  2.,  2.,  3.,  3.,  0.,  1.,  6.,  1.,  3.,\n",
       "         2.,  2.,  0.,  1.,  1.,  3.,  1.,  3.,  5.,  2.,  1.,  1.,  1.,\n",
       "         2.,  0.,  1.,  0.,  1.,  0.,  0.,  0.,  1.]),\n",
       " array([0.        , 0.0899488 , 0.1798976 , 0.2698464 , 0.3597952 ,\n",
       "        0.449744  , 0.5396928 , 0.6296416 , 0.7195904 , 0.8095392 ,\n",
       "        0.899488  , 0.9894368 , 1.0793856 , 1.16933441, 1.25928321,\n",
       "        1.34923201, 1.43918081, 1.52912961, 1.61907841, 1.70902721,\n",
       "        1.79897601, 1.88892481, 1.97887361, 2.06882241, 2.15877121,\n",
       "        2.24872001, 2.33866881, 2.42861761, 2.51856641, 2.60851521,\n",
       "        2.69846401, 2.78841281, 2.87836161, 2.96831041, 3.05825921,\n",
       "        3.14820801, 3.23815681, 3.32810561, 3.41805442, 3.50800322,\n",
       "        3.59795202, 3.68790082, 3.77784962, 3.86779842, 3.95774722,\n",
       "        4.04769602, 4.13764482, 4.22759362, 4.31754242, 4.40749122,\n",
       "        4.49744002, 4.58738882, 4.67733762, 4.76728642, 4.85723522,\n",
       "        4.94718402, 5.03713282, 5.12708162, 5.21703042, 5.30697922,\n",
       "        5.39692802, 5.48687682, 5.57682562, 5.66677443, 5.75672323,\n",
       "        5.84667203, 5.93662083, 6.02656963, 6.11651843, 6.20646723,\n",
       "        6.29641603, 6.38636483, 6.47631363, 6.56626243, 6.65621123,\n",
       "        6.74616003, 6.83610883, 6.92605763, 7.01600643, 7.10595523,\n",
       "        7.19590403, 7.28585283, 7.37580163, 7.46575043, 7.55569923,\n",
       "        7.64564803, 7.73559683, 7.82554563, 7.91549444, 8.00544324,\n",
       "        8.09539204, 8.18534084, 8.27528964, 8.36523844, 8.45518724,\n",
       "        8.54513604, 8.63508484, 8.72503364, 8.81498244, 8.90493124,\n",
       "        8.99488004]),\n",
       " <BarContainer object of 100 artists>)"
      ]
     },
     "execution_count": 8,
     "metadata": {},
     "output_type": "execute_result"
    },
    {
     "data": {
      "image/png": "[encoded data removed]",
      "text/plain": [
       "<Figure size 432x288 with 1 Axes>"
      ]
     },
     "metadata": {
      "needs_background": "light"
     },
     "output_type": "display_data"
    }
   ],
   "source": [
    "plt.hist(np.log10(counts_nonzero), bins=100, log=True)"
   ]
  },
  {
   "cell_type": "code",
   "execution_count": 9,
   "metadata": {},
   "outputs": [
    {
     "data": {
      "text/plain": [
       "(array([1.228e+03, 4.000e+00, 2.000e+00, 4.000e+00, 2.000e+00, 2.000e+00,\n",
       "        4.000e+00, 2.000e+00, 1.000e+00, 0.000e+00, 0.000e+00, 1.000e+00,\n",
       "        1.000e+00, 0.000e+00, 0.000e+00, 0.000e+00, 2.000e+00, 0.000e+00,\n",
       "        0.000e+00, 0.000e+00, 0.000e+00, 0.000e+00, 0.000e+00, 0.000e+00,\n",
       "        1.000e+00, 0.000e+00, 0.000e+00, 0.000e+00, 0.000e+00, 0.000e+00,\n",
       "        0.000e+00, 0.000e+00, 0.000e+00, 0.000e+00, 0.000e+00, 0.000e+00,\n",
       "        0.000e+00, 0.000e+00, 0.000e+00, 0.000e+00, 0.000e+00, 1.000e+00,\n",
       "        0.000e+00, 0.000e+00, 0.000e+00, 0.000e+00, 0.000e+00, 0.000e+00,\n",
       "        0.000e+00, 0.000e+00, 0.000e+00, 0.000e+00, 0.000e+00, 0.000e+00,\n",
       "        0.000e+00, 0.000e+00, 0.000e+00, 0.000e+00, 0.000e+00, 0.000e+00,\n",
       "        0.000e+00, 0.000e+00, 0.000e+00, 0.000e+00, 0.000e+00, 0.000e+00,\n",
       "        0.000e+00, 0.000e+00, 0.000e+00, 0.000e+00, 0.000e+00, 0.000e+00,\n",
       "        0.000e+00, 0.000e+00, 0.000e+00, 0.000e+00, 0.000e+00, 0.000e+00,\n",
       "        0.000e+00, 0.000e+00, 0.000e+00, 0.000e+00, 0.000e+00, 0.000e+00,\n",
       "        0.000e+00, 0.000e+00, 0.000e+00, 0.000e+00, 0.000e+00, 0.000e+00,\n",
       "        0.000e+00, 0.000e+00, 0.000e+00, 0.000e+00, 0.000e+00, 0.000e+00,\n",
       "        0.000e+00, 0.000e+00, 0.000e+00, 1.000e+00]),\n",
       " array([1.00000000e+00, 9.88280175e+06, 1.97656025e+07, 2.96484032e+07,\n",
       "        3.95312040e+07, 4.94140048e+07, 5.92968055e+07, 6.91796062e+07,\n",
       "        7.90624070e+07, 8.89452078e+07, 9.88280085e+07, 1.08710809e+08,\n",
       "        1.18593610e+08, 1.28476411e+08, 1.38359212e+08, 1.48242012e+08,\n",
       "        1.58124813e+08, 1.68007614e+08, 1.77890414e+08, 1.87773215e+08,\n",
       "        1.97656016e+08, 2.07538817e+08, 2.17421618e+08, 2.27304418e+08,\n",
       "        2.37187219e+08, 2.47070020e+08, 2.56952820e+08, 2.66835621e+08,\n",
       "        2.76718422e+08, 2.86601223e+08, 2.96484024e+08, 3.06366824e+08,\n",
       "        3.16249625e+08, 3.26132426e+08, 3.36015226e+08, 3.45898027e+08,\n",
       "        3.55780828e+08, 3.65663629e+08, 3.75546430e+08, 3.85429230e+08,\n",
       "        3.95312031e+08, 4.05194832e+08, 4.15077632e+08, 4.24960433e+08,\n",
       "        4.34843234e+08, 4.44726035e+08, 4.54608836e+08, 4.64491636e+08,\n",
       "        4.74374437e+08, 4.84257238e+08, 4.94140038e+08, 5.04022839e+08,\n",
       "        5.13905640e+08, 5.23788441e+08, 5.33671242e+08, 5.43554042e+08,\n",
       "        5.53436843e+08, 5.63319644e+08, 5.73202444e+08, 5.83085245e+08,\n",
       "        5.92968046e+08, 6.02850847e+08, 6.12733648e+08, 6.22616448e+08,\n",
       "        6.32499249e+08, 6.42382050e+08, 6.52264850e+08, 6.62147651e+08,\n",
       "        6.72030452e+08, 6.81913253e+08, 6.91796054e+08, 7.01678854e+08,\n",
       "        7.11561655e+08, 7.21444456e+08, 7.31327256e+08, 7.41210057e+08,\n",
       "        7.51092858e+08, 7.60975659e+08, 7.70858460e+08, 7.80741260e+08,\n",
       "        7.90624061e+08, 8.00506862e+08, 8.10389662e+08, 8.20272463e+08,\n",
       "        8.30155264e+08, 8.40038065e+08, 8.49920866e+08, 8.59803666e+08,\n",
       "        8.69686467e+08, 8.79569268e+08, 8.89452068e+08, 8.99334869e+08,\n",
       "        9.09217670e+08, 9.19100471e+08, 9.28983272e+08, 9.38866072e+08,\n",
       "        9.48748873e+08, 9.58631674e+08, 9.68514474e+08, 9.78397275e+08,\n",
       "        9.88280076e+08]),\n",
       " <BarContainer object of 100 artists>)"
      ]
     },
     "execution_count": 9,
     "metadata": {},
     "output_type": "execute_result"
    },
    {
     "data": {
      "image/png": "[encoded data removed]",
      "text/plain": [
       "<Figure size 432x288 with 1 Axes>"
      ]
     },
     "metadata": {
      "needs_background": "light"
     },
     "output_type": "display_data"
    }
   ],
   "source": [
    "plt.hist(counts_nonzero, bins=100, log=True)"
   ]
  },
  {
   "cell_type": "code",
   "execution_count": 26,
   "metadata": {},
   "outputs": [
    {
     "data": {
      "text/plain": [
       "191964"
      ]
     },
     "execution_count": 26,
     "metadata": {},
     "output_type": "execute_result"
    }
   ],
   "source": [
    "len(counts_nonzero)"
   ]
  },
  {
   "cell_type": "code",
   "execution_count": null,
   "metadata": {},
   "outputs": [],
   "source": []
  }
 ],
 "metadata": {
  "kernelspec": {
   "display_name": "Python 3.10.5 ('torchem_env')",
   "language": "python",
   "name": "python3"
  },
  "language_info": {
   "codemirror_mode": {
    "name": "ipython",
    "version": 3
   },
   "file_extension": ".py",
   "mimetype": "text/x-python",
   "name": "python",
   "nbconvert_exporter": "python",
   "pygments_lexer": "ipython3",
   "version": "3.10.5"
  },
  "orig_nbformat": 4,
  "vscode": {
   "interpreter": {
    "hash": "541e335f94b92a294ce96b8b61d59347372fa06b3c46f757053e724080c167db"
   }
  }
 },
 "nbformat": 4,
 "nbformat_minor": 2
}
