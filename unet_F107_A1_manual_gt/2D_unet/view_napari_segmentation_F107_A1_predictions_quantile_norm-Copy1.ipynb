{
 "cells": [
  {
   "cell_type": "code",
   "execution_count": 1,
   "metadata": {},
   "outputs": [],
   "source": [
    "import napari\n",
    "import numpy as np\n",
    "import matplotlib.pyplot as plt\n",
    "import z5py\n",
    "from pathlib import Path\n",
    "\n",
    "from cryofib.n5_utils import read_volume, print_key_tree\n",
    "from cryofib.napari_utils import napari_add_group\n",
    "from cryofib.data_loaders import load_F107_A1_pred, load_F107_A1_multicut, load_F107_A1_corrected"
   ]
  },
  {
   "cell_type": "markdown",
   "metadata": {},
   "source": [
    "## View n5 datasets"
   ]
  },
  {
   "cell_type": "code",
   "execution_count": 2,
   "metadata": {},
   "outputs": [],
   "source": [
    "data_dir = Path(\"/g/kreshuk/buglakova/data/cryofib/segm_fibsem/F107\")\n",
    "em_n5_path = data_dir / \"F107_A1_em.n5\"\n",
    "\n",
    "f_em = z5py.File(em_n5_path, \"r\")"
   ]
  },
  {
   "cell_type": "code",
   "execution_count": 3,
   "metadata": {},
   "outputs": [
    {
     "name": "stdout",
     "output_type": "stream",
     "text": [
      "Key structure of z5 file /g/kreshuk/buglakova/data/cryofib/segm_fibsem/F107/F107_A1_em.n5\n",
      "raw\n",
      "segmentation\n",
      "segmentation/nuclei\n",
      "segmentation/edoardo\n",
      "segmentation/edoardo/boundaries\n",
      "segmentation/edoardo/foreground\n",
      "segmentation/ground_truth_channels\n",
      "segmentation/ground_truth\n",
      "raw_norm\n"
     ]
    }
   ],
   "source": [
    "print_key_tree(f_em)"
   ]
  },
  {
   "cell_type": "markdown",
   "metadata": {},
   "source": [
    "## Read volumes"
   ]
  },
  {
   "cell_type": "code",
   "execution_count": 4,
   "metadata": {},
   "outputs": [
    {
     "name": "stdout",
     "output_type": "stream",
     "text": [
      "<class 'z5py.file.File'>\n",
      "Reading roi slice(None, None, None) of volume raw from /g/kreshuk/buglakova/data/cryofib/segm_fibsem/F107/F107_A1_em.n5\n",
      "Read volume with shape (1350, 1506, 1647), data type uint8\n"
     ]
    }
   ],
   "source": [
    "roi = np.s_[:]\n",
    "em = read_volume(f_em, \"raw\", roi)"
   ]
  },
  {
   "cell_type": "markdown",
   "metadata": {},
   "source": [
    "## Open raw in napari"
   ]
  },
  {
   "cell_type": "code",
   "execution_count": 5,
   "metadata": {},
   "outputs": [
    {
     "name": "stderr",
     "output_type": "stream",
     "text": [
      "WARNING: QStandardPaths: XDG_RUNTIME_DIR not set, defaulting to '/tmp/runtime-buglakov'\n"
     ]
    }
   ],
   "source": [
    "v = napari.Viewer()"
   ]
  },
  {
   "cell_type": "code",
   "execution_count": 6,
   "metadata": {},
   "outputs": [
    {
     "data": {
      "text/plain": [
       "<Image layer 'raw' at 0x7efc6c7ce440>"
      ]
     },
     "execution_count": 6,
     "metadata": {},
     "output_type": "execute_result"
    }
   ],
   "source": [
    "ds = f_em[\"raw\"]\n",
    "v.add_image(em, name=\"raw\")"
   ]
  },
  {
   "cell_type": "code",
   "execution_count": 18,
   "metadata": {},
   "outputs": [
    {
     "name": "stdout",
     "output_type": "stream",
     "text": [
      "<class 'z5py.file.File'>\n",
      "Reading roi slice(None, None, None) of volume segmentation/ground_truth from /g/kreshuk/buglakova/data/cryofib/segm_fibsem/F107/F107_A1_em.n5\n",
      "Read volume with shape (1350, 1506, 1647), data type int64\n"
     ]
    }
   ],
   "source": [
    "gt = read_volume(f_em, \"segmentation/ground_truth\", roi)"
   ]
  },
  {
   "cell_type": "code",
   "execution_count": 19,
   "metadata": {},
   "outputs": [
    {
     "data": {
      "text/plain": [
       "<Labels layer 'gt' at 0x7f2240692e90>"
      ]
     },
     "execution_count": 19,
     "metadata": {},
     "output_type": "execute_result"
    }
   ],
   "source": [
    "v.add_labels(gt, name=\"gt\")"
   ]
  },
  {
   "cell_type": "markdown",
   "metadata": {},
   "source": [
    "## Multicut"
   ]
  },
  {
   "cell_type": "code",
   "execution_count": 7,
   "metadata": {},
   "outputs": [],
   "source": [
    "f_corr = load_F107_A1_corrected()"
   ]
  },
  {
   "cell_type": "code",
   "execution_count": 8,
   "metadata": {},
   "outputs": [
    {
     "name": "stdout",
     "output_type": "stream",
     "text": [
      "Key structure of z5 file /scratch/buglakova/data/cryofib/segm_fibsem/F107/F107_A1_em_multicut_corrected.n5\n",
      "segmentation_corrected\n",
      "segmentation_final\n",
      "segmentation\n",
      "segmentation/segmentation_corrected_postprocessed\n",
      "segmentation/segmentation_corrected_watershed\n"
     ]
    }
   ],
   "source": [
    "print_key_tree(f_corr)"
   ]
  },
  {
   "cell_type": "code",
   "execution_count": 9,
   "metadata": {},
   "outputs": [
    {
     "name": "stdout",
     "output_type": "stream",
     "text": [
      "<class 'z5py.file.File'>\n",
      "Reading roi slice(None, None, None) of volume segmentation_final from /scratch/buglakova/data/cryofib/segm_fibsem/F107/F107_A1_em_multicut_corrected.n5\n",
      "Read volume with shape (1350, 1506, 1647), data type uint32\n"
     ]
    }
   ],
   "source": [
    "roi = np.s_[:]\n",
    "postprocessed = read_volume(f_corr, \"segmentation_final\", roi)\n"
   ]
  },
  {
   "cell_type": "code",
   "execution_count": 10,
   "metadata": {},
   "outputs": [
    {
     "data": {
      "text/plain": [
       "<Labels layer 'multicut_postprocessed ' at 0x7f2268488160>"
      ]
     },
     "execution_count": 10,
     "metadata": {},
     "output_type": "execute_result"
    }
   ],
   "source": [
    "v.add_labels(postprocessed , name=\"multicut_postprocessed \")"
   ]
  },
  {
   "cell_type": "code",
   "execution_count": 9,
   "metadata": {},
   "outputs": [
    {
     "name": "stdout",
     "output_type": "stream",
     "text": [
      "<class 'z5py.file.File'>\n",
      "Reading roi slice(None, None, None) of volume segmentation/segmentation_corrected_watershed from /scratch/buglakova/data/cryofib/segm_fibsem/F107/F107_A1_em_multicut_corrected.n5\n",
      "Read volume with shape (1350, 1506, 1647), data type uint32\n"
     ]
    }
   ],
   "source": [
    "roi = np.s_[:]\n",
    "ws = read_volume(f_corr, \"segmentation/segmentation_corrected_watershed\", roi)"
   ]
  },
  {
   "cell_type": "code",
   "execution_count": 11,
   "metadata": {},
   "outputs": [
    {
     "data": {
      "text/plain": [
       "<Labels layer 'multicut_postprocessed_ws' at 0x7f2254337610>"
      ]
     },
     "execution_count": 11,
     "metadata": {},
     "output_type": "execute_result"
    }
   ],
   "source": [
    "v.add_labels(ws, name=\"multicut_postprocessed_ws\")"
   ]
  },
  {
   "cell_type": "code",
   "execution_count": 17,
   "metadata": {},
   "outputs": [],
   "source": [
    "f_multi = load_F107_A1_multicut()"
   ]
  },
  {
   "cell_type": "code",
   "execution_count": 18,
   "metadata": {},
   "outputs": [
    {
     "name": "stdout",
     "output_type": "stream",
     "text": [
      "Key structure of z5 file /scratch/buglakova/data/cryofib/segm_fibsem/F107/F107_A1_em_multicut.n5\n",
      "segmentation\n",
      "segmentation/multicut_0.6_postprocessed_10000\n",
      "segmentation/multicut_0.6_postprocessed\n",
      "3D_s0_quantile_norm\n",
      "3D_s0_quantile_norm/ws\n",
      "3D_s0_quantile_norm/multicut_0.5\n",
      "3D_s0_quantile_norm/multicut_0.6\n",
      "3D_s0_quantile_norm/multicut_0.4\n",
      "2D_s0_quantile_norm_averaged\n",
      "2D_s0_quantile_norm_averaged/multicut_0.3\n",
      "2D_s0_quantile_norm_averaged/multicut_extra_0.3\n",
      "2D_s0_quantile_norm_averaged/multicut_0.7\n",
      "2D_s0_quantile_norm_averaged/multicut_0.5\n",
      "2D_s0_quantile_norm_averaged/multicut_extra_0.7\n",
      "2D_s0_quantile_norm_averaged/multicut_0.4\n",
      "2D_s0_quantile_norm_averaged/multicut_extra_0.4\n",
      "2D_s0_quantile_norm_averaged/multicut_extra_0.5\n",
      "2D_s0_quantile_norm_averaged/multicut_0.6\n",
      "2D_s0_quantile_norm_averaged/multicut_extra_0.6\n",
      "2D_s0_quantile_norm_averaged/ws\n",
      "2D_s0_quantile_norm\n",
      "2D_s0_quantile_norm/multicut_0.4\n",
      "2D_s0_quantile_norm/ws\n",
      "2D_s0_quantile_norm/multicut_0.5\n",
      "2D_s0_quantile_norm/multicut_0.6\n"
     ]
    }
   ],
   "source": [
    "print_key_tree(f_multi)"
   ]
  },
  {
   "cell_type": "code",
   "execution_count": 19,
   "metadata": {},
   "outputs": [
    {
     "name": "stdout",
     "output_type": "stream",
     "text": [
      "<class 'z5py.file.File'>\n",
      "Reading roi slice(None, None, None) of volume 2D_s0_quantile_norm_averaged/multicut_extra_0.6 from /scratch/buglakova/data/cryofib/segm_fibsem/F107/F107_A1_em_multicut.n5\n",
      "Read volume with shape (1350, 1506, 1647), data type uint64\n"
     ]
    }
   ],
   "source": [
    "roi = np.s_[:]\n",
    "multicut = read_volume(f_multi, \"2D_s0_quantile_norm_averaged/multicut_extra_0.6\", roi)"
   ]
  },
  {
   "cell_type": "code",
   "execution_count": 20,
   "metadata": {},
   "outputs": [
    {
     "data": {
      "text/plain": [
       "<Labels layer 'multicut_06' at 0x7f226832d7b0>"
      ]
     },
     "execution_count": 20,
     "metadata": {},
     "output_type": "execute_result"
    }
   ],
   "source": [
    "v.add_labels(multicut, name=\"multicut_06\")"
   ]
  },
  {
   "cell_type": "code",
   "execution_count": 10,
   "metadata": {},
   "outputs": [
    {
     "name": "stdout",
     "output_type": "stream",
     "text": [
      "<class 'z5py.file.File'>\n",
      "Reading roi slice(None, None, None) of volume segmentation/multicut_0.6_postprocessed from /scratch/buglakova/data/cryofib/segm_fibsem/F107/F107_A1_em_multicut.n5\n",
      "Read volume with shape (1350, 1506, 1647), data type uint32\n"
     ]
    }
   ],
   "source": [
    "roi = np.s_[:]\n",
    "multicut = read_volume(f_multi, \"segmentation/multicut_0.6_postprocessed\", roi)"
   ]
  },
  {
   "cell_type": "code",
   "execution_count": 11,
   "metadata": {},
   "outputs": [
    {
     "data": {
      "text/plain": [
       "<Labels layer 'multicut_06_postprocessed' at 0x7f4104734370>"
      ]
     },
     "execution_count": 11,
     "metadata": {},
     "output_type": "execute_result"
    }
   ],
   "source": [
    "v.add_labels(multicut, name=\"multicut_06_postprocessed\")"
   ]
  },
  {
   "cell_type": "code",
   "execution_count": 12,
   "metadata": {},
   "outputs": [
    {
     "name": "stdout",
     "output_type": "stream",
     "text": [
      "<class 'z5py.file.File'>\n",
      "Reading roi slice(None, None, None) of volume segmentation/multicut_0.6_postprocessed_10000 from /scratch/buglakova/data/cryofib/segm_fibsem/F107/F107_A1_em_multicut.n5\n",
      "Read volume with shape (1350, 1506, 1647), data type uint32\n"
     ]
    }
   ],
   "source": [
    "roi = np.s_[:]\n",
    "multicut = read_volume(f_multi, \"segmentation/multicut_0.6_postprocessed_10000\", roi)"
   ]
  },
  {
   "cell_type": "code",
   "execution_count": 13,
   "metadata": {},
   "outputs": [
    {
     "data": {
      "text/plain": [
       "<Labels layer 'multicut_06_postprocessed_10000' at 0x7f4104616200>"
      ]
     },
     "execution_count": 13,
     "metadata": {},
     "output_type": "execute_result"
    }
   ],
   "source": [
    "v.add_labels(multicut, name=\"multicut_06_postprocessed_10000\")"
   ]
  },
  {
   "cell_type": "markdown",
   "metadata": {},
   "source": [
    "### Open all predictions in a group"
   ]
  },
  {
   "cell_type": "code",
   "execution_count": 7,
   "metadata": {},
   "outputs": [],
   "source": [
    "f_pred = load_F107_A1_pred()"
   ]
  },
  {
   "cell_type": "code",
   "execution_count": 8,
   "metadata": {},
   "outputs": [
    {
     "name": "stdout",
     "output_type": "stream",
     "text": [
      "Key structure of z5 file /scratch/buglakova/data/cryofib/segm_fibsem/F107/F107_A1_em_3Dunet.n5\n",
      "predictions\n",
      "predictions/2D_s0_quantile_norm_min\n",
      "predictions/2D_s0_quantile_norm_min/boundaries\n",
      "predictions/2D_s0_quantile_norm_min/extra\n",
      "predictions/2D_s0_quantile_norm_mean\n",
      "predictions/2D_s0_quantile_norm_mean/boundaries\n",
      "predictions/2D_s0_quantile_norm_mean/extra\n",
      "predictions/full_masked_dice_s0_64x256x256_128x128x128\n",
      "predictions/full_masked_dice_s0_64x256x256_128x128x128/fg\n",
      "predictions/full_masked_dice_s0_64x256x256_128x128x128/extra\n",
      "predictions/full_masked_dice_s0_64x256x256_128x128x128/bg\n",
      "predictions/full_masked_dice_s0_64x256x256_128x128x128/boundaries\n",
      "predictions/full_masked_dice_s0_64x256x256\n",
      "predictions/full_masked_dice_s0_64x256x256/boundaries\n",
      "predictions/full_masked_dice_s0_64x256x256/fg\n",
      "predictions/full_masked_dice_s0_64x256x256/extra\n",
      "predictions/full_masked_dice_s0_64x256x256/bg\n",
      "predictions/2D_s0_quantile_norm_yzx\n",
      "predictions/2D_s0_quantile_norm_yzx/fg\n",
      "predictions/2D_s0_quantile_norm_yzx/extra\n",
      "predictions/2D_s0_quantile_norm_yzx/bg\n",
      "predictions/2D_s0_quantile_norm_yzx/boundaries\n",
      "predictions/2D_s0_quantile_norm_xzy\n",
      "predictions/2D_s0_quantile_norm_xzy/boundaries\n",
      "predictions/2D_s0_quantile_norm_xzy/extra\n",
      "predictions/2D_s0_quantile_norm_xzy/bg\n",
      "predictions/2D_s0_quantile_norm_xzy/fg\n",
      "predictions/2D_s0\n",
      "predictions/2D_s0/fg\n",
      "predictions/2D_s0/extra\n",
      "predictions/2D_s0/bg\n",
      "predictions/2D_s0/boundaries\n",
      "predictions/2D_s0_quantile_norm\n",
      "predictions/2D_s0_quantile_norm/fg\n",
      "predictions/2D_s0_quantile_norm/extra\n",
      "predictions/2D_s0_quantile_norm/bg\n",
      "predictions/2D_s0_quantile_norm/boundaries\n",
      "predictions/dice_s0_16x512x512_quantile_norm_no_mask\n",
      "predictions/dice_s0_16x512x512_quantile_norm_no_mask/fg\n",
      "predictions/dice_s0_16x512x512_quantile_norm_no_mask/boundaries\n",
      "predictions/dice_s0_16x512x512_quantile_norm_no_mask/extra\n",
      "predictions/dice_s0_16x512x512_quantile_norm_no_mask/bg\n"
     ]
    }
   ],
   "source": [
    "print_key_tree(f_pred)"
   ]
  },
  {
   "cell_type": "code",
   "execution_count": 13,
   "metadata": {},
   "outputs": [
    {
     "name": "stdout",
     "output_type": "stream",
     "text": [
      "<class 'z5py.file.File'>\n",
      "Reading roi slice(None, None, None) of volume predictions/2D_s0_quantile_norm_mean/boundaries from /scratch/buglakova/data/cryofib/segm_fibsem/F107/F107_A1_em_3Dunet.n5\n",
      "Read volume with shape (1350, 1506, 1647), data type float64\n"
     ]
    }
   ],
   "source": [
    "roi = np.s_[:]\n",
    "boundaries = read_volume(f_pred, \"predictions/2D_s0_quantile_norm_mean/boundaries\", roi)\n",
    "boundaries = boundaries > 0.7"
   ]
  },
  {
   "cell_type": "code",
   "execution_count": 14,
   "metadata": {},
   "outputs": [
    {
     "data": {
      "text/plain": [
       "<Image layer 'boundaries [2]' at 0x7efc6c335210>"
      ]
     },
     "execution_count": 14,
     "metadata": {},
     "output_type": "execute_result"
    }
   ],
   "source": [
    "v.add_image(boundaries, name=\"boundaries\")"
   ]
  },
  {
   "cell_type": "code",
   "execution_count": 24,
   "metadata": {},
   "outputs": [
    {
     "data": {
      "text/plain": [
       "<Labels layer 'boundaries_3D' at 0x7f2258049e40>"
      ]
     },
     "execution_count": 24,
     "metadata": {},
     "output_type": "execute_result"
    }
   ],
   "source": [
    "v.add_labels(boundaries, name=\"boundaries_3D\")"
   ]
  },
  {
   "cell_type": "code",
   "execution_count": 9,
   "metadata": {},
   "outputs": [
    {
     "name": "stdout",
     "output_type": "stream",
     "text": [
      "<class 'z5py.file.File'>\n",
      "Reading roi slice(None, None, None) of volume predictions/2D_s0_quantile_norm_mean/extra from /scratch/buglakova/data/cryofib/segm_fibsem/F107/F107_A1_em_3Dunet.n5\n",
      "Read volume with shape (1350, 1506, 1647), data type float64\n"
     ]
    }
   ],
   "source": [
    "roi = np.s_[:]\n",
    "extra = read_volume(f_pred, \"predictions/2D_s0_quantile_norm_mean/extra\", roi)"
   ]
  },
  {
   "cell_type": "code",
   "execution_count": 10,
   "metadata": {},
   "outputs": [
    {
     "data": {
      "text/plain": [
       "<Image layer 'extra' at 0x7fcdf0259960>"
      ]
     },
     "execution_count": 10,
     "metadata": {},
     "output_type": "execute_result"
    }
   ],
   "source": [
    "v.add_image(extra, name=\"extra\")"
   ]
  },
  {
   "cell_type": "code",
   "execution_count": 13,
   "metadata": {},
   "outputs": [],
   "source": [
    "extra_1 = (extra > 0.3).astype(np.int16)"
   ]
  },
  {
   "cell_type": "code",
   "execution_count": 15,
   "metadata": {},
   "outputs": [],
   "source": [
    "extra_middle = ((extra > 0.4) & (extra <= 0.5))"
   ]
  },
  {
   "cell_type": "code",
   "execution_count": 14,
   "metadata": {},
   "outputs": [
    {
     "data": {
      "text/plain": [
       "<Labels layer 'extra_1 [1]' at 0x7fcde80b25f0>"
      ]
     },
     "execution_count": 14,
     "metadata": {},
     "output_type": "execute_result"
    }
   ],
   "source": [
    "v.add_labels(extra_1)"
   ]
  },
  {
   "cell_type": "code",
   "execution_count": 16,
   "metadata": {},
   "outputs": [
    {
     "data": {
      "text/plain": [
       "<Labels layer 'extra_middle' at 0x7fac042dc220>"
      ]
     },
     "execution_count": 16,
     "metadata": {},
     "output_type": "execute_result"
    }
   ],
   "source": [
    "v.add_labels(extra_middle)"
   ]
  },
  {
   "cell_type": "code",
   "execution_count": 15,
   "metadata": {},
   "outputs": [],
   "source": [
    "from skimage.measure import label"
   ]
  },
  {
   "cell_type": "code",
   "execution_count": null,
   "metadata": {},
   "outputs": [],
   "source": [
    "extra_segm = label(extra_1)"
   ]
  },
  {
   "cell_type": "code",
   "execution_count": null,
   "metadata": {},
   "outputs": [],
   "source": [
    "component_sizes = []"
   ]
  },
  {
   "cell_type": "code",
   "execution_count": 11,
   "metadata": {},
   "outputs": [
    {
     "name": "stdout",
     "output_type": "stream",
     "text": [
      "<class 'z5py.file.File'>\n",
      "Reading roi slice(None, None, None) of volume predictions/2D_s0_quantile_norm_xzy/extra from /scratch/buglakova/data/cryofib/segm_fibsem/F107/F107_A1_em_3Dunet.n5\n",
      "Read volume with shape (1350, 1506, 1647), data type float64\n"
     ]
    }
   ],
   "source": [
    "roi = np.s_[:]\n",
    "extra_xzy = read_volume(f_pred, \"predictions/2D_s0_quantile_norm_xzy/extra\", roi)"
   ]
  },
  {
   "cell_type": "code",
   "execution_count": 12,
   "metadata": {},
   "outputs": [
    {
     "data": {
      "text/plain": [
       "<Image layer 'extra_xzy' at 0x7fc72c0748e0>"
      ]
     },
     "execution_count": 12,
     "metadata": {},
     "output_type": "execute_result"
    }
   ],
   "source": [
    "v.add_image(extra_xzy, name=\"extra_xzy\")"
   ]
  },
  {
   "cell_type": "code",
   "execution_count": null,
   "metadata": {},
   "outputs": [],
   "source": [
    "extra_min = np.minimum(extra, extra_xyz)"
   ]
  },
  {
   "cell_type": "code",
   "execution_count": 10,
   "metadata": {},
   "outputs": [
    {
     "data": {
      "text/plain": [
       "(array([1.61656400e+06, 1.46465300e+06, 1.35923000e+06, 1.25479100e+06,\n",
       "        1.15940100e+06, 1.06096300e+06, 9.77814000e+05, 9.00404000e+05,\n",
       "        8.39098000e+05, 7.82722000e+05, 7.22721000e+05, 6.71288000e+05,\n",
       "        6.33055000e+05, 5.96999000e+05, 5.59364000e+05, 5.28000000e+05,\n",
       "        5.03691000e+05, 4.86783000e+05, 4.70087000e+05, 4.52412000e+05,\n",
       "        4.40282000e+05, 4.25888000e+05, 4.16038000e+05, 4.03902000e+05,\n",
       "        3.94384000e+05, 3.89219000e+05, 3.79107000e+05, 3.73549000e+05,\n",
       "        3.65889000e+05, 3.62466000e+05, 3.60626000e+05, 3.51284000e+05,\n",
       "        3.44411000e+05, 1.57703132e+08, 3.28165000e+05, 3.25301000e+05,\n",
       "        3.20715000e+05, 3.17838000e+05, 3.13886000e+05, 3.09489000e+05,\n",
       "        3.07232000e+05, 3.05650000e+05, 3.02489000e+05, 3.01843000e+05,\n",
       "        3.01431000e+05, 2.98619000e+05, 2.97537000e+05, 2.97652000e+05,\n",
       "        2.95828000e+05, 2.94617000e+05, 2.95111000e+05, 2.97996000e+05,\n",
       "        2.94153000e+05, 2.92270000e+05, 2.91399000e+05, 2.94224000e+05,\n",
       "        2.90892000e+05, 2.92961000e+05, 2.92246000e+05, 2.96182000e+05,\n",
       "        2.95637000e+05, 2.98439000e+05, 3.03037000e+05, 3.05756000e+05,\n",
       "        3.12568000e+05, 3.15103000e+05, 3.23611000e+05, 3.30208000e+05,\n",
       "        3.38784000e+05, 3.44098000e+05, 3.51967000e+05, 3.60949000e+05,\n",
       "        3.72498000e+05, 3.83731000e+05, 3.97584000e+05, 4.08454000e+05,\n",
       "        4.24371000e+05, 4.43481000e+05, 4.61013000e+05, 4.84541000e+05,\n",
       "        5.08557000e+05, 5.34131000e+05, 5.62281000e+05, 5.98450000e+05,\n",
       "        6.38812000e+05, 6.86605000e+05, 7.36739000e+05, 8.04271000e+05,\n",
       "        8.88448000e+05, 9.91153000e+05, 1.12005900e+06, 1.29866800e+06,\n",
       "        1.54266400e+06, 1.89077700e+06, 2.43441100e+06, 3.40191700e+06,\n",
       "        5.53651900e+06, 1.15284510e+07, 2.62718410e+07, 4.44127500e+07]),\n",
       " array([0.2       , 0.2079999 , 0.2159998 , 0.2239997 , 0.23199959,\n",
       "        0.23999949, 0.24799939, 0.25599929, 0.26399918, 0.27199908,\n",
       "        0.27999898, 0.28799887, 0.29599877, 0.30399867, 0.31199857,\n",
       "        0.31999846, 0.32799836, 0.33599826, 0.34399816, 0.35199805,\n",
       "        0.35999795, 0.36799785, 0.37599775, 0.38399764, 0.39199754,\n",
       "        0.39999744, 0.40799734, 0.41599723, 0.42399713, 0.43199703,\n",
       "        0.43999693, 0.44799682, 0.45599672, 0.46399662, 0.47199652,\n",
       "        0.47999641, 0.48799631, 0.49599621, 0.50399611, 0.511996  ,\n",
       "        0.5199959 , 0.5279958 , 0.5359957 , 0.54399559, 0.55199549,\n",
       "        0.55999539, 0.56799529, 0.57599518, 0.58399508, 0.59199498,\n",
       "        0.59999488, 0.60799477, 0.61599467, 0.62399457, 0.63199447,\n",
       "        0.63999436, 0.64799426, 0.65599416, 0.66399406, 0.67199395,\n",
       "        0.67999385, 0.68799375, 0.69599364, 0.70399354, 0.71199344,\n",
       "        0.71999334, 0.72799323, 0.73599313, 0.74399303, 0.75199293,\n",
       "        0.75999282, 0.76799272, 0.77599262, 0.78399252, 0.79199241,\n",
       "        0.79999231, 0.80799221, 0.81599211, 0.823992  , 0.8319919 ,\n",
       "        0.8399918 , 0.8479917 , 0.85599159, 0.86399149, 0.87199139,\n",
       "        0.87999129, 0.88799118, 0.89599108, 0.90399098, 0.91199088,\n",
       "        0.91999077, 0.92799067, 0.93599057, 0.94399047, 0.95199036,\n",
       "        0.95999026, 0.96799016, 0.97599006, 0.98398995, 0.99198985,\n",
       "        0.99998975]),\n",
       " <BarContainer object of 100 artists>)"
      ]
     },
     "execution_count": 10,
     "metadata": {},
     "output_type": "execute_result"
    },
    {
     "data": {
      "image/png": "[encoded data removed]",
      "text/plain": [
       "<Figure size 432x288 with 1 Axes>"
      ]
     },
     "metadata": {
      "needs_background": "light"
     },
     "output_type": "display_data"
    }
   ],
   "source": [
    "plt.hist(extra[extra > 0.2].flatten(), bins=100, log=True)"
   ]
  },
  {
   "cell_type": "code",
   "execution_count": 12,
   "metadata": {},
   "outputs": [
    {
     "data": {
      "text/plain": [
       "<Image layer 'extra' at 0x7fec00304490>"
      ]
     },
     "execution_count": 12,
     "metadata": {},
     "output_type": "execute_result"
    }
   ],
   "source": [
    "v.add_image(extra, name=\"extra\")"
   ]
  },
  {
   "cell_type": "code",
   "execution_count": 10,
   "metadata": {},
   "outputs": [
    {
     "name": "stdout",
     "output_type": "stream",
     "text": [
      "<class 'z5py.file.File'>\n",
      "Reading roi slice(None, None, None) of volume predictions/2D_s0/bg from /scratch/buglakova/data/cryofib/segm_fibsem/F107/F107_A1_em_3Dunet.n5\n",
      "Read volume with shape (1350, 1506, 1647), data type float64\n"
     ]
    },
    {
     "data": {
      "text/plain": [
       "<Image layer 'bg' at 0x7f1de03a2c80>"
      ]
     },
     "execution_count": 10,
     "metadata": {},
     "output_type": "execute_result"
    }
   ],
   "source": [
    "bg = read_volume(f_pred, \"predictions/2D_s0/bg\", roi)\n",
    "v.add_image(bg, name=\"bg\")"
   ]
  },
  {
   "cell_type": "code",
   "execution_count": 14,
   "metadata": {},
   "outputs": [
    {
     "name": "stdout",
     "output_type": "stream",
     "text": [
      "<class 'z5py.file.File'>\n",
      "Reading roi slice(None, None, None) of volume predictions/full_masked_dice_s0_64x256x256/fg from /scratch/buglakova/data/cryofib/segm_fibsem/F107/F107_A1_em_3Dunet.n5\n",
      "Read volume with shape (1350, 1506, 1647), data type float32\n"
     ]
    },
    {
     "data": {
      "text/plain": [
       "<Image layer 'fg' at 0x7fe6b0124250>"
      ]
     },
     "execution_count": 14,
     "metadata": {},
     "output_type": "execute_result"
    }
   ],
   "source": [
    "fg = read_volume(f_pred, \"predictions/full_masked_dice_s0_64x256x256/fg\", roi)\n",
    "v.add_image(fg, name=\"fg\")"
   ]
  },
  {
   "cell_type": "code",
   "execution_count": null,
   "metadata": {},
   "outputs": [],
   "source": []
  }
 ],
 "metadata": {
  "kernelspec": {
   "display_name": "Python [conda env:napari_env] *",
   "language": "python",
   "name": "conda-env-napari_env-py"
  },
  "language_info": {
   "codemirror_mode": {
    "name": "ipython",
    "version": 3
   },
   "file_extension": ".py",
   "mimetype": "text/x-python",
   "name": "python",
   "nbconvert_exporter": "python",
   "pygments_lexer": "ipython3",
   "version": "3.10.4"
  },
  "vscode": {
   "interpreter": {
    "hash": "cc1c03ff80a13df21eb451e0f9d6c275c99a059287021003aab271766020f90b"
   }
  }
 },
 "nbformat": 4,
 "nbformat_minor": 2
}
