{
 "cells": [
  {
   "cell_type": "code",
   "execution_count": 1,
   "metadata": {},
   "outputs": [],
   "source": [
    "import numpy as np\n",
    "import matplotlib.pyplot as plt\n",
    "import z5py\n",
    "from pathlib import Path\n",
    "\n",
    "from cryofib.n5_utils import read_volume, print_key_tree\n",
    "from cryofib.data_loaders import load_F107_A1_pred, load_F107_A1_multicut"
   ]
  },
  {
   "cell_type": "code",
   "execution_count": 3,
   "metadata": {},
   "outputs": [],
   "source": [
    "def fast_count_unique(array: np.array):\n",
    "    if array.dtype is not np.int64:\n",
    "        print(f\"array type is {array.dtype}. Converting to int64, possibly can cause errors\")\n",
    "    n_features = int(np.max(array))\n",
    "    counts = np.bincount(array.flatten().astype(np.int64), minlength=n_features + 1)\n",
    "    return np.arange(n_features + 1), counts"
   ]
  },
  {
   "cell_type": "code",
   "execution_count": 4,
   "metadata": {},
   "outputs": [],
   "source": [
    "f_multi = load_F107_A1_multicut()"
   ]
  },
  {
   "cell_type": "code",
   "execution_count": 5,
   "metadata": {},
   "outputs": [
    {
     "name": "stdout",
     "output_type": "stream",
     "text": [
      "Key structure of z5 file /scratch/buglakova/data/cryofib/segm_fibsem/F107/F107_A1_em_multicut.n5\n",
      "3D_s0_quantile_norm\n",
      "3D_s0_quantile_norm/ws\n",
      "3D_s0_quantile_norm/multicut_0.5\n",
      "3D_s0_quantile_norm/multicut_0.6\n",
      "3D_s0_quantile_norm/multicut_0.4\n",
      "2D_s0_quantile_norm_averaged\n",
      "2D_s0_quantile_norm_averaged/multicut_0.3\n",
      "2D_s0_quantile_norm_averaged/multicut_extra_0.3\n",
      "2D_s0_quantile_norm_averaged/multicut_0.7\n",
      "2D_s0_quantile_norm_averaged/multicut_0.5\n",
      "2D_s0_quantile_norm_averaged/multicut_extra_0.7\n",
      "2D_s0_quantile_norm_averaged/multicut_0.4\n",
      "2D_s0_quantile_norm_averaged/multicut_extra_0.4\n",
      "2D_s0_quantile_norm_averaged/multicut_extra_0.5\n",
      "2D_s0_quantile_norm_averaged/multicut_0.6\n",
      "2D_s0_quantile_norm_averaged/multicut_extra_0.6\n",
      "2D_s0_quantile_norm_averaged/ws\n",
      "2D_s0_quantile_norm\n",
      "2D_s0_quantile_norm/multicut_0.4\n",
      "2D_s0_quantile_norm/ws\n",
      "2D_s0_quantile_norm/multicut_0.5\n",
      "2D_s0_quantile_norm/multicut_0.6\n"
     ]
    }
   ],
   "source": [
    "print_key_tree(f_multi)"
   ]
  },
  {
   "cell_type": "code",
   "execution_count": 6,
   "metadata": {},
   "outputs": [
    {
     "name": "stdout",
     "output_type": "stream",
     "text": [
      "<class 'z5py.file.File'>\n",
      "Reading roi slice(None, None, None) of volume 2D_s0_quantile_norm_averaged/multicut_extra_0.6 from /scratch/buglakova/data/cryofib/segm_fibsem/F107/F107_A1_em_multicut.n5\n",
      "Read volume with shape (1350, 1506, 1647), data type uint64\n"
     ]
    }
   ],
   "source": [
    "roi = np.s_[:]\n",
    "multicut = read_volume(f_multi, \"2D_s0_quantile_norm_averaged/multicut_extra_0.6\", roi)"
   ]
  },
  {
   "cell_type": "code",
   "execution_count": 7,
   "metadata": {},
   "outputs": [
    {
     "name": "stdout",
     "output_type": "stream",
     "text": [
      "array type is uint64. Converting to int64, possibly can cause errors\n"
     ]
    }
   ],
   "source": [
    "indices, counts = fast_count_unique(multicut)"
   ]
  },
  {
   "cell_type": "code",
   "execution_count": 24,
   "metadata": {},
   "outputs": [],
   "source": [
    "counts_nonzero = counts[1:][counts[1:] > 0]"
   ]
  },
  {
   "cell_type": "code",
   "execution_count": 27,
   "metadata": {},
   "outputs": [
    {
     "data": {
      "text/plain": [
       "(array([1.2100e+02, 0.0000e+00, 0.0000e+00, 1.7400e+02, 0.0000e+00,\n",
       "        8.9000e+01, 0.0000e+00, 1.0400e+02, 9.4000e+01, 1.2600e+02,\n",
       "        9.2000e+01, 1.8400e+02, 2.2200e+02, 2.0300e+02, 3.2100e+02,\n",
       "        3.8900e+02, 4.1800e+02, 4.9500e+02, 6.2400e+02, 8.2900e+02,\n",
       "        1.4240e+03, 2.3210e+03, 3.1780e+03, 4.9230e+03, 8.9340e+03,\n",
       "        1.4888e+04, 1.5562e+04, 1.6558e+04, 1.6121e+04, 1.5881e+04,\n",
       "        1.4438e+04, 1.2960e+04, 1.1233e+04, 9.0200e+03, 7.7030e+03,\n",
       "        6.2640e+03, 5.2500e+03, 4.3460e+03, 3.5750e+03, 2.9610e+03,\n",
       "        2.4140e+03, 1.8760e+03, 1.2750e+03, 9.4600e+02, 7.0900e+02,\n",
       "        5.1100e+02, 3.4500e+02, 2.3500e+02, 1.8200e+02, 1.7000e+02,\n",
       "        1.5700e+02, 1.3900e+02, 9.0000e+01, 8.9000e+01, 8.0000e+01,\n",
       "        8.6000e+01, 5.2000e+01, 4.2000e+01, 5.3000e+01, 4.1000e+01,\n",
       "        4.6000e+01, 2.7000e+01, 2.5000e+01, 2.1000e+01, 3.3000e+01,\n",
       "        2.1000e+01, 2.4000e+01, 1.7000e+01, 2.1000e+01, 2.4000e+01,\n",
       "        1.6000e+01, 1.5000e+01, 2.1000e+01, 1.5000e+01, 1.2000e+01,\n",
       "        5.0000e+00, 8.0000e+00, 8.0000e+00, 8.0000e+00, 4.0000e+00,\n",
       "        4.0000e+00, 4.0000e+00, 6.0000e+00, 1.1000e+01, 5.0000e+00,\n",
       "        6.0000e+00, 3.0000e+00, 3.0000e+00, 0.0000e+00, 2.0000e+00,\n",
       "        5.0000e+00, 6.0000e+00, 3.0000e+00, 2.0000e+00, 3.0000e+00,\n",
       "        4.0000e+00, 4.0000e+00, 2.0000e+00, 0.0000e+00, 3.0000e+00]),\n",
       " array([0.        , 0.08149077, 0.16298154, 0.24447231, 0.32596308,\n",
       "        0.40745385, 0.48894462, 0.57043539, 0.65192616, 0.73341693,\n",
       "        0.81490769, 0.89639846, 0.97788923, 1.05938   , 1.14087077,\n",
       "        1.22236154, 1.30385231, 1.38534308, 1.46683385, 1.54832462,\n",
       "        1.62981539, 1.71130616, 1.79279693, 1.8742877 , 1.95577847,\n",
       "        2.03726924, 2.11876001, 2.20025078, 2.28174155, 2.36323232,\n",
       "        2.44472308, 2.52621385, 2.60770462, 2.68919539, 2.77068616,\n",
       "        2.85217693, 2.9336677 , 3.01515847, 3.09664924, 3.17814001,\n",
       "        3.25963078, 3.34112155, 3.42261232, 3.50410309, 3.58559386,\n",
       "        3.66708463, 3.7485754 , 3.83006617, 3.91155694, 3.9930477 ,\n",
       "        4.07453847, 4.15602924, 4.23752001, 4.31901078, 4.40050155,\n",
       "        4.48199232, 4.56348309, 4.64497386, 4.72646463, 4.8079554 ,\n",
       "        4.88944617, 4.97093694, 5.05242771, 5.13391848, 5.21540925,\n",
       "        5.29690002, 5.37839079, 5.45988156, 5.54137233, 5.62286309,\n",
       "        5.70435386, 5.78584463, 5.8673354 , 5.94882617, 6.03031694,\n",
       "        6.11180771, 6.19329848, 6.27478925, 6.35628002, 6.43777079,\n",
       "        6.51926156, 6.60075233, 6.6822431 , 6.76373387, 6.84522464,\n",
       "        6.92671541, 7.00820618, 7.08969695, 7.17118771, 7.25267848,\n",
       "        7.33416925, 7.41566002, 7.49715079, 7.57864156, 7.66013233,\n",
       "        7.7416231 , 7.82311387, 7.90460464, 7.98609541, 8.06758618,\n",
       "        8.14907695]),\n",
       " <BarContainer object of 100 artists>)"
      ]
     },
     "execution_count": 27,
     "metadata": {},
     "output_type": "execute_result"
    },
    {
     "data": {
      "image/png": "[encoded data removed]",
      "text/plain": [
       "<Figure size 432x288 with 1 Axes>"
      ]
     },
     "metadata": {
      "needs_background": "light"
     },
     "output_type": "display_data"
    }
   ],
   "source": [
    "plt.hist(np.log10(counts_nonzero), bins=100, log=True)"
   ]
  },
  {
   "cell_type": "code",
   "execution_count": 26,
   "metadata": {},
   "outputs": [
    {
     "data": {
      "text/plain": [
       "191964"
      ]
     },
     "execution_count": 26,
     "metadata": {},
     "output_type": "execute_result"
    }
   ],
   "source": [
    "len(counts_nonzero)"
   ]
  },
  {
   "cell_type": "code",
   "execution_count": null,
   "metadata": {},
   "outputs": [],
   "source": []
  }
 ],
 "metadata": {
  "kernelspec": {
   "display_name": "Python 3 (ipykernel)",
   "language": "python",
   "name": "python3"
  },
  "language_info": {
   "codemirror_mode": {
    "name": "ipython",
    "version": 3
   },
   "file_extension": ".py",
   "mimetype": "text/x-python",
   "name": "python",
   "nbconvert_exporter": "python",
   "pygments_lexer": "ipython3",
   "version": "3.10.4"
  },
  "vscode": {
   "interpreter": {
    "hash": "541e335f94b92a294ce96b8b61d59347372fa06b3c46f757053e724080c167db"
   }
  }
 },
 "nbformat": 4,
 "nbformat_minor": 2
}
