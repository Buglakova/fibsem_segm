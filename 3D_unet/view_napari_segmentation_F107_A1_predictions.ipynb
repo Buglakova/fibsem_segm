{
 "cells": [
  {
   "cell_type": "code",
   "execution_count": 1,
   "metadata": {},
   "outputs": [],
   "source": [
    "import napari\n",
    "import numpy as np\n",
    "import matplotlib.pyplot as plt\n",
    "import z5py\n",
    "from pathlib import Path\n",
    "\n",
    "from cryofib.n5_utils import read_volume, print_key_tree\n",
    "from cryofib.napari_utils import napari_add_group\n",
    "from cryofib.data_loaders import load_F107_A1_pred"
   ]
  },
  {
   "cell_type": "markdown",
   "metadata": {},
   "source": [
    "## View n5 datasets"
   ]
  },
  {
   "cell_type": "code",
   "execution_count": 2,
   "metadata": {},
   "outputs": [],
   "source": [
    "data_dir = Path(\"/g/kreshuk/buglakova/data/cryofib/segm_fibsem/F107\")\n",
    "em_n5_path = data_dir / \"F107_A1_em.n5\"\n",
    "\n",
    "f_em = z5py.File(em_n5_path, \"r\")"
   ]
  },
  {
   "cell_type": "code",
   "execution_count": 3,
   "metadata": {},
   "outputs": [
    {
     "name": "stdout",
     "output_type": "stream",
     "text": [
      "Key structure of z5 file /g/kreshuk/buglakova/data/cryofib/segm_fibsem/F107/F107_A1_em.n5\n",
      "raw\n",
      "segmentation\n",
      "segmentation/nuclei\n",
      "segmentation/edoardo\n",
      "segmentation/edoardo/boundaries\n",
      "segmentation/edoardo/foreground\n",
      "segmentation/ground_truth_channels\n",
      "segmentation/ground_truth\n",
      "raw_norm\n"
     ]
    }
   ],
   "source": [
    "print_key_tree(f_em)"
   ]
  },
  {
   "cell_type": "markdown",
   "metadata": {},
   "source": [
    "## Read volumes"
   ]
  },
  {
   "cell_type": "code",
   "execution_count": 4,
   "metadata": {},
   "outputs": [
    {
     "name": "stdout",
     "output_type": "stream",
     "text": [
      "<class 'z5py.file.File'>\n",
      "Reading roi slice(None, None, None) of volume raw from /g/kreshuk/buglakova/data/cryofib/segm_fibsem/F107/F107_A1_em.n5\n",
      "Read volume with shape (1350, 1506, 1647), data type uint8\n"
     ]
    }
   ],
   "source": [
    "roi = np.s_[:]\n",
    "em = read_volume(f_em, \"raw\", roi)"
   ]
  },
  {
   "cell_type": "code",
   "execution_count": null,
   "metadata": {},
   "outputs": [],
   "source": [
    "plt.hist(em.flatten(), bins=100)"
   ]
  },
  {
   "cell_type": "markdown",
   "metadata": {},
   "source": [
    "## Open raw in napari"
   ]
  },
  {
   "cell_type": "code",
   "execution_count": 5,
   "metadata": {},
   "outputs": [
    {
     "name": "stderr",
     "output_type": "stream",
     "text": [
      "WARNING: QStandardPaths: XDG_RUNTIME_DIR not set, defaulting to '/tmp/runtime-buglakov'\n"
     ]
    }
   ],
   "source": [
    "v = napari.Viewer()"
   ]
  },
  {
   "cell_type": "code",
   "execution_count": 6,
   "metadata": {},
   "outputs": [
    {
     "data": {
      "text/plain": [
       "<Image layer 'raw' at 0x7fb77f53e530>"
      ]
     },
     "execution_count": 6,
     "metadata": {},
     "output_type": "execute_result"
    }
   ],
   "source": [
    "ds = f_em[\"raw\"]\n",
    "v.add_image(em, name=\"raw\")"
   ]
  },
  {
   "cell_type": "code",
   "execution_count": 7,
   "metadata": {},
   "outputs": [
    {
     "name": "stdout",
     "output_type": "stream",
     "text": [
      "<class 'z5py.file.File'>\n",
      "Reading roi slice(None, None, None) of volume raw_norm from /g/kreshuk/buglakova/data/cryofib/segm_fibsem/F107/F107_A1_em.n5\n",
      "Read volume with shape (1350, 1506, 1647), data type float32\n"
     ]
    },
    {
     "data": {
      "text/plain": [
       "<Image layer 'raw_norm' at 0x7fb990486ec0>"
      ]
     },
     "execution_count": 7,
     "metadata": {},
     "output_type": "execute_result"
    }
   ],
   "source": [
    "em_norm = read_volume(f_em, \"raw_norm\", roi)\n",
    "v.add_image(em_norm, name=\"raw_norm\")"
   ]
  },
  {
   "cell_type": "code",
   "execution_count": 8,
   "metadata": {},
   "outputs": [
    {
     "data": {
      "text/plain": [
       "(array([1.01377645e+09, 7.12060900e+06, 3.29930700e+06, 4.02483500e+06,\n",
       "        2.31541400e+06, 2.13576300e+06, 2.99859800e+06, 2.88559700e+06,\n",
       "        1.93399900e+06, 3.02046500e+06, 2.11417600e+06, 2.19022900e+06,\n",
       "        3.42923500e+06, 2.39654700e+06, 3.81916500e+06, 4.20351500e+06,\n",
       "        3.11479000e+06, 3.45302300e+06, 6.02009700e+06, 7.33537500e+06,\n",
       "        5.80362900e+06, 6.65173500e+06, 1.16260140e+07, 8.94282700e+06,\n",
       "        1.59217060e+07, 1.96745600e+07, 1.44457150e+07, 1.41931600e+07,\n",
       "        1.89471570e+07, 1.09783590e+07, 1.50568690e+07, 1.45694410e+07,\n",
       "        9.87575400e+06, 1.02385150e+07, 1.64646160e+07, 1.19723600e+07,\n",
       "        1.98456710e+07, 2.25393050e+07, 1.67386160e+07, 2.79753850e+07,\n",
       "        2.08219980e+07, 2.27973710e+07, 3.84588240e+07, 2.88178940e+07,\n",
       "        4.85259750e+07, 5.55791440e+07, 4.14221400e+07, 4.51296870e+07,\n",
       "        7.49136850e+07, 5.48027210e+07, 8.92363980e+07, 9.68192180e+07,\n",
       "        6.79104010e+07, 6.97804470e+07, 1.06378922e+08, 7.08454100e+07,\n",
       "        1.04338917e+08, 1.00292191e+08, 6.39915410e+07, 6.14375190e+07,\n",
       "        8.71691100e+07, 5.47555310e+07, 7.71687180e+07, 7.13086850e+07,\n",
       "        4.41991540e+07, 4.14454090e+07, 5.67577270e+07, 3.41505700e+07,\n",
       "        4.57307810e+07, 3.93947060e+07, 2.29648340e+07, 2.05054620e+07,\n",
       "        2.64980480e+07, 1.50253220e+07, 1.89125460e+07, 1.49620470e+07,\n",
       "        8.02203600e+06, 6.62914400e+06, 7.70898100e+06, 5.52475400e+06,\n",
       "        2.74377100e+06, 2.15898200e+06, 2.40375300e+06, 1.18863800e+06,\n",
       "        1.34234600e+06, 9.58833000e+05, 4.85288000e+05, 3.91950000e+05,\n",
       "        4.54804000e+05, 2.36042000e+05, 2.83702000e+05, 2.23250000e+05,\n",
       "        1.25456000e+05, 1.09301000e+05, 1.27727000e+05, 5.44000000e+04,\n",
       "        3.66960000e+04, 7.70400000e+03, 4.77000000e+02, 3.20000000e+01]),\n",
       " array([ 0.       ,  0.8333334,  1.6666667,  2.5      ,  3.3333335,\n",
       "         4.166667 ,  5.       ,  5.8333335,  6.666667 ,  7.5      ,\n",
       "         8.333334 ,  9.166667 , 10.       , 10.833334 , 11.666667 ,\n",
       "        12.5      , 13.333334 , 14.166667 , 15.       , 15.833334 ,\n",
       "        16.666668 , 17.5      , 18.333334 , 19.166668 , 20.       ,\n",
       "        20.833334 , 21.666668 , 22.5      , 23.333334 , 24.166668 ,\n",
       "        25.       , 25.833334 , 26.666668 , 27.5      , 28.333334 ,\n",
       "        29.166668 , 30.       , 30.833334 , 31.666668 , 32.5      ,\n",
       "        33.333336 , 34.166668 , 35.       , 35.833336 , 36.666668 ,\n",
       "        37.5      , 38.333336 , 39.166668 , 40.       , 40.833336 ,\n",
       "        41.666668 , 42.5      , 43.333336 , 44.166668 , 45.       ,\n",
       "        45.833336 , 46.666668 , 47.5      , 48.333336 , 49.166668 ,\n",
       "        50.       , 50.833336 , 51.666668 , 52.5      , 53.333336 ,\n",
       "        54.166668 , 55.       , 55.833336 , 56.666668 , 57.5      ,\n",
       "        58.333336 , 59.166668 , 60.       , 60.833336 , 61.666668 ,\n",
       "        62.5      , 63.333336 , 64.16667  , 65.       , 65.833336 ,\n",
       "        66.66667  , 67.5      , 68.333336 , 69.16667  , 70.       ,\n",
       "        70.833336 , 71.66667  , 72.5      , 73.333336 , 74.16667  ,\n",
       "        75.       , 75.833336 , 76.66667  , 77.5      , 78.333336 ,\n",
       "        79.16667  , 80.       , 80.833336 , 81.66667  , 82.5      ,\n",
       "        83.333336 ], dtype=float32),\n",
       " <BarContainer object of 100 artists>)"
      ]
     },
     "execution_count": 8,
     "metadata": {},
     "output_type": "execute_result"
    },
    {
     "data": {
      "image/png": "[encoded data removed]",
      "text/plain": [
       "<Figure size 432x288 with 1 Axes>"
      ]
     },
     "metadata": {
      "needs_background": "light"
     },
     "output_type": "display_data"
    }
   ],
   "source": [
    "plt.hist(em.flatten(), bins=100)"
   ]
  },
  {
   "cell_type": "markdown",
   "metadata": {},
   "source": [
    "### Open all predictions in a group"
   ]
  },
  {
   "cell_type": "code",
   "execution_count": 7,
   "metadata": {},
   "outputs": [],
   "source": [
    "f_pred = load_F107_A1_pred()"
   ]
  },
  {
   "cell_type": "code",
   "execution_count": 8,
   "metadata": {},
   "outputs": [
    {
     "name": "stdout",
     "output_type": "stream",
     "text": [
      "Key structure of z5 file /scratch/buglakova/data/cryofib/segm_fibsem/F107/F107_A1_em_3Dunet.n5\n",
      "predictions\n",
      "predictions/full_masked_dice_s0_64x256x256_128x128x128\n",
      "predictions/full_masked_dice_s0_64x256x256_128x128x128/fg\n",
      "predictions/full_masked_dice_s0_64x256x256_128x128x128/extra\n",
      "predictions/full_masked_dice_s0_64x256x256_128x128x128/bg\n",
      "predictions/full_masked_dice_s0_64x256x256_128x128x128/boundaries\n",
      "predictions/full_masked_dice_s0_64x256x256\n",
      "predictions/full_masked_dice_s0_64x256x256/boundaries\n",
      "predictions/full_masked_dice_s0_64x256x256/fg\n",
      "predictions/full_masked_dice_s0_64x256x256/extra\n",
      "predictions/full_masked_dice_s0_64x256x256/bg\n"
     ]
    }
   ],
   "source": [
    "print_key_tree(f_pred)"
   ]
  },
  {
   "cell_type": "code",
   "execution_count": 9,
   "metadata": {},
   "outputs": [
    {
     "name": "stdout",
     "output_type": "stream",
     "text": [
      "<class 'z5py.file.File'>\n",
      "Reading roi slice(None, None, None) of volume predictions/full_masked_dice_s0_64x256x256/boundaries from /scratch/buglakova/data/cryofib/segm_fibsem/F107/F107_A1_em_3Dunet.n5\n",
      "Read volume with shape (1350, 1506, 1647), data type float32\n"
     ]
    }
   ],
   "source": [
    "roi = np.s_[:]\n",
    "boundaries = read_volume(f_pred, \"predictions/full_masked_dice_s0_64x256x256/boundaries\", roi)"
   ]
  },
  {
   "cell_type": "code",
   "execution_count": 10,
   "metadata": {},
   "outputs": [
    {
     "data": {
      "text/plain": [
       "<Image layer 'boundaries' at 0x7fe6b8134850>"
      ]
     },
     "execution_count": 10,
     "metadata": {},
     "output_type": "execute_result"
    }
   ],
   "source": [
    "v.add_image(boundaries, name=\"boundaries\")"
   ]
  },
  {
   "cell_type": "code",
   "execution_count": 11,
   "metadata": {},
   "outputs": [
    {
     "name": "stdout",
     "output_type": "stream",
     "text": [
      "<class 'z5py.file.File'>\n",
      "Reading roi slice(None, None, None) of volume predictions/full_masked_dice_s0_64x256x256/extra from /scratch/buglakova/data/cryofib/segm_fibsem/F107/F107_A1_em_3Dunet.n5\n",
      "Read volume with shape (1350, 1506, 1647), data type float32\n"
     ]
    }
   ],
   "source": [
    "extra = read_volume(f_pred, \"predictions/full_masked_dice_s0_64x256x256/extra\", roi)"
   ]
  },
  {
   "cell_type": "code",
   "execution_count": 12,
   "metadata": {},
   "outputs": [
    {
     "data": {
      "text/plain": [
       "<Image layer 'extra' at 0x7fe6b81b8880>"
      ]
     },
     "execution_count": 12,
     "metadata": {},
     "output_type": "execute_result"
    }
   ],
   "source": [
    "v.add_image(extra, name=\"extra\")"
   ]
  },
  {
   "cell_type": "code",
   "execution_count": 13,
   "metadata": {},
   "outputs": [
    {
     "name": "stdout",
     "output_type": "stream",
     "text": [
      "<class 'z5py.file.File'>\n",
      "Reading roi slice(None, None, None) of volume predictions/full_masked_dice_s0_64x256x256/bg from /scratch/buglakova/data/cryofib/segm_fibsem/F107/F107_A1_em_3Dunet.n5\n",
      "Read volume with shape (1350, 1506, 1647), data type float32\n"
     ]
    },
    {
     "data": {
      "text/plain": [
       "<Image layer 'bg' at 0x7fe6b0103cd0>"
      ]
     },
     "execution_count": 13,
     "metadata": {},
     "output_type": "execute_result"
    }
   ],
   "source": [
    "bg = read_volume(f_pred, \"predictions/full_masked_dice_s0_64x256x256/bg\", roi)\n",
    "v.add_image(bg, name=\"bg\")"
   ]
  },
  {
   "cell_type": "code",
   "execution_count": 14,
   "metadata": {},
   "outputs": [
    {
     "name": "stdout",
     "output_type": "stream",
     "text": [
      "<class 'z5py.file.File'>\n",
      "Reading roi slice(None, None, None) of volume predictions/full_masked_dice_s0_64x256x256/fg from /scratch/buglakova/data/cryofib/segm_fibsem/F107/F107_A1_em_3Dunet.n5\n",
      "Read volume with shape (1350, 1506, 1647), data type float32\n"
     ]
    },
    {
     "data": {
      "text/plain": [
       "<Image layer 'fg' at 0x7fe6b0124250>"
      ]
     },
     "execution_count": 14,
     "metadata": {},
     "output_type": "execute_result"
    }
   ],
   "source": [
    "fg = read_volume(f_pred, \"predictions/full_masked_dice_s0_64x256x256/fg\", roi)\n",
    "v.add_image(fg, name=\"fg\")"
   ]
  },
  {
   "cell_type": "code",
   "execution_count": null,
   "metadata": {},
   "outputs": [],
   "source": []
  }
 ],
 "metadata": {
  "interpreter": {
   "hash": "cc1c03ff80a13df21eb451e0f9d6c275c99a059287021003aab271766020f90b"
  },
  "kernelspec": {
   "display_name": "Python [conda env:napari_env] *",
   "language": "python",
   "name": "conda-env-napari_env-py"
  },
  "language_info": {
   "codemirror_mode": {
    "name": "ipython",
    "version": 3
   },
   "file_extension": ".py",
   "mimetype": "text/x-python",
   "name": "python",
   "nbconvert_exporter": "python",
   "pygments_lexer": "ipython3",
   "version": "3.10.4"
  }
 },
 "nbformat": 4,
 "nbformat_minor": 2
}
