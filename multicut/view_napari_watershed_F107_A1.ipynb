{
 "cells": [
  {
   "cell_type": "code",
   "execution_count": 1,
   "metadata": {},
   "outputs": [],
   "source": [
    "import napari\n",
    "import numpy as np\n",
    "import matplotlib.pyplot as plt\n",
    "import z5py\n",
    "from pathlib import Path\n",
    "import numpy as np\n",
    "\n",
    "from cryofib.n5_utils import read_volume, print_key_tree, write_volume\n",
    "from cryofib.napari_utils import napari_add_group"
   ]
  },
  {
   "cell_type": "markdown",
   "metadata": {},
   "source": [
    "## View n5 datasets"
   ]
  },
  {
   "cell_type": "code",
   "execution_count": 2,
   "metadata": {},
   "outputs": [],
   "source": [
    "# data_dir = Path(\"/g/kreshuk/buglakova/data/cryofib/segm_fibsem/F107\")\n",
    "em_n5_path = Path(\"/scratch/buglakova/data/cryofib/segm_fibsem/F107/F107_A1_em.n5\")\n",
    "pred_n5_path = Path(\"/scratch/buglakova/data/cryofib/segm_fibsem/F107/F107_A1_em_3Dunet.n5\")\n",
    "ws_n5_path = Path(\"/scratch/buglakova/data/cryofib/segm_fibsem/F107/F107_A1_em_3Dwatershed.n5\")\n",
    "\n",
    "f_em = z5py.File(em_n5_path, \"r\")\n",
    "f_ws = z5py.File(ws_n5_path, \"a\")"
   ]
  },
  {
   "cell_type": "code",
   "execution_count": 3,
   "metadata": {},
   "outputs": [
    {
     "name": "stdout",
     "output_type": "stream",
     "text": [
      "Key structure of z5 file /scratch/buglakova/data/cryofib/segm_fibsem/F107/F107_A1_em.n5\n",
      "raw_norm\n",
      "fg_mask\n",
      "segmentation\n",
      "segmentation/ground_truth_channels\n",
      "segmentation/ground_truth\n",
      "segmentation/edoardo\n",
      "segmentation/edoardo/foreground\n",
      "segmentation/edoardo/boundaries\n",
      "segmentation/nuclei\n",
      "raw\n"
     ]
    }
   ],
   "source": [
    "print_key_tree(f_em)"
   ]
  },
  {
   "cell_type": "code",
   "execution_count": 4,
   "metadata": {},
   "outputs": [
    {
     "name": "stdout",
     "output_type": "stream",
     "text": [
      "Key structure of z5 file /scratch/buglakova/data/cryofib/segm_fibsem/F107/F107_A1_em_3Dwatershed.n5\n",
      "predictions\n",
      "predictions/3D_watershed\n",
      "predictions/3D_watershed_uint32\n"
     ]
    }
   ],
   "source": [
    "print_key_tree(f_ws)"
   ]
  },
  {
   "cell_type": "markdown",
   "metadata": {},
   "source": [
    "## Read volumes"
   ]
  },
  {
   "cell_type": "code",
   "execution_count": 5,
   "metadata": {},
   "outputs": [
    {
     "name": "stdout",
     "output_type": "stream",
     "text": [
      "<class 'z5py.file.File'>\n",
      "Reading roi slice(None, None, None) of volume raw from /scratch/buglakova/data/cryofib/segm_fibsem/F107/F107_A1_em.n5\n",
      "Read volume with shape (1350, 1506, 1647), data type uint8\n",
      "<class 'pathlib.PosixPath'>\n",
      "Reading roi slice(None, None, None) of volume predictions/2D_s0_quantile_norm_mean/boundaries from /scratch/buglakova/data/cryofib/segm_fibsem/F107/F107_A1_em_3Dunet.n5\n",
      "Read volume with shape (1350, 1506, 1647), data type float64\n",
      "<class 'pathlib.PosixPath'>\n",
      "Reading roi slice(None, None, None) of volume predictions/3D_watershed from /scratch/buglakova/data/cryofib/segm_fibsem/F107/F107_A1_em_3Dwatershed.n5\n",
      "Read volume with shape (1350, 1506, 1647), data type uint64\n"
     ]
    }
   ],
   "source": [
    "roi = np.s_[:]\n",
    "em = read_volume(f_em, \"raw\", roi)\n",
    "boundaries = read_volume(pred_n5_path, \"predictions/2D_s0_quantile_norm_mean/boundaries\", roi)\n",
    "ws = read_volume(ws_n5_path, \"predictions/3D_watershed\", roi)"
   ]
  },
  {
   "cell_type": "code",
   "execution_count": null,
   "metadata": {},
   "outputs": [
    {
     "name": "stdout",
     "output_type": "stream",
     "text": [
      "<class 'pathlib.PosixPath'>\n",
      "Reading roi slice(None, None, None) of volume segmentation/corrected_instances from /g/kreshuk/buglakova/data/cryofib/segm_fibsem/F107/F107_A1_em.n5\n"
     ]
    }
   ],
   "source": [
    "gt = read_volume(Path(\"/g/kreshuk/buglakova/data/cryofib/segm_fibsem/F107/F107_A1_em.n5\"), \"segmentation/corrected_instances\", roi)"
   ]
  },
  {
   "cell_type": "code",
   "execution_count": null,
   "metadata": {},
   "outputs": [],
   "source": [
    "# write_volume(f_ws, ws.astype(np.uint32), \"predictions/3D_watershed_uint32\")"
   ]
  },
  {
   "cell_type": "markdown",
   "metadata": {},
   "source": [
    "## Open raw in napari"
   ]
  },
  {
   "cell_type": "code",
   "execution_count": null,
   "metadata": {},
   "outputs": [],
   "source": [
    "v = napari.Viewer()"
   ]
  },
  {
   "cell_type": "code",
   "execution_count": null,
   "metadata": {},
   "outputs": [],
   "source": [
    "v.add_image(em, name=\"raw\")\n",
    "v.add_image(boundaries, name=\"boundaries\")\n",
    "v.add_labels(ws, name=\"ws\")\n"
   ]
  },
  {
   "cell_type": "code",
   "execution_count": null,
   "metadata": {},
   "outputs": [],
   "source": [
    "v.add_labels(gt, name=\"gt\")"
   ]
  },
  {
   "cell_type": "code",
   "execution_count": null,
   "metadata": {},
   "outputs": [],
   "source": []
  }
 ],
 "metadata": {
  "interpreter": {
   "hash": "cc1c03ff80a13df21eb451e0f9d6c275c99a059287021003aab271766020f90b"
  },
  "kernelspec": {
   "display_name": "Python [conda env:napari_env] *",
   "language": "python",
   "name": "conda-env-napari_env-py"
  },
  "language_info": {
   "codemirror_mode": {
    "name": "ipython",
    "version": 3
   },
   "file_extension": ".py",
   "mimetype": "text/x-python",
   "name": "python",
   "nbconvert_exporter": "python",
   "pygments_lexer": "ipython3",
   "version": "3.10.4"
  }
 },
 "nbformat": 4,
 "nbformat_minor": 2
}
