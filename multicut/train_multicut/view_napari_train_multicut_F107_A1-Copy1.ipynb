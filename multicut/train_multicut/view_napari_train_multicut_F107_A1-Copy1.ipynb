{
 "cells": [
  {
   "cell_type": "code",
   "execution_count": 1,
   "metadata": {},
   "outputs": [],
   "source": [
    "import napari\n",
    "import numpy as np\n",
    "import matplotlib.pyplot as plt\n",
    "import z5py\n",
    "from pathlib import Path\n",
    "\n",
    "from cryofib.n5_utils import read_volume, print_key_tree\n",
    "from cryofib.napari_utils import napari_add_group"
   ]
  },
  {
   "cell_type": "markdown",
   "metadata": {},
   "source": [
    "## View n5 datasets"
   ]
  },
  {
   "cell_type": "code",
   "execution_count": 2,
   "metadata": {},
   "outputs": [],
   "source": [
    "train_multicut_path = Path(\"/scratch/buglakova/data/cryofib/segm_fibsem/F107/F107_A1_train_multicut_roi.n5\")\n",
    "f_em = z5py.File(train_multicut_path, \"r\")"
   ]
  },
  {
   "cell_type": "code",
   "execution_count": 3,
   "metadata": {},
   "outputs": [
    {
     "name": "stdout",
     "output_type": "stream",
     "text": [
      "Key structure of z5 file /scratch/buglakova/data/cryofib/segm_fibsem/F107/F107_A1_train_multicut_roi.n5\n",
      "raw\n",
      "segmentation\n",
      "segmentation/rf_multicut\n"
     ]
    }
   ],
   "source": [
    "print_key_tree(f_em)"
   ]
  },
  {
   "cell_type": "markdown",
   "metadata": {},
   "source": [
    "## Read volumes"
   ]
  },
  {
   "cell_type": "code",
   "execution_count": 13,
   "metadata": {},
   "outputs": [
    {
     "name": "stdout",
     "output_type": "stream",
     "text": [
      "<class 'z5py.file.File'>\n",
      "Reading roi slice(None, None, None) of volume raw from /scratch/buglakova/data/cryofib/segm_fibsem/F107/F107_A1_train_multicut_roi.n5\n",
      "Read volume with shape (300, 800, 400), data type uint8\n",
      "<class 'z5py.file.File'>\n",
      "Reading roi slice(None, None, None) of volume segmentation/rf_multicut from /scratch/buglakova/data/cryofib/segm_fibsem/F107/F107_A1_train_multicut_roi.n5\n",
      "Read volume with shape (300, 800, 400), data type uint64\n",
      "<class 'z5py.file.File'>\n",
      "Reading roi slice(None, None, None) of volume segmentation/3Dwatershed from /scratch/buglakova/data/cryofib/segm_fibsem/F107/F107_A1_train_multicut_roi.n5\n",
      "Read volume with shape (300, 800, 400), data type uint64\n",
      "<class 'z5py.file.File'>\n",
      "Reading roi slice(None, None, None) of volume boundaries from /scratch/buglakova/data/cryofib/segm_fibsem/F107/F107_A1_train_multicut_roi.n5\n",
      "Read volume with shape (300, 800, 400), data type float64\n"
     ]
    }
   ],
   "source": [
    "roi = np.s_[:]\n",
    "em = read_volume(f_em, \"raw\", roi)\n",
    "em_segm = read_volume(f_em, \"segmentation/rf_multicut\", roi)\n",
    "ws = read_volume(f_em, \"segmentation/3Dwatershed\", roi)\n",
    "boundaries = read_volume(f_em, \"boundaries\", roi)"
   ]
  },
  {
   "cell_type": "markdown",
   "metadata": {},
   "source": [
    "## Open raw in napari"
   ]
  },
  {
   "cell_type": "code",
   "execution_count": 14,
   "metadata": {},
   "outputs": [],
   "source": [
    "v = napari.Viewer()"
   ]
  },
  {
   "cell_type": "code",
   "execution_count": 15,
   "metadata": {},
   "outputs": [
    {
     "data": {
      "text/plain": [
       "<Labels layer 'ws' at 0x7f3aa3769120>"
      ]
     },
     "execution_count": 15,
     "metadata": {},
     "output_type": "execute_result"
    }
   ],
   "source": [
    "v.add_image(em, name=\"raw\")\n",
    "v.add_image(boundaries, name=\"boundaries\")\n",
    "v.add_labels(em_segm, name=\"em_segm\")\n",
    "v.add_labels(ws, name=\"ws\")"
   ]
  },
  {
   "cell_type": "code",
   "execution_count": null,
   "metadata": {},
   "outputs": [],
   "source": []
  }
 ],
 "metadata": {
  "kernelspec": {
   "display_name": "Python 3 (ipykernel)",
   "language": "python",
   "name": "python3"
  },
  "language_info": {
   "codemirror_mode": {
    "name": "ipython",
    "version": 3
   },
   "file_extension": ".py",
   "mimetype": "text/x-python",
   "name": "python",
   "nbconvert_exporter": "python",
   "pygments_lexer": "ipython3",
   "version": "3.10.4"
  },
  "vscode": {
   "interpreter": {
    "hash": "cc1c03ff80a13df21eb451e0f9d6c275c99a059287021003aab271766020f90b"
   }
  }
 },
 "nbformat": 4,
 "nbformat_minor": 2
}
