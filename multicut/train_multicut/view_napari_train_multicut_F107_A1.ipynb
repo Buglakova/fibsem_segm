{
 "cells": [
  {
   "cell_type": "code",
   "execution_count": 1,
   "metadata": {},
   "outputs": [],
   "source": [
    "import napari\n",
    "import numpy as np\n",
    "import matplotlib.pyplot as plt\n",
    "import z5py\n",
    "from pathlib import Path\n",
    "\n",
    "from cryofib.n5_utils import read_volume, print_key_tree\n",
    "from cryofib.napari_utils import napari_add_group"
   ]
  },
  {
   "cell_type": "markdown",
   "metadata": {},
   "source": [
    "## View n5 datasets"
   ]
  },
  {
   "cell_type": "code",
   "execution_count": 2,
   "metadata": {},
   "outputs": [],
   "source": [
    "train_multicut_path = Path(\"/scratch/buglakova/data/cryofib/segm_fibsem/F107/F107_A1_train_multicut.n5\")\n",
    "f_em = z5py.File(train_multicut_path, \"r\")"
   ]
  },
  {
   "cell_type": "code",
   "execution_count": 3,
   "metadata": {},
   "outputs": [
    {
     "name": "stdout",
     "output_type": "stream",
     "text": [
      "Key structure of z5 file /scratch/buglakova/data/cryofib/segm_fibsem/F107/F107_A1_train_multicut.n5\n",
      "predictions\n",
      "predictions/extra\n",
      "predictions/boundaries\n",
      "input\n",
      "input/gt_instance_segmentation\n",
      "input/gt_instance_no_boundaries\n",
      "input/junctions\n",
      "input/raw\n",
      "input/raw_norm\n",
      "masks\n",
      "masks/fg_mask\n",
      "masks/extra_mask\n",
      "segmentation\n",
      "segmentation/rf_multicut\n",
      "segmentation/3Dwatershed\n"
     ]
    }
   ],
   "source": [
    "print_key_tree(f_em)"
   ]
  },
  {
   "cell_type": "markdown",
   "metadata": {},
   "source": [
    "## Read volumes"
   ]
  },
  {
   "cell_type": "code",
   "execution_count": 4,
   "metadata": {},
   "outputs": [
    {
     "name": "stdout",
     "output_type": "stream",
     "text": [
      "<class 'z5py.file.File'>\n",
      "Reading roi slice(None, None, None) of volume input/raw from /scratch/buglakova/data/cryofib/segm_fibsem/F107/F107_A1_train_multicut.n5\n",
      "Read volume with shape (1350, 1506, 1647), data type uint8\n",
      "<class 'z5py.file.File'>\n",
      "Reading roi slice(None, None, None) of volume segmentation/3Dwatershed from /scratch/buglakova/data/cryofib/segm_fibsem/F107/F107_A1_train_multicut.n5\n",
      "Read volume with shape (1350, 1506, 1647), data type uint64\n"
     ]
    }
   ],
   "source": [
    "roi = np.s_[:]\n",
    "em = read_volume(f_em, \"input/raw\", roi)\n",
    "# em_segm = read_volume(f_em, \"input/gt_instance_segmentation\", roi)\n",
    "# em_segm_no_boundaries = read_volume(f_em, \"input/gt_instance_no_boundaries\", roi)\n",
    "# boundaries = read_volume(f_em, \"predictions/boundaries\", roi)\n",
    "ws = read_volume(f_em, \"segmentation/3Dwatershed\", roi)\n",
    "# extra = read_volume(f_em, \"predictions/extra\", roi)"
   ]
  },
  {
   "cell_type": "code",
   "execution_count": 8,
   "metadata": {},
   "outputs": [
    {
     "name": "stdout",
     "output_type": "stream",
     "text": [
      "<class 'z5py.file.File'>\n",
      "Reading roi slice(None, None, None) of volume masks/extra_mask from /scratch/buglakova/data/cryofib/segm_fibsem/F107/F107_A1_train_multicut.n5\n",
      "Read volume with shape (1350, 1506, 1647), data type int32\n"
     ]
    }
   ],
   "source": [
    "extra_mask = read_volume(f_em, \"masks/extra_mask\", roi)"
   ]
  },
  {
   "cell_type": "code",
   "execution_count": 5,
   "metadata": {},
   "outputs": [
    {
     "name": "stdout",
     "output_type": "stream",
     "text": [
      "<class 'z5py.file.File'>\n",
      "Reading roi slice(None, None, None) of volume segmentation/rf_multicut from /scratch/buglakova/data/cryofib/segm_fibsem/F107/F107_A1_train_multicut.n5\n",
      "Read volume with shape (1350, 1506, 1647), data type uint64\n"
     ]
    }
   ],
   "source": [
    "em_segm_rf = read_volume(f_em, \"segmentation/rf_multicut\", roi)"
   ]
  },
  {
   "cell_type": "markdown",
   "metadata": {},
   "source": [
    "## Open raw in napari"
   ]
  },
  {
   "cell_type": "code",
   "execution_count": 6,
   "metadata": {},
   "outputs": [
    {
     "name": "stderr",
     "output_type": "stream",
     "text": [
      "WARNING: QStandardPaths: XDG_RUNTIME_DIR not set, defaulting to '/tmp/runtime-buglakov'\n"
     ]
    }
   ],
   "source": [
    "v = napari.Viewer()"
   ]
  },
  {
   "cell_type": "code",
   "execution_count": 7,
   "metadata": {},
   "outputs": [
    {
     "ename": "NameError",
     "evalue": "name 'boundaries' is not defined",
     "output_type": "error",
     "traceback": [
      "\u001b[0;31m---------------------------------------------------------------------------\u001b[0m",
      "\u001b[0;31mNameError\u001b[0m                                 Traceback (most recent call last)",
      "Input \u001b[0;32mIn [7]\u001b[0m, in \u001b[0;36m<cell line: 2>\u001b[0;34m()\u001b[0m\n\u001b[1;32m      1\u001b[0m v\u001b[38;5;241m.\u001b[39madd_image(em, name\u001b[38;5;241m=\u001b[39m\u001b[38;5;124m\"\u001b[39m\u001b[38;5;124mraw\u001b[39m\u001b[38;5;124m\"\u001b[39m)\n\u001b[0;32m----> 2\u001b[0m v\u001b[38;5;241m.\u001b[39madd_image(\u001b[43mboundaries\u001b[49m, name\u001b[38;5;241m=\u001b[39m\u001b[38;5;124m\"\u001b[39m\u001b[38;5;124mboundaries\u001b[39m\u001b[38;5;124m\"\u001b[39m)\n\u001b[1;32m      3\u001b[0m v\u001b[38;5;241m.\u001b[39madd_labels(ws, name\u001b[38;5;241m=\u001b[39m\u001b[38;5;124m\"\u001b[39m\u001b[38;5;124mws\u001b[39m\u001b[38;5;124m\"\u001b[39m)\n",
      "\u001b[0;31mNameError\u001b[0m: name 'boundaries' is not defined"
     ]
    }
   ],
   "source": [
    "v.add_image(em, name=\"raw\")\n",
    "v.add_image(boundaries, name=\"boundaries\")\n",
    "v.add_labels(ws, name=\"ws\")\n",
    "# v.add_labels(em_segm, name=\"em_segm\")"
   ]
  },
  {
   "cell_type": "code",
   "execution_count": 8,
   "metadata": {},
   "outputs": [
    {
     "data": {
      "text/plain": [
       "<Labels layer 'em_segm' at 0x7f5a006c4f40>"
      ]
     },
     "execution_count": 8,
     "metadata": {},
     "output_type": "execute_result"
    }
   ],
   "source": [
    "v.add_labels(em_segm_rf, name=\"em_segm\")"
   ]
  },
  {
   "cell_type": "code",
   "execution_count": 7,
   "metadata": {},
   "outputs": [
    {
     "data": {
      "text/plain": [
       "<Labels layer 'no boundaries' at 0x7f8ac4369fc0>"
      ]
     },
     "execution_count": 7,
     "metadata": {},
     "output_type": "execute_result"
    }
   ],
   "source": [
    "v.add_labels(em_segm_no_boundaries, name=\"no boundaries\")"
   ]
  },
  {
   "cell_type": "code",
   "execution_count": null,
   "metadata": {},
   "outputs": [],
   "source": [
    "extra_mask = (em < 80).astype(np.int32)\n",
    "extra_mask = extra_mask * (boundaries + extra)\n",
    "v.add_image(extra_mask, name=\"extra_mask\")"
   ]
  },
  {
   "cell_type": "code",
   "execution_count": 9,
   "metadata": {},
   "outputs": [
    {
     "data": {
      "text/plain": [
       "<Labels layer 'extra_mask [1]' at 0x7fc6b022ca90>"
      ]
     },
     "execution_count": 9,
     "metadata": {},
     "output_type": "execute_result"
    }
   ],
   "source": [
    "v.add_labels(extra_mask, name=\"extra_mask\")"
   ]
  },
  {
   "cell_type": "code",
   "execution_count": 9,
   "metadata": {},
   "outputs": [
    {
     "data": {
      "text/plain": [
       "<Image layer 'extra' at 0x7f109c2df3d0>"
      ]
     },
     "execution_count": 9,
     "metadata": {},
     "output_type": "execute_result"
    }
   ],
   "source": [
    "v.add_image(extra, name=\"extra\")"
   ]
  },
  {
   "cell_type": "code",
   "execution_count": 11,
   "metadata": {},
   "outputs": [
    {
     "data": {
      "text/plain": [
       "(array([5.9333730e+06, 0.0000000e+00, 3.7224540e+06, 0.0000000e+00,\n",
       "        2.8337030e+06, 0.0000000e+00, 2.3124480e+06, 0.0000000e+00,\n",
       "        1.9744580e+06, 0.0000000e+00, 1.7370310e+06, 0.0000000e+00,\n",
       "        1.5622760e+06, 0.0000000e+00, 1.4363490e+06, 0.0000000e+00,\n",
       "        1.3353900e+06, 0.0000000e+00, 1.2530960e+06, 0.0000000e+00,\n",
       "        1.1856830e+06, 0.0000000e+00, 1.1297310e+06, 0.0000000e+00,\n",
       "        1.0855850e+06, 0.0000000e+00, 1.0501780e+06, 0.0000000e+00,\n",
       "        1.0209910e+06, 0.0000000e+00, 9.9833300e+05, 0.0000000e+00,\n",
       "        9.7927400e+05, 0.0000000e+00, 9.6715600e+05, 0.0000000e+00,\n",
       "        9.5931500e+05, 0.0000000e+00, 9.5912600e+05, 0.0000000e+00,\n",
       "        9.6263200e+05, 0.0000000e+00, 9.7136700e+05, 0.0000000e+00,\n",
       "        9.8737800e+05, 0.0000000e+00, 1.0047900e+06, 0.0000000e+00,\n",
       "        1.0282970e+06, 0.0000000e+00, 1.0469710e+06, 0.0000000e+00,\n",
       "        1.0672050e+06, 0.0000000e+00, 1.0853050e+06, 0.0000000e+00,\n",
       "        1.1049240e+06, 0.0000000e+00, 1.1241960e+06, 0.0000000e+00,\n",
       "        1.1434350e+06, 0.0000000e+00, 1.1616040e+06, 0.0000000e+00,\n",
       "        1.1849450e+06, 0.0000000e+00, 1.2116020e+06, 0.0000000e+00,\n",
       "        1.2384180e+06, 0.0000000e+00, 1.2720890e+06, 0.0000000e+00,\n",
       "        1.3086580e+06, 0.0000000e+00, 1.3509850e+06, 0.0000000e+00,\n",
       "        1.3992340e+06, 0.0000000e+00, 1.4532960e+06, 0.0000000e+00,\n",
       "        1.5199380e+06, 0.0000000e+00, 1.5948520e+06, 0.0000000e+00,\n",
       "        1.6779530e+06, 0.0000000e+00, 1.7750700e+06, 0.0000000e+00,\n",
       "        1.8831980e+06, 0.0000000e+00, 2.0024210e+06, 0.0000000e+00,\n",
       "        2.1344780e+06, 0.0000000e+00, 2.2791860e+06, 0.0000000e+00,\n",
       "        2.4416160e+06, 0.0000000e+00, 2.6145730e+06, 0.0000000e+00,\n",
       "        2.8020880e+06, 0.0000000e+00, 3.0015410e+06, 0.0000000e+00,\n",
       "        3.2131820e+06, 0.0000000e+00, 3.4385530e+06, 0.0000000e+00,\n",
       "        3.6524330e+06, 0.0000000e+00, 3.8756590e+06, 0.0000000e+00,\n",
       "        4.0979220e+06, 0.0000000e+00, 4.3396020e+06, 0.0000000e+00,\n",
       "        4.6032250e+06, 0.0000000e+00, 4.9187370e+06, 0.0000000e+00,\n",
       "        5.2914840e+06, 0.0000000e+00, 5.7114850e+06, 0.0000000e+00,\n",
       "        6.1554610e+06, 0.0000000e+00, 6.5825360e+06, 0.0000000e+00,\n",
       "        6.9365630e+06, 0.0000000e+00, 7.1778860e+06, 0.0000000e+00,\n",
       "        7.2678290e+06, 0.0000000e+00, 7.2012970e+06, 0.0000000e+00,\n",
       "        6.9918630e+06, 0.0000000e+00, 6.6767370e+06, 0.0000000e+00,\n",
       "        6.3172720e+06, 0.0000000e+00, 5.9531480e+06, 0.0000000e+00,\n",
       "        5.6224330e+06, 0.0000000e+00, 5.3559260e+06, 0.0000000e+00,\n",
       "        5.1477810e+06, 0.0000000e+00, 5.0025490e+06, 0.0000000e+00,\n",
       "        4.9065390e+06, 0.0000000e+00, 4.8595080e+06, 0.0000000e+00,\n",
       "        4.8473110e+06, 0.0000000e+00, 4.8626220e+06, 0.0000000e+00,\n",
       "        4.9032930e+06, 0.0000000e+00, 4.9724610e+06, 0.0000000e+00,\n",
       "        5.0588180e+06, 0.0000000e+00, 5.1796970e+06, 0.0000000e+00,\n",
       "        5.3240580e+06, 0.0000000e+00, 5.4783680e+06, 0.0000000e+00,\n",
       "        5.6621900e+06, 0.0000000e+00, 5.8717820e+06, 0.0000000e+00,\n",
       "        6.1005780e+06, 0.0000000e+00, 6.3433920e+06, 0.0000000e+00,\n",
       "        6.6133710e+06, 0.0000000e+00, 6.8889080e+06, 0.0000000e+00,\n",
       "        7.1907100e+06, 0.0000000e+00, 7.5092470e+06, 0.0000000e+00,\n",
       "        7.8393480e+06, 0.0000000e+00, 8.1895220e+06, 0.0000000e+00,\n",
       "        8.5490940e+06, 0.0000000e+00, 8.9228130e+06, 0.0000000e+00,\n",
       "        9.3208500e+06, 0.0000000e+00, 9.7317220e+06, 0.0000000e+00,\n",
       "        1.0174940e+07, 0.0000000e+00, 1.0647058e+07, 0.0000000e+00,\n",
       "        1.1135055e+07, 0.0000000e+00, 1.1662316e+07, 0.0000000e+00,\n",
       "        1.2221757e+07, 0.0000000e+00, 1.2809634e+07, 0.0000000e+00,\n",
       "        1.3427433e+07, 0.0000000e+00, 1.4074138e+07, 0.0000000e+00,\n",
       "        1.4743756e+07, 0.0000000e+00, 1.5444390e+07, 0.0000000e+00,\n",
       "        1.6162385e+07, 0.0000000e+00, 1.6919200e+07, 0.0000000e+00,\n",
       "        1.7697341e+07, 0.0000000e+00, 1.8519918e+07, 0.0000000e+00,\n",
       "        1.9361885e+07, 0.0000000e+00, 2.0255511e+07, 0.0000000e+00,\n",
       "        2.1166629e+07, 0.0000000e+00, 2.2088733e+07, 0.0000000e+00,\n",
       "        2.3040954e+07, 0.0000000e+00, 2.3993901e+07, 0.0000000e+00,\n",
       "        2.4979317e+07, 0.0000000e+00, 2.5940467e+07, 0.0000000e+00,\n",
       "        2.6922508e+07, 0.0000000e+00, 2.7880213e+07, 0.0000000e+00,\n",
       "        2.8830373e+07, 0.0000000e+00, 0.0000000e+00, 2.9761224e+07,\n",
       "        0.0000000e+00, 3.0644801e+07, 0.0000000e+00, 3.1500499e+07,\n",
       "        0.0000000e+00, 3.2293159e+07, 0.0000000e+00, 3.3025560e+07,\n",
       "        0.0000000e+00, 3.3670861e+07, 0.0000000e+00, 3.4239540e+07,\n",
       "        0.0000000e+00, 3.4706912e+07, 0.0000000e+00, 3.5073535e+07,\n",
       "        0.0000000e+00, 3.5338843e+07, 0.0000000e+00, 3.5498300e+07,\n",
       "        0.0000000e+00, 3.5541779e+07, 0.0000000e+00, 3.5493870e+07,\n",
       "        0.0000000e+00, 3.5351540e+07, 0.0000000e+00, 3.5135316e+07,\n",
       "        0.0000000e+00, 3.4795562e+07, 0.0000000e+00, 3.4408039e+07,\n",
       "        0.0000000e+00, 3.3950590e+07, 0.0000000e+00, 3.3446559e+07,\n",
       "        0.0000000e+00, 3.2895042e+07, 0.0000000e+00, 3.2310127e+07,\n",
       "        0.0000000e+00, 3.1681414e+07, 0.0000000e+00, 3.1041373e+07,\n",
       "        0.0000000e+00, 3.0396146e+07, 0.0000000e+00, 2.9728531e+07,\n",
       "        0.0000000e+00, 2.9059154e+07, 0.0000000e+00, 2.8381425e+07,\n",
       "        0.0000000e+00, 2.7710232e+07, 0.0000000e+00, 2.7045299e+07,\n",
       "        0.0000000e+00, 2.6375423e+07, 0.0000000e+00, 2.5725870e+07,\n",
       "        0.0000000e+00, 2.5067425e+07, 0.0000000e+00, 2.4432161e+07,\n",
       "        0.0000000e+00, 2.3764265e+07, 0.0000000e+00, 2.3112259e+07,\n",
       "        0.0000000e+00, 2.2444987e+07, 0.0000000e+00, 2.1754167e+07,\n",
       "        0.0000000e+00, 2.1069319e+07, 0.0000000e+00, 2.0376090e+07,\n",
       "        0.0000000e+00, 1.9651094e+07, 0.0000000e+00, 1.8922438e+07,\n",
       "        0.0000000e+00, 1.8184195e+07, 0.0000000e+00, 1.7446203e+07,\n",
       "        0.0000000e+00, 1.6704367e+07, 0.0000000e+00, 1.5966392e+07,\n",
       "        0.0000000e+00, 1.5241144e+07, 0.0000000e+00, 1.4523245e+07,\n",
       "        0.0000000e+00, 1.3815862e+07, 0.0000000e+00, 1.3124678e+07,\n",
       "        0.0000000e+00, 1.2454166e+07, 0.0000000e+00, 1.1800582e+07,\n",
       "        0.0000000e+00, 1.1164252e+07, 0.0000000e+00, 1.0547355e+07,\n",
       "        0.0000000e+00, 9.9581070e+06, 0.0000000e+00, 9.3849840e+06,\n",
       "        0.0000000e+00, 8.8268500e+06, 0.0000000e+00, 8.2862140e+06,\n",
       "        0.0000000e+00, 7.7635810e+06, 0.0000000e+00, 7.2617410e+06,\n",
       "        0.0000000e+00, 6.7706850e+06, 0.0000000e+00, 6.2996340e+06,\n",
       "        0.0000000e+00, 5.8422270e+06, 0.0000000e+00, 5.4080930e+06,\n",
       "        0.0000000e+00, 4.9801680e+06, 0.0000000e+00, 4.5737860e+06,\n",
       "        0.0000000e+00, 4.1936890e+06, 0.0000000e+00, 3.8283470e+06,\n",
       "        0.0000000e+00, 3.4764090e+06, 0.0000000e+00, 3.1527350e+06,\n",
       "        0.0000000e+00, 2.8468840e+06, 0.0000000e+00, 2.5629430e+06,\n",
       "        0.0000000e+00, 2.2991540e+06, 0.0000000e+00, 2.0564690e+06,\n",
       "        0.0000000e+00, 1.8331100e+06, 0.0000000e+00, 1.6351750e+06,\n",
       "        0.0000000e+00, 1.4527170e+06, 0.0000000e+00, 1.2910540e+06,\n",
       "        0.0000000e+00, 1.1430790e+06, 0.0000000e+00, 1.0159030e+06,\n",
       "        0.0000000e+00, 8.9867900e+05, 0.0000000e+00, 7.9688000e+05,\n",
       "        0.0000000e+00, 7.0819400e+05, 0.0000000e+00, 6.2872200e+05,\n",
       "        0.0000000e+00, 5.5991600e+05, 0.0000000e+00, 4.9877000e+05,\n",
       "        0.0000000e+00, 4.4510500e+05, 0.0000000e+00, 3.9847100e+05,\n",
       "        0.0000000e+00, 3.5555100e+05, 0.0000000e+00, 3.1785800e+05,\n",
       "        0.0000000e+00, 2.8542400e+05, 0.0000000e+00, 2.5610800e+05,\n",
       "        0.0000000e+00, 2.2918000e+05, 0.0000000e+00, 2.0620700e+05,\n",
       "        0.0000000e+00, 1.8574300e+05, 0.0000000e+00, 1.6740300e+05,\n",
       "        0.0000000e+00, 1.5080300e+05, 0.0000000e+00, 1.3659800e+05,\n",
       "        0.0000000e+00, 1.2383000e+05, 0.0000000e+00, 1.1221200e+05,\n",
       "        0.0000000e+00, 1.0292900e+05, 0.0000000e+00, 9.4010000e+04,\n",
       "        0.0000000e+00, 8.6763000e+04, 0.0000000e+00, 8.0285000e+04,\n",
       "        0.0000000e+00, 7.4108000e+04, 0.0000000e+00, 6.8857000e+04,\n",
       "        0.0000000e+00, 6.4857000e+04, 0.0000000e+00, 6.0599000e+04,\n",
       "        0.0000000e+00, 5.6908000e+04, 0.0000000e+00, 5.2393000e+04,\n",
       "        0.0000000e+00, 4.7934000e+04, 0.0000000e+00, 4.2716000e+04,\n",
       "        0.0000000e+00, 3.7077000e+04, 0.0000000e+00, 3.0663000e+04,\n",
       "        0.0000000e+00, 2.3737000e+04, 0.0000000e+00, 1.7467000e+04,\n",
       "        0.0000000e+00, 1.1771000e+04, 0.0000000e+00, 7.4580000e+03,\n",
       "        0.0000000e+00, 4.4120000e+03, 0.0000000e+00, 2.3080000e+03,\n",
       "        0.0000000e+00, 9.8400000e+02, 0.0000000e+00, 3.8100000e+02,\n",
       "        0.0000000e+00, 9.6000000e+01, 0.0000000e+00, 2.3000000e+01,\n",
       "        0.0000000e+00, 8.0000000e+00, 0.0000000e+00, 1.0000000e+00]),\n",
       " array([  1.   ,   1.498,   1.996,   2.494,   2.992,   3.49 ,   3.988,\n",
       "          4.486,   4.984,   5.482,   5.98 ,   6.478,   6.976,   7.474,\n",
       "          7.972,   8.47 ,   8.968,   9.466,   9.964,  10.462,  10.96 ,\n",
       "         11.458,  11.956,  12.454,  12.952,  13.45 ,  13.948,  14.446,\n",
       "         14.944,  15.442,  15.94 ,  16.438,  16.936,  17.434,  17.932,\n",
       "         18.43 ,  18.928,  19.426,  19.924,  20.422,  20.92 ,  21.418,\n",
       "         21.916,  22.414,  22.912,  23.41 ,  23.908,  24.406,  24.904,\n",
       "         25.402,  25.9  ,  26.398,  26.896,  27.394,  27.892,  28.39 ,\n",
       "         28.888,  29.386,  29.884,  30.382,  30.88 ,  31.378,  31.876,\n",
       "         32.374,  32.872,  33.37 ,  33.868,  34.366,  34.864,  35.362,\n",
       "         35.86 ,  36.358,  36.856,  37.354,  37.852,  38.35 ,  38.848,\n",
       "         39.346,  39.844,  40.342,  40.84 ,  41.338,  41.836,  42.334,\n",
       "         42.832,  43.33 ,  43.828,  44.326,  44.824,  45.322,  45.82 ,\n",
       "         46.318,  46.816,  47.314,  47.812,  48.31 ,  48.808,  49.306,\n",
       "         49.804,  50.302,  50.8  ,  51.298,  51.796,  52.294,  52.792,\n",
       "         53.29 ,  53.788,  54.286,  54.784,  55.282,  55.78 ,  56.278,\n",
       "         56.776,  57.274,  57.772,  58.27 ,  58.768,  59.266,  59.764,\n",
       "         60.262,  60.76 ,  61.258,  61.756,  62.254,  62.752,  63.25 ,\n",
       "         63.748,  64.246,  64.744,  65.242,  65.74 ,  66.238,  66.736,\n",
       "         67.234,  67.732,  68.23 ,  68.728,  69.226,  69.724,  70.222,\n",
       "         70.72 ,  71.218,  71.716,  72.214,  72.712,  73.21 ,  73.708,\n",
       "         74.206,  74.704,  75.202,  75.7  ,  76.198,  76.696,  77.194,\n",
       "         77.692,  78.19 ,  78.688,  79.186,  79.684,  80.182,  80.68 ,\n",
       "         81.178,  81.676,  82.174,  82.672,  83.17 ,  83.668,  84.166,\n",
       "         84.664,  85.162,  85.66 ,  86.158,  86.656,  87.154,  87.652,\n",
       "         88.15 ,  88.648,  89.146,  89.644,  90.142,  90.64 ,  91.138,\n",
       "         91.636,  92.134,  92.632,  93.13 ,  93.628,  94.126,  94.624,\n",
       "         95.122,  95.62 ,  96.118,  96.616,  97.114,  97.612,  98.11 ,\n",
       "         98.608,  99.106,  99.604, 100.102, 100.6  , 101.098, 101.596,\n",
       "        102.094, 102.592, 103.09 , 103.588, 104.086, 104.584, 105.082,\n",
       "        105.58 , 106.078, 106.576, 107.074, 107.572, 108.07 , 108.568,\n",
       "        109.066, 109.564, 110.062, 110.56 , 111.058, 111.556, 112.054,\n",
       "        112.552, 113.05 , 113.548, 114.046, 114.544, 115.042, 115.54 ,\n",
       "        116.038, 116.536, 117.034, 117.532, 118.03 , 118.528, 119.026,\n",
       "        119.524, 120.022, 120.52 , 121.018, 121.516, 122.014, 122.512,\n",
       "        123.01 , 123.508, 124.006, 124.504, 125.002, 125.5  , 125.998,\n",
       "        126.496, 126.994, 127.492, 127.99 , 128.488, 128.986, 129.484,\n",
       "        129.982, 130.48 , 130.978, 131.476, 131.974, 132.472, 132.97 ,\n",
       "        133.468, 133.966, 134.464, 134.962, 135.46 , 135.958, 136.456,\n",
       "        136.954, 137.452, 137.95 , 138.448, 138.946, 139.444, 139.942,\n",
       "        140.44 , 140.938, 141.436, 141.934, 142.432, 142.93 , 143.428,\n",
       "        143.926, 144.424, 144.922, 145.42 , 145.918, 146.416, 146.914,\n",
       "        147.412, 147.91 , 148.408, 148.906, 149.404, 149.902, 150.4  ,\n",
       "        150.898, 151.396, 151.894, 152.392, 152.89 , 153.388, 153.886,\n",
       "        154.384, 154.882, 155.38 , 155.878, 156.376, 156.874, 157.372,\n",
       "        157.87 , 158.368, 158.866, 159.364, 159.862, 160.36 , 160.858,\n",
       "        161.356, 161.854, 162.352, 162.85 , 163.348, 163.846, 164.344,\n",
       "        164.842, 165.34 , 165.838, 166.336, 166.834, 167.332, 167.83 ,\n",
       "        168.328, 168.826, 169.324, 169.822, 170.32 , 170.818, 171.316,\n",
       "        171.814, 172.312, 172.81 , 173.308, 173.806, 174.304, 174.802,\n",
       "        175.3  , 175.798, 176.296, 176.794, 177.292, 177.79 , 178.288,\n",
       "        178.786, 179.284, 179.782, 180.28 , 180.778, 181.276, 181.774,\n",
       "        182.272, 182.77 , 183.268, 183.766, 184.264, 184.762, 185.26 ,\n",
       "        185.758, 186.256, 186.754, 187.252, 187.75 , 188.248, 188.746,\n",
       "        189.244, 189.742, 190.24 , 190.738, 191.236, 191.734, 192.232,\n",
       "        192.73 , 193.228, 193.726, 194.224, 194.722, 195.22 , 195.718,\n",
       "        196.216, 196.714, 197.212, 197.71 , 198.208, 198.706, 199.204,\n",
       "        199.702, 200.2  , 200.698, 201.196, 201.694, 202.192, 202.69 ,\n",
       "        203.188, 203.686, 204.184, 204.682, 205.18 , 205.678, 206.176,\n",
       "        206.674, 207.172, 207.67 , 208.168, 208.666, 209.164, 209.662,\n",
       "        210.16 , 210.658, 211.156, 211.654, 212.152, 212.65 , 213.148,\n",
       "        213.646, 214.144, 214.642, 215.14 , 215.638, 216.136, 216.634,\n",
       "        217.132, 217.63 , 218.128, 218.626, 219.124, 219.622, 220.12 ,\n",
       "        220.618, 221.116, 221.614, 222.112, 222.61 , 223.108, 223.606,\n",
       "        224.104, 224.602, 225.1  , 225.598, 226.096, 226.594, 227.092,\n",
       "        227.59 , 228.088, 228.586, 229.084, 229.582, 230.08 , 230.578,\n",
       "        231.076, 231.574, 232.072, 232.57 , 233.068, 233.566, 234.064,\n",
       "        234.562, 235.06 , 235.558, 236.056, 236.554, 237.052, 237.55 ,\n",
       "        238.048, 238.546, 239.044, 239.542, 240.04 , 240.538, 241.036,\n",
       "        241.534, 242.032, 242.53 , 243.028, 243.526, 244.024, 244.522,\n",
       "        245.02 , 245.518, 246.016, 246.514, 247.012, 247.51 , 248.008,\n",
       "        248.506, 249.004, 249.502, 250.   ]),\n",
       " <BarContainer object of 500 artists>)"
      ]
     },
     "execution_count": 11,
     "metadata": {},
     "output_type": "execute_result"
    },
    {
     "data": {
      "image/png": "[encoded data removed]",
      "text/plain": [
       "<Figure size 640x480 with 1 Axes>"
      ]
     },
     "metadata": {},
     "output_type": "display_data"
    }
   ],
   "source": [
    "plt.hist(em[em > 0], bins=500)"
   ]
  },
  {
   "cell_type": "code",
   "execution_count": 12,
   "metadata": {},
   "outputs": [
    {
     "data": {
      "text/plain": [
       "<Labels layer '80' at 0x7f10940a7c70>"
      ]
     },
     "execution_count": 12,
     "metadata": {},
     "output_type": "execute_result"
    }
   ],
   "source": [
    "v.add_labels(em < 80, name=\"80\")"
   ]
  },
  {
   "cell_type": "code",
   "execution_count": 13,
   "metadata": {},
   "outputs": [
    {
     "data": {
      "text/plain": [
       "<Labels layer '50' at 0x7f10940a7f10>"
      ]
     },
     "execution_count": 13,
     "metadata": {},
     "output_type": "execute_result"
    }
   ],
   "source": [
    "v.add_labels(em < 50, name=\"50\")"
   ]
  },
  {
   "cell_type": "code",
   "execution_count": 45,
   "metadata": {},
   "outputs": [
    {
     "data": {
      "text/plain": [
       "<matplotlib.image.AxesImage at 0x7f1075a77e50>"
      ]
     },
     "execution_count": 45,
     "metadata": {},
     "output_type": "execute_result"
    },
    {
     "data": {
      "image/png": "[encoded data removed]",
      "text/plain": [
       "<Figure size 1000x1000 with 1 Axes>"
      ]
     },
     "metadata": {},
     "output_type": "display_data"
    }
   ],
   "source": [
    "plt.figure(figsize=(10, 10))\n",
    "plt.imshow(em_segm[566:568, 500:510, 400] == -1,)"
   ]
  },
  {
   "cell_type": "code",
   "execution_count": null,
   "metadata": {},
   "outputs": [],
   "source": []
  }
 ],
 "metadata": {
  "kernelspec": {
   "display_name": "Python 3 (ipykernel)",
   "language": "python",
   "name": "python3"
  },
  "language_info": {
   "codemirror_mode": {
    "name": "ipython",
    "version": 3
   },
   "file_extension": ".py",
   "mimetype": "text/x-python",
   "name": "python",
   "nbconvert_exporter": "python",
   "pygments_lexer": "ipython3",
   "version": "3.10.4"
  },
  "vscode": {
   "interpreter": {
    "hash": "cc1c03ff80a13df21eb451e0f9d6c275c99a059287021003aab271766020f90b"
   }
  }
 },
 "nbformat": 4,
 "nbformat_minor": 2
}
