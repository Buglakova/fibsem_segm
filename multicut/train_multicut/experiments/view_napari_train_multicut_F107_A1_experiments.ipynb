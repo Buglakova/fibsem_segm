{
 "cells": [
  {
   "cell_type": "code",
   "execution_count": 1,
   "metadata": {},
   "outputs": [],
   "source": [
    "import napari\n",
    "import numpy as np\n",
    "import matplotlib.pyplot as plt\n",
    "import z5py\n",
    "from pathlib import Path\n",
    "\n",
    "from cryofib.n5_utils import read_volume, print_key_tree\n",
    "from cryofib.napari_utils import napari_add_group"
   ]
  },
  {
   "cell_type": "markdown",
   "metadata": {},
   "source": [
    "## View n5 datasets"
   ]
  },
  {
   "cell_type": "code",
   "execution_count": 2,
   "metadata": {},
   "outputs": [],
   "source": [
    "train_multicut_path = Path(\"/scratch/buglakova/data/cryofib/segm_fibsem/F107/F107_A1_train_multicut.n5\")\n",
    "f_em = z5py.File(train_multicut_path, \"r\")"
   ]
  },
  {
   "cell_type": "code",
   "execution_count": 10,
   "metadata": {},
   "outputs": [
    {
     "name": "stdout",
     "output_type": "stream",
     "text": [
      "Key structure of z5 file /scratch/buglakova/data/cryofib/segm_fibsem/F107/F107_A1_train_multicut.n5\n",
      "predictions\n",
      "predictions/extra\n",
      "predictions/boundaries\n",
      "input\n",
      "input/gt_instance_segmentation\n",
      "input/gt_instance_no_boundaries\n",
      "input/junctions\n",
      "input/raw\n",
      "input/nuclei\n",
      "input/raw_norm\n",
      "masks\n",
      "masks/fg_mask\n",
      "masks/extra_mask\n",
      "segmentation\n",
      "segmentation/rf_multicut_boundary_junctions_beta05\n",
      "segmentation/rf_multicut_beta05\n",
      "segmentation/rf_multicut\n",
      "segmentation/rf_multicut_beta08\n",
      "segmentation/3Dwatershed\n",
      "segmentation/rf_multicut_beta02\n"
     ]
    }
   ],
   "source": [
    "print_key_tree(f_em)"
   ]
  },
  {
   "cell_type": "markdown",
   "metadata": {},
   "source": [
    "## Read volumes"
   ]
  },
  {
   "cell_type": "code",
   "execution_count": 4,
   "metadata": {},
   "outputs": [
    {
     "name": "stdout",
     "output_type": "stream",
     "text": [
      "<class 'z5py.file.File'>\n",
      "Reading roi slice(None, None, None) of volume input/raw from /scratch/buglakova/data/cryofib/segm_fibsem/F107/F107_A1_train_multicut.n5\n",
      "Read volume with shape (1350, 1506, 1647), data type uint8\n"
     ]
    }
   ],
   "source": [
    "roi = np.s_[:]\n",
    "em = read_volume(f_em, \"input/raw\", roi)\n",
    "# em_segm = read_volume(f_em, \"input/gt_instance_segmentation\", roi)\n",
    "# em_segm_no_boundaries = read_volume(f_em, \"input/gt_instance_no_boundaries\", roi)\n",
    "# boundaries = read_volume(f_em, \"predictions/boundaries\", roi)\n",
    "# ws = read_volume(f_em, \"segmentation/3Dwatershed\", roi)\n",
    "# extra = read_volume(f_em, \"predictions/extra\", roi)"
   ]
  },
  {
   "cell_type": "code",
   "execution_count": 5,
   "metadata": {},
   "outputs": [],
   "source": [
    "segmentation_keys = [\"segmentation/rf_multicut_boundary_junctions_beta05\", \n",
    "\"segmentation/rf_multicut_beta05\",\n",
    "\"segmentation/rf_multicut\",\n",
    "\"segmentation/rf_multicut_beta08\",\n",
    "\"segmentation/rf_multicut_beta02\"]\n",
    "\n",
    "segmentation_keys = [\"segmentation/rf_multicut_boundary_junctions_beta05\", \n",
    "\"segmentation/rf_multicut_beta05\",\n",
    "\"segmentation/rf_multicut_beta08\",\n",
    "\"segmentation/rf_multicut_beta02\"]"
   ]
  },
  {
   "cell_type": "code",
   "execution_count": 6,
   "metadata": {},
   "outputs": [
    {
     "name": "stdout",
     "output_type": "stream",
     "text": [
      "<class 'z5py.file.File'>\n",
      "Reading roi slice(None, None, None) of volume segmentation/rf_multicut_boundary_junctions_beta05 from /scratch/buglakova/data/cryofib/segm_fibsem/F107/F107_A1_train_multicut.n5\n",
      "Read volume with shape (1350, 1506, 1647), data type uint64\n",
      "<class 'z5py.file.File'>\n",
      "Reading roi slice(None, None, None) of volume segmentation/rf_multicut_beta05 from /scratch/buglakova/data/cryofib/segm_fibsem/F107/F107_A1_train_multicut.n5\n",
      "Read volume with shape (1350, 1506, 1647), data type uint64\n",
      "<class 'z5py.file.File'>\n",
      "Reading roi slice(None, None, None) of volume segmentation/rf_multicut_beta08 from /scratch/buglakova/data/cryofib/segm_fibsem/F107/F107_A1_train_multicut.n5\n",
      "Read volume with shape (1350, 1506, 1647), data type uint64\n",
      "<class 'z5py.file.File'>\n",
      "Reading roi slice(None, None, None) of volume segmentation/rf_multicut_beta02 from /scratch/buglakova/data/cryofib/segm_fibsem/F107/F107_A1_train_multicut.n5\n",
      "Read volume with shape (1350, 1506, 1647), data type uint64\n"
     ]
    }
   ],
   "source": [
    "segmentations = [read_volume(f_em, key, roi) for key in segmentation_keys]"
   ]
  },
  {
   "cell_type": "code",
   "execution_count": 11,
   "metadata": {},
   "outputs": [
    {
     "name": "stdout",
     "output_type": "stream",
     "text": [
      "<class 'z5py.file.File'>\n",
      "Reading roi slice(None, None, None) of volume input/nuclei from /scratch/buglakova/data/cryofib/segm_fibsem/F107/F107_A1_train_multicut.n5\n",
      "Read volume with shape (1350, 1506, 1647), data type uint8\n"
     ]
    }
   ],
   "source": [
    "nuclei = read_volume(f_em, \"input/nuclei\", roi)"
   ]
  },
  {
   "cell_type": "markdown",
   "metadata": {},
   "source": [
    "## Open raw in napari"
   ]
  },
  {
   "cell_type": "code",
   "execution_count": 7,
   "metadata": {},
   "outputs": [
    {
     "name": "stderr",
     "output_type": "stream",
     "text": [
      "WARNING: QStandardPaths: XDG_RUNTIME_DIR not set, defaulting to '/tmp/runtime-buglakov'\n"
     ]
    }
   ],
   "source": [
    "v = napari.Viewer()"
   ]
  },
  {
   "cell_type": "code",
   "execution_count": 8,
   "metadata": {},
   "outputs": [
    {
     "data": {
      "text/plain": [
       "<Image layer 'raw' at 0x7fb17410a5c0>"
      ]
     },
     "execution_count": 8,
     "metadata": {},
     "output_type": "execute_result"
    }
   ],
   "source": [
    "v.add_image(em, name=\"raw\")"
   ]
  },
  {
   "cell_type": "code",
   "execution_count": 9,
   "metadata": {},
   "outputs": [],
   "source": [
    "for key, segm in zip(segmentation_keys, segmentations):\n",
    "    v.add_labels(segm, name=key)"
   ]
  },
  {
   "cell_type": "code",
   "execution_count": 12,
   "metadata": {},
   "outputs": [
    {
     "data": {
      "text/plain": [
       "<Labels layer 'nuclei' at 0x7fb16c43a2c0>"
      ]
     },
     "execution_count": 12,
     "metadata": {},
     "output_type": "execute_result"
    }
   ],
   "source": [
    "v.add_labels(nuclei, name=\"nuclei\")"
   ]
  },
  {
   "cell_type": "code",
   "execution_count": null,
   "metadata": {},
   "outputs": [],
   "source": []
  }
 ],
 "metadata": {
  "kernelspec": {
   "display_name": "Python 3 (ipykernel)",
   "language": "python",
   "name": "python3"
  },
  "language_info": {
   "codemirror_mode": {
    "name": "ipython",
    "version": 3
   },
   "file_extension": ".py",
   "mimetype": "text/x-python",
   "name": "python",
   "nbconvert_exporter": "python",
   "pygments_lexer": "ipython3",
   "version": "3.10.4"
  },
  "vscode": {
   "interpreter": {
    "hash": "cc1c03ff80a13df21eb451e0f9d6c275c99a059287021003aab271766020f90b"
   }
  }
 },
 "nbformat": 4,
 "nbformat_minor": 2
}
