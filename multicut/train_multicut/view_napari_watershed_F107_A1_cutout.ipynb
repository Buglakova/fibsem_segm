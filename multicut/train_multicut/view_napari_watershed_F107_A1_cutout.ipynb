{
 "cells": [
  {
   "cell_type": "code",
   "execution_count": 1,
   "metadata": {},
   "outputs": [],
   "source": [
    "import napari\n",
    "import numpy as np\n",
    "import matplotlib.pyplot as plt\n",
    "import z5py\n",
    "from pathlib import Path\n",
    "\n",
    "from cryofib.n5_utils import read_volume, print_key_tree\n",
    "from cryofib.napari_utils import napari_add_group"
   ]
  },
  {
   "cell_type": "markdown",
   "metadata": {},
   "source": [
    "## View n5 datasets"
   ]
  },
  {
   "cell_type": "code",
   "execution_count": 2,
   "metadata": {},
   "outputs": [],
   "source": [
    "# data_dir = Path(\"/g/kreshuk/buglakova/data/cryofib/segm_fibsem/F107\")\n",
    "em_n5_path = Path(\"/scratch/buglakova/data/cryofib/segm_fibsem/F107/F107_A1_em_cutout.n5\")\n",
    "f_em = z5py.File(em_n5_path, \"r\")"
   ]
  },
  {
   "cell_type": "code",
   "execution_count": 3,
   "metadata": {},
   "outputs": [
    {
     "name": "stdout",
     "output_type": "stream",
     "text": [
      "Key structure of z5 file /scratch/buglakova/data/cryofib/segm_fibsem/F107/F107_A1_em_cutout.n5\n",
      "segmentation\n",
      "segmentation/watershed_3D\n",
      "cutout\n",
      "cutout/raw\n",
      "cutout/boundaries\n"
     ]
    }
   ],
   "source": [
    "print_key_tree(f_em)"
   ]
  },
  {
   "cell_type": "markdown",
   "metadata": {},
   "source": [
    "## Read volumes"
   ]
  },
  {
   "cell_type": "code",
   "execution_count": 4,
   "metadata": {},
   "outputs": [
    {
     "name": "stdout",
     "output_type": "stream",
     "text": [
      "<class 'z5py.file.File'>\n",
      "Reading roi slice(None, None, None) of volume cutout/raw from /scratch/buglakova/data/cryofib/segm_fibsem/F107/F107_A1_em_cutout.n5\n",
      "Read volume with shape (256, 512, 512), data type uint8\n",
      "<class 'z5py.file.File'>\n",
      "Reading roi slice(None, None, None) of volume cutout/boundaries from /scratch/buglakova/data/cryofib/segm_fibsem/F107/F107_A1_em_cutout.n5\n",
      "Read volume with shape (256, 512, 512), data type float32\n",
      "<class 'z5py.file.File'>\n",
      "Reading roi slice(None, None, None) of volume segmentation/watershed_3D from /scratch/buglakova/data/cryofib/segm_fibsem/F107/F107_A1_em_cutout.n5\n",
      "Read volume with shape (256, 512, 512), data type uint64\n"
     ]
    }
   ],
   "source": [
    "roi = np.s_[:]\n",
    "em = read_volume(f_em, \"cutout/raw\", roi)\n",
    "em_boundaries = read_volume(f_em, \"cutout/boundaries\", roi)\n",
    "em_watershed = read_volume(f_em, \"segmentation/watershed_3D\", roi)\n"
   ]
  },
  {
   "cell_type": "markdown",
   "metadata": {},
   "source": [
    "## Open raw in napari"
   ]
  },
  {
   "cell_type": "code",
   "execution_count": 5,
   "metadata": {},
   "outputs": [
    {
     "name": "stderr",
     "output_type": "stream",
     "text": [
      "WARNING: QStandardPaths: XDG_RUNTIME_DIR not set, defaulting to '/tmp/runtime-buglakov'\n"
     ]
    }
   ],
   "source": [
    "v = napari.Viewer()"
   ]
  },
  {
   "cell_type": "code",
   "execution_count": 7,
   "metadata": {},
   "outputs": [
    {
     "data": {
      "text/plain": [
       "<Labels layer 'watershed' at 0x7efcf83f10c0>"
      ]
     },
     "execution_count": 7,
     "metadata": {},
     "output_type": "execute_result"
    }
   ],
   "source": [
    "v.add_image(em, name=\"raw\")\n",
    "v.add_image(em_boundaries, name=\"boundaries\")\n",
    "v.add_labels(em_watershed, name=\"watershed\")"
   ]
  },
  {
   "cell_type": "code",
   "execution_count": null,
   "metadata": {},
   "outputs": [],
   "source": []
  }
 ],
 "metadata": {
  "kernelspec": {
   "display_name": "Python [conda env:napari_env] *",
   "language": "python",
   "name": "conda-env-napari_env-py"
  },
  "language_info": {
   "codemirror_mode": {
    "name": "ipython",
    "version": 3
   },
   "file_extension": ".py",
   "mimetype": "text/x-python",
   "name": "python",
   "nbconvert_exporter": "python",
   "pygments_lexer": "ipython3",
   "version": "3.10.4"
  },
  "vscode": {
   "interpreter": {
    "hash": "cc1c03ff80a13df21eb451e0f9d6c275c99a059287021003aab271766020f90b"
   }
  }
 },
 "nbformat": 4,
 "nbformat_minor": 2
}
